{
  "nbformat": 4,
  "nbformat_minor": 0,
  "metadata": {
    "colab": {
      "name": "LGBM_Class.ipynb",
      "provenance": [],
      "collapsed_sections": [],
      "mount_file_id": "1LdPr0ir0OkcQZNrtfk1TjB7C8R2siqQR",
      "authorship_tag": "ABX9TyOdEXTJc37d7z/BQ6SH1S2/",
      "include_colab_link": true
    },
    "kernelspec": {
      "name": "python3",
      "display_name": "Python 3"
    }
  },
  "cells": [
    {
      "cell_type": "markdown",
      "metadata": {
        "id": "view-in-github",
        "colab_type": "text"
      },
      "source": [
        "<a href=\"https://colab.research.google.com/github/kshitijmamgain/Fraud-Detection/blob/master/LGBM_Class.ipynb\" target=\"_parent\"><img src=\"https://colab.research.google.com/assets/colab-badge.svg\" alt=\"Open In Colab\"/></a>"
      ]
    },
    {
      "cell_type": "code",
      "metadata": {
        "id": "E9giNI1aOu8N",
        "colab_type": "code",
        "outputId": "c153764b-1335-4103-e42d-49bf2ae8758b",
        "colab": {
          "base_uri": "https://localhost:8080/",
          "height": 1000
        }
      },
      "source": [
        "!pip install optuna"
      ],
      "execution_count": 2,
      "outputs": [
        {
          "output_type": "stream",
          "text": [
            "Collecting optuna\n",
            "\u001b[?25l  Downloading https://files.pythonhosted.org/packages/85/ee/2688cce5ced0597e12832d1ec4f4383a468f6bddff768eeaa3b5bf4f6500/optuna-1.3.0.tar.gz (163kB)\n",
            "\u001b[K     |████████████████████████████████| 163kB 1.4MB/s \n",
            "\u001b[?25hCollecting alembic\n",
            "\u001b[?25l  Downloading https://files.pythonhosted.org/packages/60/1e/cabc75a189de0fbb2841d0975243e59bde8b7822bacbb95008ac6fe9ad47/alembic-1.4.2.tar.gz (1.1MB)\n",
            "\u001b[K     |████████████████████████████████| 1.1MB 40.6MB/s \n",
            "\u001b[?25h  Installing build dependencies ... \u001b[?25l\u001b[?25hdone\n",
            "  Getting requirements to build wheel ... \u001b[?25l\u001b[?25hdone\n",
            "    Preparing wheel metadata ... \u001b[?25l\u001b[?25hdone\n",
            "Collecting cliff\n",
            "\u001b[?25l  Downloading https://files.pythonhosted.org/packages/b9/17/57187872842bf9f65815b6969b515528ec7fd754137d2d3f49e3bc016175/cliff-3.1.0-py3-none-any.whl (80kB)\n",
            "\u001b[K     |████████████████████████████████| 81kB 8.6MB/s \n",
            "\u001b[?25hCollecting cmaes\n",
            "  Downloading https://files.pythonhosted.org/packages/56/00/16b9a086181cd227178d5279a40f7dce4fd16d7b3f6bdbd986b38d6bd3f0/cmaes-0.4.0-py3-none-any.whl\n",
            "Collecting colorlog\n",
            "  Downloading https://files.pythonhosted.org/packages/00/0d/22c73c2eccb21dd3498df7d22c0b1d4a30f5a5fb3feb64e1ce06bc247747/colorlog-4.1.0-py2.py3-none-any.whl\n",
            "Requirement already satisfied: joblib in /usr/local/lib/python3.6/dist-packages (from optuna) (0.14.1)\n",
            "Requirement already satisfied: numpy in /usr/local/lib/python3.6/dist-packages (from optuna) (1.18.2)\n",
            "Requirement already satisfied: scipy!=1.4.0 in /usr/local/lib/python3.6/dist-packages (from optuna) (1.4.1)\n",
            "Requirement already satisfied: sqlalchemy>=1.1.0 in /usr/local/lib/python3.6/dist-packages (from optuna) (1.3.16)\n",
            "Requirement already satisfied: tqdm in /usr/local/lib/python3.6/dist-packages (from optuna) (4.38.0)\n",
            "Requirement already satisfied: python-dateutil in /usr/local/lib/python3.6/dist-packages (from alembic->optuna) (2.8.1)\n",
            "Collecting python-editor>=0.3\n",
            "  Downloading https://files.pythonhosted.org/packages/c6/d3/201fc3abe391bbae6606e6f1d598c15d367033332bd54352b12f35513717/python_editor-1.0.4-py3-none-any.whl\n",
            "Collecting Mako\n",
            "\u001b[?25l  Downloading https://files.pythonhosted.org/packages/50/78/f6ade1e18aebda570eed33b7c534378d9659351cadce2fcbc7b31be5f615/Mako-1.1.2-py2.py3-none-any.whl (75kB)\n",
            "\u001b[K     |████████████████████████████████| 81kB 9.2MB/s \n",
            "\u001b[?25hCollecting cmd2!=0.8.3,<0.9.0,>=0.8.0\n",
            "\u001b[?25l  Downloading https://files.pythonhosted.org/packages/e9/40/a71caa2aaff10c73612a7106e2d35f693e85b8cf6e37ab0774274bca3cf9/cmd2-0.8.9-py2.py3-none-any.whl (53kB)\n",
            "\u001b[K     |████████████████████████████████| 61kB 7.8MB/s \n",
            "\u001b[?25hRequirement already satisfied: PyYAML>=3.12 in /usr/local/lib/python3.6/dist-packages (from cliff->optuna) (3.13)\n",
            "Requirement already satisfied: PrettyTable<0.8,>=0.7.2 in /usr/local/lib/python3.6/dist-packages (from cliff->optuna) (0.7.2)\n",
            "Collecting stevedore>=1.20.0\n",
            "\u001b[?25l  Downloading https://files.pythonhosted.org/packages/e6/49/a35dd566626892d577e426dbe5ea424dd7fbe10645f2c1070dcba474eca9/stevedore-1.32.0-py2.py3-none-any.whl (43kB)\n",
            "\u001b[K     |████████████████████████████████| 51kB 7.0MB/s \n",
            "\u001b[?25hCollecting pbr!=2.1.0,>=2.0.0\n",
            "\u001b[?25l  Downloading https://files.pythonhosted.org/packages/96/ba/aa953a11ec014b23df057ecdbc922fdb40ca8463466b1193f3367d2711a6/pbr-5.4.5-py2.py3-none-any.whl (110kB)\n",
            "\u001b[K     |████████████████████████████████| 112kB 52.9MB/s \n",
            "\u001b[?25hRequirement already satisfied: six>=1.10.0 in /usr/local/lib/python3.6/dist-packages (from cliff->optuna) (1.12.0)\n",
            "Requirement already satisfied: pyparsing>=2.1.0 in /usr/local/lib/python3.6/dist-packages (from cliff->optuna) (2.4.7)\n",
            "Requirement already satisfied: MarkupSafe>=0.9.2 in /usr/local/lib/python3.6/dist-packages (from Mako->alembic->optuna) (1.1.1)\n",
            "Collecting pyperclip\n",
            "  Downloading https://files.pythonhosted.org/packages/f6/5b/55866e1cde0f86f5eec59dab5de8a66628cb0d53da74b8dbc15ad8dabda3/pyperclip-1.8.0.tar.gz\n",
            "Requirement already satisfied: wcwidth; sys_platform != \"win32\" in /usr/local/lib/python3.6/dist-packages (from cmd2!=0.8.3,<0.9.0,>=0.8.0->cliff->optuna) (0.1.9)\n",
            "Building wheels for collected packages: alembic\n",
            "  Building wheel for alembic (PEP 517) ... \u001b[?25l\u001b[?25hdone\n",
            "  Created wheel for alembic: filename=alembic-1.4.2-cp36-none-any.whl size=159543 sha256=46676402e1b9af01ecc9e94994d6ce7cc63c11a920e4e6e35281192119c6dc70\n",
            "  Stored in directory: /root/.cache/pip/wheels/1f/04/83/76023f7a4c14688c0b5c2682a96392cfdd3ee4449eaaa287ef\n",
            "Successfully built alembic\n",
            "Building wheels for collected packages: optuna, pyperclip\n",
            "  Building wheel for optuna (setup.py) ... \u001b[?25l\u001b[?25hdone\n",
            "  Created wheel for optuna: filename=optuna-1.3.0-cp36-none-any.whl size=221121 sha256=012e3a3e77db912fc79c956a03b7e4056fe819b83a17339fd046cd82d1dfa231\n",
            "  Stored in directory: /root/.cache/pip/wheels/62/fd/dd/71cfd4cee14164152b952f477a16dac42ba413cfb1981585e4\n",
            "  Building wheel for pyperclip (setup.py) ... \u001b[?25l\u001b[?25hdone\n",
            "  Created wheel for pyperclip: filename=pyperclip-1.8.0-cp36-none-any.whl size=8693 sha256=9b093be4a8256f8d874848125479557a980e5f0438b8e940ce3885c8a638a8e7\n",
            "  Stored in directory: /root/.cache/pip/wheels/b2/ac/0a/b784f0afe26eaf52e88a7e15c7369090deea0354fa1c6fc689\n",
            "Successfully built optuna pyperclip\n",
            "Installing collected packages: python-editor, Mako, alembic, pyperclip, cmd2, pbr, stevedore, cliff, cmaes, colorlog, optuna\n",
            "Successfully installed Mako-1.1.2 alembic-1.4.2 cliff-3.1.0 cmaes-0.4.0 cmd2-0.8.9 colorlog-4.1.0 optuna-1.3.0 pbr-5.4.5 pyperclip-1.8.0 python-editor-1.0.4 stevedore-1.32.0\n"
          ],
          "name": "stdout"
        }
      ]
    },
    {
      "cell_type": "code",
      "metadata": {
        "id": "q5dWTFLROkI3",
        "colab_type": "code",
        "colab": {}
      },
      "source": [
        "# import dependent libraries\n",
        "\n",
        "'''\n",
        "#reference links\n",
        "Hyperopt and Randomsearch with early stopping https://github.com/WillKoehrsen/hyperparameter-optimization \n",
        "Optuna tuner https://github.com/optuna/optuna/blob/master/examples/lightgbm_tuner_simple.py\n",
        "Example for creating hyperopt class https://towardsdatascience.com/an-example-of-hyperparameter-optimization-on-xgboost-lightgbm-and-catboost-using-hyperopt-12bc41a271e\n",
        "\n",
        "'''\n",
        "\n",
        "import pandas as pd\n",
        "import lightgbm as lgb\n",
        "import numpy as np\n",
        "from sklearn.model_selection import train_test_split\n",
        "from sklearn.metrics import auc, accuracy_score, roc_auc_score, roc_curve\n",
        "from sklearn.model_selection import RandomizedSearchCV\n",
        "\n",
        "import csv\n",
        "from timeit import default_timer as timer\n",
        "from hyperopt import STATUS_OK, STATUS_FAIL, hp, tpe, Trials, fmin\n",
        "from hyperopt.pyll.stochastic import sample\n",
        "import random\n",
        "\n",
        "import optuna.integration.lightgbm as lgbo\n",
        "import optuna\n"
      ],
      "execution_count": 0,
      "outputs": []
    },
    {
      "cell_type": "code",
      "metadata": {
        "id": "t7K8QXU5OkFA",
        "colab_type": "code",
        "colab": {}
      },
      "source": [
        "# starting with storing the data as data frame\n",
        "df = pd.read_csv(\"drive/My Drive/Colab Notebooks/train_test_files_sample.csv\")\n",
        "df.drop( columns='Unnamed: 0', inplace =True)\n",
        "\n",
        "# making a smaller df for quick testing\n",
        "df_s, _ = train_test_split(df, random_state = 30, train_size = 0.01)\n",
        "\n",
        "train_X = df_s.drop(columns = '0')\n",
        "train_y = df_s['0']"
      ],
      "execution_count": 0,
      "outputs": []
    },
    {
      "cell_type": "code",
      "metadata": {
        "id": "4CRuzwrJOkAO",
        "colab_type": "code",
        "colab": {}
      },
      "source": [
        "# drop last columns\n",
        "\n",
        "def col_keep(df):\n",
        "  return df.drop(columns = list(map(str,range(22,29))), inplace = True) # removing 7 last columns\n"
      ],
      "execution_count": 0,
      "outputs": []
    },
    {
      "cell_type": "code",
      "metadata": {
        "id": "NM3IRnQuhhzk",
        "colab_type": "code",
        "colab": {}
      },
      "source": [
        "MAX_EVALS = 1000\n",
        "N_FOLDS = 3\n",
        "NUM_BOOST_ROUNDS = 10000\n",
        "EARLY_STOPPING_ROUNDS = 100\n",
        "SEED = 47"
      ],
      "execution_count": 0,
      "outputs": []
    },
    {
      "cell_type": "markdown",
      "metadata": {
        "id": "U16HEA3LbMo2",
        "colab_type": "text"
      },
      "source": [
        "# Hyperopt"
      ]
    },
    {
      "cell_type": "code",
      "metadata": {
        "id": "xIjLnm7COj8g",
        "colab_type": "code",
        "outputId": "32e64cff-aa39-4059-d3ae-c463e3dec566",
        "colab": {
          "base_uri": "https://localhost:8080/",
          "height": 34
        }
      },
      "source": [
        "def objective(params, n_folds = N_FOLDS):\n",
        "    \"\"\"Objective function for Gradient Boosting Machine Hyperparameter Optimization\"\"\"\n",
        "    \n",
        "    # Keep track of evals\n",
        "    global ITERATION\n",
        "    \n",
        "    ITERATION += 1\n",
        "    \n",
        "    # Retrieve the subsample if present otherwise set to 1.0\n",
        "    subsample = params['boosting_type'].get('subsample', 1.0)\n",
        "    \n",
        "    # Extract the boosting type\n",
        "    params['boosting_type'] = params['boosting_type']['boosting_type']\n",
        "    params['subsample'] = subsample\n",
        "    \n",
        "    # Make sure parameters that need to be integers are integers\n",
        "    for parameter_name in ['num_leaves', 'subsample_for_bin', 'min_data_in_leaf', \n",
        "                           'max_bin', 'bagging_freq']:\n",
        "        params[parameter_name] = int(params[parameter_name])\n",
        "    \n",
        "    start = timer()\n",
        "    \n",
        "    # Perform n_folds cross validation\n",
        "    cv_results = lgb.cv(params, train_set, num_boost_round = 10000, nfold = n_folds, \n",
        "                        early_stopping_rounds = 100, metrics = ['auc','binary','xentropy'], seed = 50,\n",
        "                        )\n",
        "    \n",
        "    run_time = timer() - start\n",
        "    \n",
        "    # Extract the best score\n",
        "    best_score = np.max(cv_results['auc-mean'])\n",
        "    \n",
        "    # Loss must be minimized\n",
        "    loss = 1 - best_score\n",
        "    \n",
        "    # Boosting rounds that returned the highest cv score\n",
        "    n_estimators = int(np.argmax(cv_results['auc-mean']) + 1)\n",
        "\n",
        "    # Write to the csv file ('a' means append)\n",
        "    of_connection = open(out_file, 'a')\n",
        "    writer = csv.writer(of_connection)\n",
        "    writer.writerow([loss, params, ITERATION, n_estimators, run_time])\n",
        "    \n",
        "    # Dictionary with information for evaluation\n",
        "    return {'loss': loss, 'params': params, 'iteration': ITERATION,\n",
        "            'estimators': n_estimators, \n",
        "            'train_time': run_time, 'status': STATUS_OK}\n",
        "\n",
        "\n",
        "# Hyperopt Space\n",
        "space = {              \n",
        "            'num_leaves': hp.quniform('num_leaves', 16, 196, 4),\n",
        "\n",
        "            'max_bin' : hp.quniform('max_bin', 253, 254, 1), #if using CPU just set this to 254\n",
        "\n",
        "            'lambda_l1': hp.uniform('lambda_l1', 0.0, 1.0),\n",
        "            \n",
        "            'lambda_l2': hp.uniform(\"lambda_l2\", 0.0, 1.0),\n",
        "            \n",
        "            'min_data_in_leaf' : hp.quniform('min_data_in_leaf', 20, 500, 10),\n",
        "\n",
        "            'class_weight': hp.choice('class_weight', [None, 'balanced']),\n",
        "            \n",
        "            'boosting_type': hp.choice('boosting_type', [{'boosting_type': 'gbdt', 'subsample': hp.uniform('gdbt_subsample', 0.5, 1)}, \n",
        "                                                         #{'boosting_type': 'dart', 'subsample': hp.uniform('dart_subsample', 0.5, 1)},\n",
        "                                                         {'boosting_type': 'goss', 'subsample': 1.0}]),\n",
        "\n",
        "            'learning_rate' : hp.loguniform('learning_rate', np.log(0.05), np.log(0.25)),\n",
        "\n",
        "            'subsample_for_bin': hp.quniform('subsample_for_bin', 20000, 300000, 20000),\n",
        "\n",
        "            'feature_fraction': hp.uniform('feature_fraction', 0.4, 1.0),\n",
        "                     \n",
        "            'bagging_freq': hp.uniform('bagging_freq', 1, 7),\n",
        "                     \n",
        "            'verbosity' : 0,\n",
        "            \n",
        "            }\n",
        "\n",
        "# optimization algorithm\n",
        "tpe_algorithm = tpe.suggest\n",
        "\n",
        "# Keep track of results\n",
        "bayes_trials = Trials()\n",
        "\n",
        "# File to save first results\n",
        "out_file = 'gbm_trials.csv'\n",
        "of_connection = open(out_file, 'w')\n",
        "writer = csv.writer(of_connection)\n",
        "\n",
        "# Write the headers to the file\n",
        "writer.writerow(['loss', 'params', 'iteration', 'estimators', 'train_time'])\n",
        "of_connection.close()\n",
        "\n",
        "# Global variable\n",
        "global  ITERATION\n",
        "\n",
        "ITERATION = 0\n",
        "\n",
        "train_set = lgb.Dataset(data=train_X, label = train_y)\n",
        "\n",
        "# Run optimization\n",
        "best = fmin(fn = objective, space = space, algo = tpe.suggest, \n",
        "            max_evals = MAX_EVALS, trials = bayes_trials, rstate = np.random.RandomState(50))"
      ],
      "execution_count": 54,
      "outputs": [
        {
          "output_type": "stream",
          "text": [
            "100%|██████████| 5/5 [00:06<00:00,  1.33s/it, best loss: 0.22313642472743256]\n"
          ],
          "name": "stdout"
        }
      ]
    },
    {
      "cell_type": "code",
      "metadata": {
        "id": "HPk7OHerddA0",
        "colab_type": "code",
        "colab": {
          "base_uri": "https://localhost:8080/",
          "height": 336
        },
        "outputId": "8efccc94-7953-4e5c-f169-6dd275cdb8c5"
      },
      "source": [
        "bayes_trials.best_trial['result']['params']\n",
        "bayes_trials.best_trial['result']['estimators']"
      ],
      "execution_count": 71,
      "outputs": [
        {
          "output_type": "execute_result",
          "data": {
            "text/plain": [
              "{'estimators': 40,\n",
              " 'iteration': 1,\n",
              " 'loss': 0.22313642472743256,\n",
              " 'params': {'bagging_freq': 2,\n",
              "  'boosting_type': 'gbdt',\n",
              "  'class_weight': 'balanced',\n",
              "  'feature_fraction': 0.925984858968721,\n",
              "  'lambda_l1': 0.8546268615947283,\n",
              "  'lambda_l2': 0.20851241909379892,\n",
              "  'learning_rate': 0.08279997609106177,\n",
              "  'max_bin': 254,\n",
              "  'min_data_in_leaf': 310,\n",
              "  'num_leaves': 120,\n",
              "  'subsample': 0.9071514063207494,\n",
              "  'subsample_for_bin': 300000,\n",
              "  'verbosity': 0},\n",
              " 'status': 'ok',\n",
              " 'train_time': 1.7581046000013885}"
            ]
          },
          "metadata": {
            "tags": []
          },
          "execution_count": 71
        }
      ]
    },
    {
      "cell_type": "code",
      "metadata": {
        "id": "ax7ZAJdMaiqB",
        "colab_type": "code",
        "colab": {}
      },
      "source": [
        "cv_results = lgb.cv(params, train_set, num_boost_round = 1000, nfold = 3, \n",
        "                        early_stopping_rounds = 100, seed = 50)"
      ],
      "execution_count": 0,
      "outputs": []
    },
    {
      "cell_type": "code",
      "metadata": {
        "id": "SZ47AUJUmj1U",
        "colab_type": "code",
        "colab": {
          "base_uri": "https://localhost:8080/",
          "height": 1000
        },
        "outputId": "3415968a-c603-4ee9-922e-f5a451f82f07"
      },
      "source": [
        "cv_results"
      ],
      "execution_count": 44,
      "outputs": [
        {
          "output_type": "execute_result",
          "data": {
            "text/plain": [
              "{'binary_logloss-mean': [0.6813714679509907,\n",
              "  0.6742992712598711,\n",
              "  0.668660077975268,\n",
              "  0.6635841128454788,\n",
              "  0.6569572405416526,\n",
              "  0.6515915307919101,\n",
              "  0.6474391628001205,\n",
              "  0.6427401697003904,\n",
              "  0.6378974939242701,\n",
              "  0.6333896630598588,\n",
              "  0.6298509132253033,\n",
              "  0.626062215246539,\n",
              "  0.6222597439554478,\n",
              "  0.6192691300048461,\n",
              "  0.6160924924162251,\n",
              "  0.6134034145503796,\n",
              "  0.6107200059851722,\n",
              "  0.6093298315967529,\n",
              "  0.6078471037445388,\n",
              "  0.6060394357193126,\n",
              "  0.6045914177777822,\n",
              "  0.6032965959818035,\n",
              "  0.6021709652699976,\n",
              "  0.600654137509062,\n",
              "  0.5995427483172834,\n",
              "  0.5987346844774509,\n",
              "  0.5976901107457735,\n",
              "  0.5962689449380553,\n",
              "  0.5951558220353208,\n",
              "  0.5940938883146255,\n",
              "  0.5930532809632442,\n",
              "  0.592223153783929,\n",
              "  0.5915432573030927,\n",
              "  0.5902697377774473,\n",
              "  0.589215491696048,\n",
              "  0.5882446368053981,\n",
              "  0.5874361134460415,\n",
              "  0.5868361038366867,\n",
              "  0.5857802320940553,\n",
              "  0.5851297084848505,\n",
              "  0.5844127293310518,\n",
              "  0.5837693267109282,\n",
              "  0.58300592095623,\n",
              "  0.5825307138869268,\n",
              "  0.5818968046008823,\n",
              "  0.5811962716840592,\n",
              "  0.5806716172237407,\n",
              "  0.5801139264439378,\n",
              "  0.5795340094958887,\n",
              "  0.5792426165686351,\n",
              "  0.5788695322325633,\n",
              "  0.5782793060355425,\n",
              "  0.5778247872441616,\n",
              "  0.5776333728873982,\n",
              "  0.5772979252443079,\n",
              "  0.576786855542477,\n",
              "  0.5763706373466088,\n",
              "  0.5759181587045016,\n",
              "  0.575656567554291,\n",
              "  0.5754527969579906,\n",
              "  0.5752443411380508,\n",
              "  0.5751412784994753,\n",
              "  0.5746831718928505,\n",
              "  0.5746762940573086,\n",
              "  0.5744079617208727,\n",
              "  0.5742226371264124,\n",
              "  0.57396003230313,\n",
              "  0.5737250775928786,\n",
              "  0.5736031538676963,\n",
              "  0.5734774006697173,\n",
              "  0.5732319945583869,\n",
              "  0.572810355165188,\n",
              "  0.5726763347761383,\n",
              "  0.5724908905200846,\n",
              "  0.5722549308310193,\n",
              "  0.5718971655666076,\n",
              "  0.5718317667812748,\n",
              "  0.5716546906630593,\n",
              "  0.5712261614920217,\n",
              "  0.5710931815813777,\n",
              "  0.5708973862373049,\n",
              "  0.5708742234442347,\n",
              "  0.5707946487236247,\n",
              "  0.5707201805503169,\n",
              "  0.5703865088709785,\n",
              "  0.5703331315982357,\n",
              "  0.5701216666064561,\n",
              "  0.5699972837787247,\n",
              "  0.5695253969219373,\n",
              "  0.5691214037305287,\n",
              "  0.5691197438015725,\n",
              "  0.5689701258249154,\n",
              "  0.5688051766535439,\n",
              "  0.5686207288727454,\n",
              "  0.5685741008083435,\n",
              "  0.5685833189522823,\n",
              "  0.5684882235425163,\n",
              "  0.5682293063598379,\n",
              "  0.568356035047559,\n",
              "  0.5681640472477442,\n",
              "  0.5680394785946677,\n",
              "  0.5678376911398474,\n",
              "  0.5678789784507304,\n",
              "  0.5675750758111001,\n",
              "  0.5676222207825836,\n",
              "  0.567375639844606,\n",
              "  0.567252483485981,\n",
              "  0.5671020729784768,\n",
              "  0.5670016043681477,\n",
              "  0.5669766560236169,\n",
              "  0.5668589117810653,\n",
              "  0.5667395276272456,\n",
              "  0.5665959123067267,\n",
              "  0.5664933370370465,\n",
              "  0.5664326618564661,\n",
              "  0.5664620076146046,\n",
              "  0.5663572861599477,\n",
              "  0.5663672492576256,\n",
              "  0.5660800305646099,\n",
              "  0.5662849906387337,\n",
              "  0.5662364751818201,\n",
              "  0.5664311435018637,\n",
              "  0.5664559355425723,\n",
              "  0.5664915548142525,\n",
              "  0.5663628049091151,\n",
              "  0.5665157800809856,\n",
              "  0.5662623134857282,\n",
              "  0.5662648568263581,\n",
              "  0.5662729848992131,\n",
              "  0.5661588322843392,\n",
              "  0.5660617258670078,\n",
              "  0.5662101920241455,\n",
              "  0.5660206216647613,\n",
              "  0.5658898712851029,\n",
              "  0.5658567334145655,\n",
              "  0.565765173255351,\n",
              "  0.5658181223456807,\n",
              "  0.5660090184833134,\n",
              "  0.5659542369087088,\n",
              "  0.5660007158504134,\n",
              "  0.5659065471637084,\n",
              "  0.5659393902919453,\n",
              "  0.5659176651708927,\n",
              "  0.5658201723706313,\n",
              "  0.5657102970953621,\n",
              "  0.5655435838350759,\n",
              "  0.5656169730030091,\n",
              "  0.5655707378684444,\n",
              "  0.5654452547478562,\n",
              "  0.565420729077908,\n",
              "  0.565515175084497,\n",
              "  0.5653745670982748,\n",
              "  0.565304107860343,\n",
              "  0.5653510318165414,\n",
              "  0.5653720537165787,\n",
              "  0.5652385622988837,\n",
              "  0.5652061424112077,\n",
              "  0.5652435502783951,\n",
              "  0.5652512926026116,\n",
              "  0.5652276292450568,\n",
              "  0.5650635833841905,\n",
              "  0.5648750200208039,\n",
              "  0.564726875760675,\n",
              "  0.5646101786710044,\n",
              "  0.564596556816631,\n",
              "  0.5645137328931543,\n",
              "  0.5646443762802811,\n",
              "  0.564594069180934,\n",
              "  0.5645492232474533,\n",
              "  0.5646597498724905,\n",
              "  0.564520279019454,\n",
              "  0.5645386590977487,\n",
              "  0.5644021540091745,\n",
              "  0.5644545982705176,\n",
              "  0.5643999533474096,\n",
              "  0.5645337322345962,\n",
              "  0.5645858062214111,\n",
              "  0.5646825511620644,\n",
              "  0.5648957912264051,\n",
              "  0.5647681309593758,\n",
              "  0.5647123596822269,\n",
              "  0.5646210114395647,\n",
              "  0.5646945191430536,\n",
              "  0.5648297021482406,\n",
              "  0.5648161459944495,\n",
              "  0.5646570169092235,\n",
              "  0.5649690724003057,\n",
              "  0.5649913403203636,\n",
              "  0.5650887662369085,\n",
              "  0.564920616892417,\n",
              "  0.564809356652293,\n",
              "  0.56468754338052,\n",
              "  0.5647549422101975,\n",
              "  0.5646433886862634,\n",
              "  0.5645813795925759,\n",
              "  0.5646295923147187,\n",
              "  0.5646033466822105,\n",
              "  0.5644658648214689,\n",
              "  0.5644272440800403,\n",
              "  0.564386801700702,\n",
              "  0.5643829809078943,\n",
              "  0.564331938159503,\n",
              "  0.5642186970781395,\n",
              "  0.5642736803189695,\n",
              "  0.5644820074955431,\n",
              "  0.5644851958044318,\n",
              "  0.5645836553283491,\n",
              "  0.5646081801549504,\n",
              "  0.5645643924687233,\n",
              "  0.5645599867332866,\n",
              "  0.5644381536029041,\n",
              "  0.5646156016619143,\n",
              "  0.5643610351384278,\n",
              "  0.564324113295156,\n",
              "  0.5643152415040835,\n",
              "  0.5643519464741416,\n",
              "  0.5644430013767697,\n",
              "  0.5643419867896632,\n",
              "  0.5642765039048897,\n",
              "  0.5641850416010223,\n",
              "  0.5641726655984585,\n",
              "  0.5641884605730414,\n",
              "  0.5639786170873701,\n",
              "  0.5639599117392547,\n",
              "  0.5640848623437474,\n",
              "  0.5641948331376144,\n",
              "  0.5640836273195023,\n",
              "  0.5641330420275265,\n",
              "  0.5640603864812711,\n",
              "  0.5640537222376368,\n",
              "  0.5641542402292187,\n",
              "  0.564192937067901,\n",
              "  0.5641545264355542,\n",
              "  0.5641942564970636,\n",
              "  0.5642076011628896,\n",
              "  0.5642449679448193,\n",
              "  0.5640433864962225,\n",
              "  0.5641358016923126,\n",
              "  0.5639203680732238,\n",
              "  0.5639137442505965,\n",
              "  0.5639962825825071,\n",
              "  0.5639955316690132,\n",
              "  0.5640520081200141,\n",
              "  0.5642515077536877,\n",
              "  0.5643172465781762,\n",
              "  0.5642167237124012,\n",
              "  0.5641481028285585,\n",
              "  0.5640644405943464,\n",
              "  0.5641571971000482,\n",
              "  0.5641967164088576,\n",
              "  0.5640679128720585,\n",
              "  0.5640435012244883,\n",
              "  0.5640636916314508,\n",
              "  0.5638497706771801,\n",
              "  0.5639037944321491,\n",
              "  0.5638612575360632,\n",
              "  0.5638849505083067,\n",
              "  0.5640265118320812,\n",
              "  0.5640481512528057,\n",
              "  0.5639934881685853,\n",
              "  0.5639848804282027,\n",
              "  0.5639496884240669,\n",
              "  0.5637813134398927],\n",
              " 'binary_logloss-stdv': [0.00019919729497727947,\n",
              "  0.0002874948484826649,\n",
              "  0.00018126231097246757,\n",
              "  0.0002607299084549765,\n",
              "  0.00031795522148455186,\n",
              "  0.00027697193259926923,\n",
              "  0.00042959290365926766,\n",
              "  0.00033147736544051243,\n",
              "  0.0003899280638343831,\n",
              "  0.0005054149435801492,\n",
              "  0.0004530605800175024,\n",
              "  0.00043574541892516357,\n",
              "  0.0002443136847696036,\n",
              "  0.0001817551003414725,\n",
              "  0.0004276903925005517,\n",
              "  0.0005667342546971732,\n",
              "  0.0007983576872386043,\n",
              "  0.0006642546780754448,\n",
              "  0.0007742730355079099,\n",
              "  0.0007515778635151013,\n",
              "  0.0007792002645225516,\n",
              "  0.0008552885022254866,\n",
              "  0.0008384930355482832,\n",
              "  0.0009395588681651102,\n",
              "  0.000926837394809233,\n",
              "  0.0011159021061017923,\n",
              "  0.0009447686486912367,\n",
              "  0.0009196448001953987,\n",
              "  0.0009902318318209394,\n",
              "  0.0008422561244276962,\n",
              "  0.0007453346772187616,\n",
              "  0.0005885084198873399,\n",
              "  0.00043091418633487756,\n",
              "  0.0004335143104965438,\n",
              "  0.00046659120014320044,\n",
              "  0.0005811039700846891,\n",
              "  0.0008537732096356529,\n",
              "  0.0007156822832385534,\n",
              "  0.0009213524768342043,\n",
              "  0.0010746071176226898,\n",
              "  0.0011036810015236892,\n",
              "  0.0010192370733212385,\n",
              "  0.001135455429131756,\n",
              "  0.0009761506217529248,\n",
              "  0.0011839289736271168,\n",
              "  0.0015422288829269567,\n",
              "  0.001212322034451423,\n",
              "  0.0010233494594947368,\n",
              "  0.0010850561300425794,\n",
              "  0.0011557065696074294,\n",
              "  0.0012244816150049035,\n",
              "  0.0009973050277492367,\n",
              "  0.0006389067716173413,\n",
              "  0.000825691897469095,\n",
              "  0.0008356655672690102,\n",
              "  0.0009248045291952374,\n",
              "  0.001013442512361488,\n",
              "  0.0008718319263923372,\n",
              "  0.0007443642115743224,\n",
              "  0.0008319697744325987,\n",
              "  0.0010830772887500597,\n",
              "  0.0013257639142420922,\n",
              "  0.0012199683623751864,\n",
              "  0.0012104278642951977,\n",
              "  0.0009524969855634796,\n",
              "  0.000790382742995388,\n",
              "  0.0006901550463537431,\n",
              "  0.000641031431637903,\n",
              "  0.0006408417048340447,\n",
              "  0.0007686408949661447,\n",
              "  0.0007897153444035833,\n",
              "  0.0007423602686652517,\n",
              "  0.0006988700730010986,\n",
              "  0.0006699898563414904,\n",
              "  0.0005670748719314793,\n",
              "  0.000645112716795279,\n",
              "  0.000602723217745126,\n",
              "  0.0007999760643038936,\n",
              "  0.000737619782159972,\n",
              "  0.0007407186491940481,\n",
              "  0.0006625322371345296,\n",
              "  0.0005453339915512881,\n",
              "  0.0004437370133409438,\n",
              "  0.0006645065805547749,\n",
              "  0.0006110275983779945,\n",
              "  0.0004323442832262098,\n",
              "  0.0002244792132430185,\n",
              "  0.00013598533240894085,\n",
              "  0.0003286233056725179,\n",
              "  0.00038266018345007333,\n",
              "  0.00047098396886740494,\n",
              "  0.0005280660049158632,\n",
              "  0.00041543632594955596,\n",
              "  0.0003466130046523903,\n",
              "  0.0003149500876750833,\n",
              "  0.0004195931367974594,\n",
              "  0.0006410203045930176,\n",
              "  0.000808188139319474,\n",
              "  0.0008159005930519783,\n",
              "  0.000830132027684612,\n",
              "  0.0009325179555886916,\n",
              "  0.0009263002905452261,\n",
              "  0.0008365186551574186,\n",
              "  0.0008467967564413506,\n",
              "  0.000810187657862373,\n",
              "  0.0004995534840935486,\n",
              "  0.0006489790314046194,\n",
              "  0.0007246550024614733,\n",
              "  0.0007112421541918188,\n",
              "  0.000666151187192631,\n",
              "  0.0008648939181151751,\n",
              "  0.0009281386023493502,\n",
              "  0.0009297436322520304,\n",
              "  0.0010432814014348798,\n",
              "  0.001262104974669841,\n",
              "  0.0012574843799353635,\n",
              "  0.0014229978645682309,\n",
              "  0.0015783075158785974,\n",
              "  0.0014674507187611451,\n",
              "  0.0015217920405523656,\n",
              "  0.0015994687135760675,\n",
              "  0.0016071782009547586,\n",
              "  0.001443662788405192,\n",
              "  0.0014130977833996885,\n",
              "  0.0016648213477393687,\n",
              "  0.0017913621929407661,\n",
              "  0.0017103273516976638,\n",
              "  0.0016896403116480952,\n",
              "  0.0017376368737632715,\n",
              "  0.0018037349156308376,\n",
              "  0.0017732940063070292,\n",
              "  0.001806551621540877,\n",
              "  0.0017346007616632097,\n",
              "  0.0017938461379108175,\n",
              "  0.0017974228458477613,\n",
              "  0.0018151076683717733,\n",
              "  0.001686553183267774,\n",
              "  0.001790444475606602,\n",
              "  0.001861811269760959,\n",
              "  0.0017310666016029604,\n",
              "  0.001631824574919717,\n",
              "  0.001872661597140907,\n",
              "  0.0018886831233040666,\n",
              "  0.001674626649975981,\n",
              "  0.001421399697211483,\n",
              "  0.0014038390533043087,\n",
              "  0.0015187686257223307,\n",
              "  0.001424217288478465,\n",
              "  0.0013234965390314408,\n",
              "  0.0011827406347047636,\n",
              "  0.001113784093263833,\n",
              "  0.0008788926024835106,\n",
              "  0.0008576683384750752,\n",
              "  0.0008382585329639633,\n",
              "  0.0007552300064950115,\n",
              "  0.0007502162428090736,\n",
              "  0.0006043298287926248,\n",
              "  0.0008016883339408548,\n",
              "  0.0007609842067820738,\n",
              "  0.0007019860506444395,\n",
              "  0.0007622869266132073,\n",
              "  0.00079751976181937,\n",
              "  0.0008720871044784277,\n",
              "  0.0007120721467046578,\n",
              "  0.000688492269321625,\n",
              "  0.0009118680908218507,\n",
              "  0.0008842398758292084,\n",
              "  0.0008206798556678086,\n",
              "  0.0008276186782998126,\n",
              "  0.0008112046876454255,\n",
              "  0.0008349870940984646,\n",
              "  0.0009065541436211001,\n",
              "  0.0011522955775868679,\n",
              "  0.0011497232022324815,\n",
              "  0.001162572338690718,\n",
              "  0.0010992146070422752,\n",
              "  0.0010408584424893021,\n",
              "  0.0009483852001777874,\n",
              "  0.0009799831244165064,\n",
              "  0.0009551299982475179,\n",
              "  0.0010668428224006395,\n",
              "  0.0012406083545405521,\n",
              "  0.0013965770212143035,\n",
              "  0.0015560712843772607,\n",
              "  0.0016299309249684093,\n",
              "  0.0018378070967039067,\n",
              "  0.0019069922172951506,\n",
              "  0.001826061861503778,\n",
              "  0.0016617722866361746,\n",
              "  0.0014679214056901363,\n",
              "  0.0015456441328950748,\n",
              "  0.0014152042943531573,\n",
              "  0.0013835205615186533,\n",
              "  0.0014187961484841234,\n",
              "  0.0015079128256167756,\n",
              "  0.001383079426674748,\n",
              "  0.001437958702359512,\n",
              "  0.001409098763200369,\n",
              "  0.0014489183554392913,\n",
              "  0.0013981387716245385,\n",
              "  0.0013826588026624655,\n",
              "  0.0013215842833867665,\n",
              "  0.0012728432734132893,\n",
              "  0.0011969892649999468,\n",
              "  0.0010051066219785565,\n",
              "  0.0010857689553100645,\n",
              "  0.001327335406300858,\n",
              "  0.0013610240227137041,\n",
              "  0.001395755253091158,\n",
              "  0.0014120863506469907,\n",
              "  0.0015585702822236316,\n",
              "  0.0015951759015443716,\n",
              "  0.001614872290910934,\n",
              "  0.0016393094686812505,\n",
              "  0.0016177130851416572,\n",
              "  0.0014031916127362543,\n",
              "  0.001468161564286283,\n",
              "  0.001326939852200043,\n",
              "  0.001214264224201279,\n",
              "  0.0011428069872144763,\n",
              "  0.001190346374275416,\n",
              "  0.0012874428215913915,\n",
              "  0.0014308695262246706,\n",
              "  0.0014717233364601357,\n",
              "  0.001618772279793211,\n",
              "  0.0014092756295486656,\n",
              "  0.0014299254987666992,\n",
              "  0.001582981202106168,\n",
              "  0.0016147842050857752,\n",
              "  0.0016910720356993864,\n",
              "  0.0015406586819306299,\n",
              "  0.0014281893219773452,\n",
              "  0.0014899769771079593,\n",
              "  0.0014580668417970464,\n",
              "  0.0014680320645687997,\n",
              "  0.0014971523913754517,\n",
              "  0.0013931547450862678,\n",
              "  0.0013177617225801357,\n",
              "  0.0012935103168630023,\n",
              "  0.0013460726762418,\n",
              "  0.0013334376208635353,\n",
              "  0.0011449866481527148,\n",
              "  0.001329291861311958,\n",
              "  0.001157570011640891,\n",
              "  0.0011585521819617835,\n",
              "  0.001430571558269524,\n",
              "  0.0015331268840396769,\n",
              "  0.001295218144963348,\n",
              "  0.0014460485440712335,\n",
              "  0.0015594061391426676,\n",
              "  0.00157040285885757,\n",
              "  0.0014191932313984588,\n",
              "  0.0013464618228620788,\n",
              "  0.001305906278963245,\n",
              "  0.0012368518798272269,\n",
              "  0.0013551880234505972,\n",
              "  0.0014904549601803894,\n",
              "  0.0014884019148299012,\n",
              "  0.0014114704596597184,\n",
              "  0.0015192168470284594,\n",
              "  0.001488604949456492,\n",
              "  0.0013643596188598708,\n",
              "  0.0013317008370187797]}"
            ]
          },
          "metadata": {
            "tags": []
          },
          "execution_count": 44
        }
      ]
    },
    {
      "cell_type": "markdown",
      "metadata": {
        "id": "X4cc5oMJbk28",
        "colab_type": "text"
      },
      "source": [
        "# Random Search"
      ]
    },
    {
      "cell_type": "code",
      "metadata": {
        "id": "YzFir2oXbjXE",
        "colab_type": "code",
        "outputId": "7bf01eda-7ca2-4887-eda4-bc58faee852c",
        "colab": {
          "base_uri": "https://localhost:8080/",
          "height": 303
        }
      },
      "source": [
        "def random_objective(params, iteration, n_folds = N_FOLDS):\n",
        "    \"\"\"Random search objective function. Takes in hyperparameters\n",
        "       and returns a list of results to be saved.\"\"\"\n",
        "\n",
        "    start = timer()\n",
        "    # Subsampling (only applicable with 'goss')\n",
        "    subsample_dist = list(np.linspace(0.5, 1, 100))\n",
        "\n",
        "    if params['boosting_type'] == 'goss':\n",
        "        # Cannot subsample with goss\n",
        "        params['subsample'] = 1.0\n",
        "    else:\n",
        "        # Subsample supported for gdbt and dart\n",
        "        params['subsample'] = random.sample(subsample_dist, 1)[0]    \n",
        "\n",
        "    # Perform n_folds cross validation\n",
        "    cv_results = lgb.cv(params, train_set, num_boost_round = 1000, nfold = n_folds, \n",
        "                        early_stopping_rounds = 100, metrics = ['auc','binary','xentropy'], seed = 50)\n",
        "    end = timer()\n",
        "    best_score = np.max(cv_results['auc-mean'])\n",
        "    \n",
        "    # Loss must be minimized\n",
        "    loss = 1 - best_score\n",
        "    \n",
        "    # Boosting rounds that returned the highest cv score\n",
        "    n_estimators = int(np.argmax(cv_results['auc-mean']) + 1)\n",
        "    \n",
        "    # Return list of results\n",
        "    return [loss, params, iteration, n_estimators, end - start]\n",
        "\n",
        "# Hyperparameter grid\n",
        "param_grid = {\n",
        "                'num_leaves': list(range(16, 196, 4)),\n",
        "              \n",
        "                'max_bin': [254],\n",
        "\n",
        "                'lambda_l1': list(np.linspace(0, 1)),\n",
        "\n",
        "                'lambda_l2': list(np.linspace(0, 1)),\n",
        "\n",
        "                'min_data_in_leaf' : list(range(20, 500, 10)),\n",
        "\n",
        "                'class_weight': [None, 'balanced'],\n",
        "\n",
        "                'boosting_type': ['gbdt', 'goss'],\n",
        "              \n",
        "                'learning_rate' : list(np.logspace(np.log(0.05), np.log(0.2), base = np.exp(1), num = 1000)),\n",
        "\n",
        "                'feature_fraction': list(np.linspace(0.4, 1.0)),\n",
        "\n",
        "                'bagging_freq': list(range(1,7)),\n",
        "\n",
        "                'verbosity' : [0],\n",
        "\n",
        "                'objective' : ['binary'],\n",
        "\n",
        "                }\n",
        "\n",
        "random.seed(50)\n",
        "\n",
        "# Dataframe to hold cv results\n",
        "random_results = pd.DataFrame(columns = ['loss', 'params', 'iteration', 'estimators', 'time'],\n",
        "                       index = list(range(MAX_EVALS)))\n",
        "train_set = lgb.Dataset(data=train_X, label = train_y)\n",
        "# Iterate through the specified number of evaluations\n",
        "for i in range(15):\n",
        "    \n",
        "    # Randomly sample parameters for gbm\n",
        "    params = {key: random.sample(value, 1)[0] for key, value in param_grid.items()}\n",
        "    \n",
        "    print(params)  \n",
        "        \n",
        "    results_list = random_objective(params, i)\n",
        "    \n",
        "    # Add results to next row in dataframe\n",
        "    random_results.loc[i, :] = results_list"
      ],
      "execution_count": 46,
      "outputs": [
        {
          "output_type": "stream",
          "text": [
            "{'num_leaves': 140, 'max_bin': 254, 'lambda_l1': 0.4693877551020408, 'lambda_l2': 0.8163265306122448, 'min_data_in_leaf': 170, 'class_weight': 'balanced', 'boosting_type': 'goss', 'learning_rate': 0.05641591746163987, 'feature_fraction': 0.8163265306122449, 'bagging_freq': 3, 'verbosity': 0, 'objective': 'cross_entropy'}\n",
            "{'num_leaves': 52, 'max_bin': 254, 'lambda_l1': 0.12244897959183673, 'lambda_l2': 0.44897959183673464, 'min_data_in_leaf': 220, 'class_weight': None, 'boosting_type': 'gbdt', 'learning_rate': 0.055100607882570256, 'feature_fraction': 0.6571428571428571, 'bagging_freq': 5, 'verbosity': 0, 'objective': 'cross_entropy'}\n",
            "{'num_leaves': 192, 'max_bin': 254, 'lambda_l1': 0.8979591836734693, 'lambda_l2': 0.836734693877551, 'min_data_in_leaf': 290, 'class_weight': None, 'boosting_type': 'gbdt', 'learning_rate': 0.08070280316669395, 'feature_fraction': 0.6081632653061224, 'bagging_freq': 4, 'verbosity': 0, 'objective': 'cross_entropy'}\n",
            "{'num_leaves': 84, 'max_bin': 254, 'lambda_l1': 0.16326530612244897, 'lambda_l2': 0.3469387755102041, 'min_data_in_leaf': 410, 'class_weight': None, 'boosting_type': 'gbdt', 'learning_rate': 0.08967904642291218, 'feature_fraction': 0.926530612244898, 'bagging_freq': 5, 'verbosity': 0, 'objective': 'cross_entropy'}\n",
            "{'num_leaves': 148, 'max_bin': 254, 'lambda_l1': 0.6326530612244897, 'lambda_l2': 0.7346938775510203, 'min_data_in_leaf': 350, 'class_weight': 'balanced', 'boosting_type': 'gbdt', 'learning_rate': 0.16908606393074213, 'feature_fraction': 0.6816326530612244, 'bagging_freq': 5, 'verbosity': 0, 'objective': 'cross_entropy'}\n",
            "{'num_leaves': 16, 'max_bin': 254, 'lambda_l1': 0.6122448979591836, 'lambda_l2': 0.836734693877551, 'min_data_in_leaf': 360, 'class_weight': None, 'boosting_type': 'gbdt', 'learning_rate': 0.14020011060351592, 'feature_fraction': 0.8408163265306122, 'bagging_freq': 1, 'verbosity': 0, 'objective': 'cross_entropy'}\n",
            "{'num_leaves': 76, 'max_bin': 254, 'lambda_l1': 0.04081632653061224, 'lambda_l2': 0.8163265306122448, 'min_data_in_leaf': 350, 'class_weight': None, 'boosting_type': 'gbdt', 'learning_rate': 0.12546868431262415, 'feature_fraction': 0.5836734693877551, 'bagging_freq': 6, 'verbosity': 0, 'objective': 'cross_entropy'}\n",
            "{'num_leaves': 160, 'max_bin': 254, 'lambda_l1': 1.0, 'lambda_l2': 0.5102040816326531, 'min_data_in_leaf': 320, 'class_weight': None, 'boosting_type': 'goss', 'learning_rate': 0.05938820150516895, 'feature_fraction': 0.6816326530612244, 'bagging_freq': 1, 'verbosity': 0, 'objective': 'cross_entropy'}\n",
            "{'num_leaves': 128, 'max_bin': 254, 'lambda_l1': 0.3877551020408163, 'lambda_l2': 0.4081632653061224, 'min_data_in_leaf': 240, 'class_weight': 'balanced', 'boosting_type': 'gbdt', 'learning_rate': 0.07666375756435229, 'feature_fraction': 0.5224489795918368, 'bagging_freq': 4, 'verbosity': 0, 'objective': 'cross_entropy'}\n",
            "{'num_leaves': 36, 'max_bin': 254, 'lambda_l1': 0.2040816326530612, 'lambda_l2': 0.16326530612244897, 'min_data_in_leaf': 50, 'class_weight': None, 'boosting_type': 'gbdt', 'learning_rate': 0.07773502244616275, 'feature_fraction': 0.926530612244898, 'bagging_freq': 6, 'verbosity': 0, 'objective': 'cross_entropy'}\n",
            "{'num_leaves': 144, 'max_bin': 254, 'lambda_l1': 0.3061224489795918, 'lambda_l2': 0.7551020408163265, 'min_data_in_leaf': 470, 'class_weight': 'balanced', 'boosting_type': 'gbdt', 'learning_rate': 0.0617411518886723, 'feature_fraction': 0.7795918367346939, 'bagging_freq': 4, 'verbosity': 0, 'objective': 'cross_entropy'}\n",
            "{'num_leaves': 52, 'max_bin': 254, 'lambda_l1': 0.02040816326530612, 'lambda_l2': 0.673469387755102, 'min_data_in_leaf': 400, 'class_weight': 'balanced', 'boosting_type': 'goss', 'learning_rate': 0.18098320907845356, 'feature_fraction': 0.6938775510204082, 'bagging_freq': 3, 'verbosity': 0, 'objective': 'cross_entropy'}\n",
            "{'num_leaves': 152, 'max_bin': 254, 'lambda_l1': 0.36734693877551017, 'lambda_l2': 0.16326530612244897, 'min_data_in_leaf': 90, 'class_weight': 'balanced', 'boosting_type': 'goss', 'learning_rate': 0.13731197583882085, 'feature_fraction': 0.5959183673469388, 'bagging_freq': 5, 'verbosity': 0, 'objective': 'cross_entropy'}\n",
            "{'num_leaves': 156, 'max_bin': 254, 'lambda_l1': 0.02040816326530612, 'lambda_l2': 0.12244897959183673, 'min_data_in_leaf': 210, 'class_weight': 'balanced', 'boosting_type': 'goss', 'learning_rate': 0.07132661990745409, 'feature_fraction': 0.6204081632653061, 'bagging_freq': 6, 'verbosity': 0, 'objective': 'cross_entropy'}\n",
            "{'num_leaves': 72, 'max_bin': 254, 'lambda_l1': 0.3061224489795918, 'lambda_l2': 0.3877551020408163, 'min_data_in_leaf': 170, 'class_weight': None, 'boosting_type': 'goss', 'learning_rate': 0.06499399698708953, 'feature_fraction': 0.5836734693877551, 'bagging_freq': 1, 'verbosity': 0, 'objective': 'cross_entropy'}\n"
          ],
          "name": "stdout"
        }
      ]
    },
    {
      "cell_type": "code",
      "metadata": {
        "id": "Hu6R3UBuoOey",
        "colab_type": "code",
        "colab": {
          "base_uri": "https://localhost:8080/",
          "height": 497
        },
        "outputId": "54c5a179-362d-47a8-cb22-1944f205961d"
      },
      "source": [
        "random_results"
      ],
      "execution_count": 47,
      "outputs": [
        {
          "output_type": "execute_result",
          "data": {
            "text/html": [
              "<div>\n",
              "<style scoped>\n",
              "    .dataframe tbody tr th:only-of-type {\n",
              "        vertical-align: middle;\n",
              "    }\n",
              "\n",
              "    .dataframe tbody tr th {\n",
              "        vertical-align: top;\n",
              "    }\n",
              "\n",
              "    .dataframe thead th {\n",
              "        text-align: right;\n",
              "    }\n",
              "</style>\n",
              "<table border=\"1\" class=\"dataframe\">\n",
              "  <thead>\n",
              "    <tr style=\"text-align: right;\">\n",
              "      <th></th>\n",
              "      <th>loss</th>\n",
              "      <th>params</th>\n",
              "      <th>iteration</th>\n",
              "      <th>estimators</th>\n",
              "      <th>time</th>\n",
              "    </tr>\n",
              "  </thead>\n",
              "  <tbody>\n",
              "    <tr>\n",
              "      <th>0</th>\n",
              "      <td>0.223723</td>\n",
              "      <td>{'num_leaves': 140, 'max_bin': 254, 'lambda_l1...</td>\n",
              "      <td>0</td>\n",
              "      <td>263</td>\n",
              "      <td>3.17838</td>\n",
              "    </tr>\n",
              "    <tr>\n",
              "      <th>1</th>\n",
              "      <td>0.217815</td>\n",
              "      <td>{'num_leaves': 52, 'max_bin': 254, 'lambda_l1'...</td>\n",
              "      <td>1</td>\n",
              "      <td>232</td>\n",
              "      <td>2.99179</td>\n",
              "    </tr>\n",
              "    <tr>\n",
              "      <th>2</th>\n",
              "      <td>0.21802</td>\n",
              "      <td>{'num_leaves': 192, 'max_bin': 254, 'lambda_l1...</td>\n",
              "      <td>2</td>\n",
              "      <td>220</td>\n",
              "      <td>3.09877</td>\n",
              "    </tr>\n",
              "    <tr>\n",
              "      <th>3</th>\n",
              "      <td>0.218454</td>\n",
              "      <td>{'num_leaves': 84, 'max_bin': 254, 'lambda_l1'...</td>\n",
              "      <td>3</td>\n",
              "      <td>148</td>\n",
              "      <td>2.26455</td>\n",
              "    </tr>\n",
              "    <tr>\n",
              "      <th>4</th>\n",
              "      <td>0.22306</td>\n",
              "      <td>{'num_leaves': 148, 'max_bin': 254, 'lambda_l1...</td>\n",
              "      <td>4</td>\n",
              "      <td>129</td>\n",
              "      <td>2.03518</td>\n",
              "    </tr>\n",
              "    <tr>\n",
              "      <th>5</th>\n",
              "      <td>0.218621</td>\n",
              "      <td>{'num_leaves': 16, 'max_bin': 254, 'lambda_l1'...</td>\n",
              "      <td>5</td>\n",
              "      <td>71</td>\n",
              "      <td>1.49959</td>\n",
              "    </tr>\n",
              "    <tr>\n",
              "      <th>6</th>\n",
              "      <td>0.218017</td>\n",
              "      <td>{'num_leaves': 76, 'max_bin': 254, 'lambda_l1'...</td>\n",
              "      <td>6</td>\n",
              "      <td>117</td>\n",
              "      <td>1.88027</td>\n",
              "    </tr>\n",
              "    <tr>\n",
              "      <th>7</th>\n",
              "      <td>0.228988</td>\n",
              "      <td>{'num_leaves': 160, 'max_bin': 254, 'lambda_l1...</td>\n",
              "      <td>7</td>\n",
              "      <td>352</td>\n",
              "      <td>3.08346</td>\n",
              "    </tr>\n",
              "    <tr>\n",
              "      <th>8</th>\n",
              "      <td>0.215102</td>\n",
              "      <td>{'num_leaves': 128, 'max_bin': 254, 'lambda_l1...</td>\n",
              "      <td>8</td>\n",
              "      <td>131</td>\n",
              "      <td>2.48449</td>\n",
              "    </tr>\n",
              "    <tr>\n",
              "      <th>9</th>\n",
              "      <td>0.220214</td>\n",
              "      <td>{'num_leaves': 36, 'max_bin': 254, 'lambda_l1'...</td>\n",
              "      <td>9</td>\n",
              "      <td>69</td>\n",
              "      <td>3.05208</td>\n",
              "    </tr>\n",
              "    <tr>\n",
              "      <th>10</th>\n",
              "      <td>0.216798</td>\n",
              "      <td>{'num_leaves': 144, 'max_bin': 254, 'lambda_l1...</td>\n",
              "      <td>10</td>\n",
              "      <td>212</td>\n",
              "      <td>2.8295</td>\n",
              "    </tr>\n",
              "    <tr>\n",
              "      <th>11</th>\n",
              "      <td>0.239546</td>\n",
              "      <td>{'num_leaves': 52, 'max_bin': 254, 'lambda_l1'...</td>\n",
              "      <td>11</td>\n",
              "      <td>109</td>\n",
              "      <td>1.33872</td>\n",
              "    </tr>\n",
              "    <tr>\n",
              "      <th>12</th>\n",
              "      <td>0.237302</td>\n",
              "      <td>{'num_leaves': 152, 'max_bin': 254, 'lambda_l1...</td>\n",
              "      <td>12</td>\n",
              "      <td>54</td>\n",
              "      <td>1.56622</td>\n",
              "    </tr>\n",
              "    <tr>\n",
              "      <th>13</th>\n",
              "      <td>0.226091</td>\n",
              "      <td>{'num_leaves': 156, 'max_bin': 254, 'lambda_l1...</td>\n",
              "      <td>13</td>\n",
              "      <td>207</td>\n",
              "      <td>2.35916</td>\n",
              "    </tr>\n",
              "    <tr>\n",
              "      <th>14</th>\n",
              "      <td>0.227058</td>\n",
              "      <td>{'num_leaves': 72, 'max_bin': 254, 'lambda_l1'...</td>\n",
              "      <td>14</td>\n",
              "      <td>183</td>\n",
              "      <td>2.26979</td>\n",
              "    </tr>\n",
              "  </tbody>\n",
              "</table>\n",
              "</div>"
            ],
            "text/plain": [
              "        loss  ...     time\n",
              "0   0.223723  ...  3.17838\n",
              "1   0.217815  ...  2.99179\n",
              "2    0.21802  ...  3.09877\n",
              "3   0.218454  ...  2.26455\n",
              "4    0.22306  ...  2.03518\n",
              "5   0.218621  ...  1.49959\n",
              "6   0.218017  ...  1.88027\n",
              "7   0.228988  ...  3.08346\n",
              "8   0.215102  ...  2.48449\n",
              "9   0.220214  ...  3.05208\n",
              "10  0.216798  ...   2.8295\n",
              "11  0.239546  ...  1.33872\n",
              "12  0.237302  ...  1.56622\n",
              "13  0.226091  ...  2.35916\n",
              "14  0.227058  ...  2.26979\n",
              "\n",
              "[15 rows x 5 columns]"
            ]
          },
          "metadata": {
            "tags": []
          },
          "execution_count": 47
        }
      ]
    },
    {
      "cell_type": "markdown",
      "metadata": {
        "id": "LzkidmWcnmIH",
        "colab_type": "text"
      },
      "source": [
        "# Optuna"
      ]
    },
    {
      "cell_type": "code",
      "metadata": {
        "id": "mi2t8qBQbjPk",
        "colab_type": "code",
        "outputId": "308934f1-ee20-4c8d-c609-eee481dd4c68",
        "colab": {
          "base_uri": "https://localhost:8080/",
          "height": 1000
        }
      },
      "source": [
        "def objective(trial):\n",
        "    \n",
        "    dtrain = lgbo.Dataset(train_X, label=train_y)\n",
        "\n",
        "    global ITERATION_O\n",
        "\n",
        "    ITERATION_O += 1\n",
        "\n",
        "    param ={              \n",
        "            'num_leaves': trial.suggest_int('num_leaves', 16, 196, 4),\n",
        "\n",
        "            'max_bin' : trial.suggest_discrete_uniform('max_bin', 63, 255,64), #if using CPU just set this to 254\n",
        "\n",
        "            'lambda_l1': trial.suggest_loguniform('lambda_l1', 1e-8, 10.0),\n",
        "            \n",
        "            'lambda_l2': trial.suggest_loguniform(\"lambda_l2\", 1e-8, 10.0),\n",
        "            \n",
        "            'min_data_in_leaf' : trial.suggest_int('min_data_in_leaf', 20, 500),\n",
        "\n",
        "            'class_weight': trial.suggest_categorical('class_weight', [None, 'balanced']),\n",
        "            \n",
        "            'boosting_type': trial.suggest_categorical('boosting_type', ['gbdt', 'goss']), # removed 'dart'\n",
        "\n",
        "            'learning_rate' : trial.suggest_loguniform('learning_rate', 0.05, 0.25),\n",
        "\n",
        "            'feature_fraction': trial.suggest_uniform(\"feature_fraction\", 0.4, 1.0),\n",
        "                \n",
        "            'bagging_freq': trial.suggest_int(\"bagging_freq\", 1, 7),\n",
        "                     \n",
        "            'verbosity' : 0\n",
        "\n",
        "        }\n",
        "    \n",
        "    start = timer()\n",
        "\n",
        "        # Make sure parameters that need to be integers are integers\n",
        "    for parameter_name in ['num_leaves', 'min_data_in_leaf', \n",
        "                           'max_bin', 'bagging_freq']:\n",
        "        param[parameter_name] = int(param[parameter_name])\n",
        "\n",
        "    # Perform n_folds cross validation\n",
        "    if param['boosting_type'] == 'goss':\n",
        "      param['subsample'] = 1\n",
        "    else:\n",
        "      param['subsample'] = trial.suggest_uniform('subsample', 0.5, 1)\n",
        "    \n",
        "    cv_results = lgb.cv(param, dtrain, num_boost_round = 10000, nfold = 3, \n",
        "                        early_stopping_rounds = 100, metrics = ['auc','binary','xentropy'], \n",
        "                        seed = 50,\n",
        "                        )\n",
        "    \n",
        "    run_time = timer() - start\n",
        "    \n",
        "    # Extract the best score\n",
        "    best_score = np.max(cv_results['auc-mean'])\n",
        "\n",
        "    loss = 1 - best_score\n",
        "\n",
        "    # Boosting rounds that returned the highest cv score\n",
        "    n_estimators = int(np.argmax(cv_results['auc-mean']) + 1)\n",
        "\n",
        "    # Write to the csv file ('a' means append)\n",
        "    of_connection = open(out_file, 'a')\n",
        "    writer = csv.writer(of_connection)\n",
        "    writer.writerow([loss, param, ITERATION_O, n_estimators, run_time])\n",
        "\n",
        "    \n",
        "    return loss\n",
        "\n",
        "# Global variable\n",
        "global  ITERATION_O\n",
        "\n",
        "ITERATION_O = 0\n",
        "\n",
        "# File to save first results\n",
        "out_file = 'gbm_optuna.csv'\n",
        "of_connection = open(out_file, 'w')\n",
        "writer = csv.writer(of_connection)\n",
        "\n",
        "# Write the headers to the file\n",
        "writer.writerow(['loss', 'params', 'iteration', 'estimators', 'train_time'])\n",
        "of_connection.close()\n",
        "\n",
        "study = optuna.create_study(direction='minimize')\n",
        "\n",
        "study.optimize(objective, n_trials=100)"
      ],
      "execution_count": 0,
      "outputs": [
        {
          "output_type": "stream",
          "text": [
            "\u001b[32m[I 2020-04-06 19:52:41,739]\u001b[0m Finished trial#0 with value: 0.23937060412755595 with parameters: {'num_leaves': 108, 'max_bin': 191.0, 'lambda_l1': 0.09268139426113875, 'lambda_l2': 6.36355407290065, 'min_data_in_leaf': 105, 'class_weight': 'balanced', 'boosting_type': 'goss', 'learning_rate': 0.19774658176662815, 'feature_fraction': 0.709128398650851, 'bagging_freq': 6}. Best is trial#0 with value: 0.23937060412755595.\u001b[0m\n",
            "\u001b[32m[I 2020-04-06 19:52:42,895]\u001b[0m Finished trial#1 with value: 0.24001519622309075 with parameters: {'num_leaves': 140, 'max_bin': 255.0, 'lambda_l1': 7.89492562093299e-05, 'lambda_l2': 0.007971569858429745, 'min_data_in_leaf': 142, 'class_weight': None, 'boosting_type': 'goss', 'learning_rate': 0.08620222449969922, 'feature_fraction': 0.9416601400713059, 'bagging_freq': 1}. Best is trial#0 with value: 0.23937060412755595.\u001b[0m\n",
            "\u001b[32m[I 2020-04-06 19:52:44,499]\u001b[0m Finished trial#2 with value: 0.2285245843880035 with parameters: {'num_leaves': 192, 'max_bin': 63.0, 'lambda_l1': 0.004671246285709261, 'lambda_l2': 7.051602477589299e-07, 'min_data_in_leaf': 492, 'class_weight': None, 'boosting_type': 'gbdt', 'learning_rate': 0.13430003464288606, 'feature_fraction': 0.4305582597565956, 'bagging_freq': 2, 'subsample': 0.5825773429184051}. Best is trial#2 with value: 0.2285245843880035.\u001b[0m\n",
            "\u001b[32m[I 2020-04-06 19:52:46,326]\u001b[0m Finished trial#3 with value: 0.22217976733628308 with parameters: {'num_leaves': 84, 'max_bin': 255.0, 'lambda_l1': 0.391075450210622, 'lambda_l2': 1.8061641177356047e-05, 'min_data_in_leaf': 227, 'class_weight': None, 'boosting_type': 'gbdt', 'learning_rate': 0.12430187663796724, 'feature_fraction': 0.7603472867663073, 'bagging_freq': 5, 'subsample': 0.6191126229793936}. Best is trial#3 with value: 0.22217976733628308.\u001b[0m\n",
            "\u001b[32m[I 2020-04-06 19:52:48,182]\u001b[0m Finished trial#4 with value: 0.22639910459581802 with parameters: {'num_leaves': 116, 'max_bin': 255.0, 'lambda_l1': 4.985723226630156e-08, 'lambda_l2': 0.04162760678402678, 'min_data_in_leaf': 182, 'class_weight': 'balanced', 'boosting_type': 'gbdt', 'learning_rate': 0.2064731639861663, 'feature_fraction': 0.9490641443467911, 'bagging_freq': 5, 'subsample': 0.7040915132576968}. Best is trial#3 with value: 0.22217976733628308.\u001b[0m\n",
            "\u001b[32m[I 2020-04-06 19:52:50,187]\u001b[0m Finished trial#5 with value: 0.21819316601074978 with parameters: {'num_leaves': 152, 'max_bin': 127.0, 'lambda_l1': 2.8896245850588493, 'lambda_l2': 1.6372290854151028e-07, 'min_data_in_leaf': 421, 'class_weight': None, 'boosting_type': 'gbdt', 'learning_rate': 0.07349143822120076, 'feature_fraction': 0.7307950566237313, 'bagging_freq': 2, 'subsample': 0.9580299296932535}. Best is trial#5 with value: 0.21819316601074978.\u001b[0m\n",
            "\u001b[32m[I 2020-04-06 19:52:53,820]\u001b[0m Finished trial#6 with value: 0.21747996769489542 with parameters: {'num_leaves': 48, 'max_bin': 255.0, 'lambda_l1': 0.05456922691633741, 'lambda_l2': 4.618968473516035e-07, 'min_data_in_leaf': 106, 'class_weight': 'balanced', 'boosting_type': 'gbdt', 'learning_rate': 0.06960089256142334, 'feature_fraction': 0.7532558220096701, 'bagging_freq': 2, 'subsample': 0.9295756519210091}. Best is trial#6 with value: 0.21747996769489542.\u001b[0m\n",
            "\u001b[32m[I 2020-04-06 19:52:54,632]\u001b[0m Finished trial#7 with value: 0.2567378803610372 with parameters: {'num_leaves': 124, 'max_bin': 255.0, 'lambda_l1': 2.787857734266799e-08, 'lambda_l2': 2.4133411140692065, 'min_data_in_leaf': 443, 'class_weight': None, 'boosting_type': 'goss', 'learning_rate': 0.051951343622842476, 'feature_fraction': 0.7766498716569401, 'bagging_freq': 5}. Best is trial#6 with value: 0.21747996769489542.\u001b[0m\n",
            "\u001b[32m[I 2020-04-06 19:52:56,272]\u001b[0m Finished trial#8 with value: 0.22409286327896372 with parameters: {'num_leaves': 60, 'max_bin': 255.0, 'lambda_l1': 0.16302200466707384, 'lambda_l2': 0.029797262246843575, 'min_data_in_leaf': 388, 'class_weight': None, 'boosting_type': 'gbdt', 'learning_rate': 0.15456931007278094, 'feature_fraction': 0.9270613034596741, 'bagging_freq': 7, 'subsample': 0.6368147727262832}. Best is trial#6 with value: 0.21747996769489542.\u001b[0m\n",
            "\u001b[32m[I 2020-04-06 19:52:58,258]\u001b[0m Finished trial#9 with value: 0.22213435811549764 with parameters: {'num_leaves': 60, 'max_bin': 63.0, 'lambda_l1': 0.38455384503850354, 'lambda_l2': 9.32891385480438, 'min_data_in_leaf': 299, 'class_weight': 'balanced', 'boosting_type': 'gbdt', 'learning_rate': 0.07338693813720149, 'feature_fraction': 0.8603607838517208, 'bagging_freq': 4, 'subsample': 0.5392286058251645}. Best is trial#6 with value: 0.21747996769489542.\u001b[0m\n",
            "\u001b[32m[I 2020-04-06 19:53:00,193]\u001b[0m Finished trial#10 with value: 0.2152903678945649 with parameters: {'num_leaves': 16, 'max_bin': 191.0, 'lambda_l1': 1.3973770370639525e-05, 'lambda_l2': 2.6082855583234776e-08, 'min_data_in_leaf': 48, 'class_weight': 'balanced', 'boosting_type': 'gbdt', 'learning_rate': 0.05346683214086622, 'feature_fraction': 0.5455503765232572, 'bagging_freq': 1, 'subsample': 0.8322700217016582}. Best is trial#10 with value: 0.2152903678945649.\u001b[0m\n",
            "\u001b[32m[I 2020-04-06 19:53:02,291]\u001b[0m Finished trial#11 with value: 0.21650438067676803 with parameters: {'num_leaves': 16, 'max_bin': 191.0, 'lambda_l1': 5.211958836048144e-05, 'lambda_l2': 2.643065703841386e-08, 'min_data_in_leaf': 51, 'class_weight': 'balanced', 'boosting_type': 'gbdt', 'learning_rate': 0.05047461950264641, 'feature_fraction': 0.5313011345209294, 'bagging_freq': 1, 'subsample': 0.5376657252442523}. Best is trial#10 with value: 0.2152903678945649.\u001b[0m\n",
            "\u001b[32m[I 2020-04-06 19:53:04,248]\u001b[0m Finished trial#12 with value: 0.2191465408076253 with parameters: {'num_leaves': 16, 'max_bin': 191.0, 'lambda_l1': 3.893913907159457e-06, 'lambda_l2': 2.155899732476875e-08, 'min_data_in_leaf': 21, 'class_weight': 'balanced', 'boosting_type': 'gbdt', 'learning_rate': 0.05053274261811174, 'feature_fraction': 0.5206166583463174, 'bagging_freq': 1, 'subsample': 0.5149664289258181}. Best is trial#10 with value: 0.2152903678945649.\u001b[0m\n",
            "\u001b[32m[I 2020-04-06 19:53:06,376]\u001b[0m Finished trial#13 with value: 0.21335374669292306 with parameters: {'num_leaves': 16, 'max_bin': 127.0, 'lambda_l1': 4.9548132481562735e-06, 'lambda_l2': 1.0158432957153291e-08, 'min_data_in_leaf': 49, 'class_weight': 'balanced', 'boosting_type': 'gbdt', 'learning_rate': 0.052077954277001084, 'feature_fraction': 0.5621591383366714, 'bagging_freq': 3, 'subsample': 0.8385026023915864}. Best is trial#13 with value: 0.21335374669292306.\u001b[0m\n",
            "\u001b[32m[I 2020-04-06 19:53:07,983]\u001b[0m Finished trial#14 with value: 0.22177819663680698 with parameters: {'num_leaves': 32, 'max_bin': 127.0, 'lambda_l1': 1.198269260395691e-06, 'lambda_l2': 1.701913000095798e-05, 'min_data_in_leaf': 29, 'class_weight': 'balanced', 'boosting_type': 'gbdt', 'learning_rate': 0.09391097927973067, 'feature_fraction': 0.590082895215308, 'bagging_freq': 3, 'subsample': 0.83206804978174}. Best is trial#13 with value: 0.21335374669292306.\u001b[0m\n",
            "\u001b[32m[I 2020-04-06 19:53:10,346]\u001b[0m Finished trial#15 with value: 0.21660712587753317 with parameters: {'num_leaves': 16, 'max_bin': 127.0, 'lambda_l1': 9.102429762854275e-07, 'lambda_l2': 1.27582479908675e-08, 'min_data_in_leaf': 289, 'class_weight': 'balanced', 'boosting_type': 'gbdt', 'learning_rate': 0.06222107084148014, 'feature_fraction': 0.612917363389655, 'bagging_freq': 3, 'subsample': 0.8250050197494261}. Best is trial#13 with value: 0.21335374669292306.\u001b[0m\n",
            "\u001b[32m[I 2020-04-06 19:53:13,769]\u001b[0m Finished trial#16 with value: 0.21770001093103897 with parameters: {'num_leaves': 80, 'max_bin': 127.0, 'lambda_l1': 0.001224329447613577, 'lambda_l2': 8.810948367492319e-06, 'min_data_in_leaf': 75, 'class_weight': 'balanced', 'boosting_type': 'gbdt', 'learning_rate': 0.059761645542941735, 'feature_fraction': 0.4613110007918999, 'bagging_freq': 3, 'subsample': 0.843194292248544}. Best is trial#13 with value: 0.21335374669292306.\u001b[0m\n",
            "\u001b[32m[I 2020-04-06 19:53:14,652]\u001b[0m Finished trial#17 with value: 0.24457444611966173 with parameters: {'num_leaves': 36, 'max_bin': 191.0, 'lambda_l1': 1.302475633086664e-05, 'lambda_l2': 0.0004025820451445949, 'min_data_in_leaf': 177, 'class_weight': 'balanced', 'boosting_type': 'goss', 'learning_rate': 0.09654245322375836, 'feature_fraction': 0.6427979137914126, 'bagging_freq': 4}. Best is trial#13 with value: 0.21335374669292306.\u001b[0m\n",
            "\u001b[32m[I 2020-04-06 19:53:17,132]\u001b[0m Finished trial#18 with value: 0.21975425842748642 with parameters: {'num_leaves': 80, 'max_bin': 63.0, 'lambda_l1': 2.7196030916795336e-07, 'lambda_l2': 1.0911641696539009e-07, 'min_data_in_leaf': 25, 'class_weight': 'balanced', 'boosting_type': 'gbdt', 'learning_rate': 0.05658879020384489, 'feature_fraction': 0.5068916564017554, 'bagging_freq': 2, 'subsample': 0.7548804112333324}. Best is trial#13 with value: 0.21335374669292306.\u001b[0m\n",
            "\u001b[32m[I 2020-04-06 19:53:18,990]\u001b[0m Finished trial#19 with value: 0.21833125380986085 with parameters: {'num_leaves': 32, 'max_bin': 127.0, 'lambda_l1': 0.00037282292038118823, 'lambda_l2': 2.8786131984622298e-06, 'min_data_in_leaf': 343, 'class_weight': 'balanced', 'boosting_type': 'gbdt', 'learning_rate': 0.08154420270363079, 'feature_fraction': 0.6586424875759902, 'bagging_freq': 3, 'subsample': 0.8917135687938695}. Best is trial#13 with value: 0.21335374669292306.\u001b[0m\n",
            "\u001b[32m[I 2020-04-06 19:53:20,883]\u001b[0m Finished trial#20 with value: 0.21788252317265355 with parameters: {'num_leaves': 196, 'max_bin': 191.0, 'lambda_l1': 1.7138394540098276e-05, 'lambda_l2': 0.00014889344109806488, 'min_data_in_leaf': 236, 'class_weight': 'balanced', 'boosting_type': 'gbdt', 'learning_rate': 0.06406840948814047, 'feature_fraction': 0.5651016069439432, 'bagging_freq': 1, 'subsample': 0.7533726013412454}. Best is trial#13 with value: 0.21335374669292306.\u001b[0m\n",
            "\u001b[32m[I 2020-04-06 19:53:22,914]\u001b[0m Finished trial#21 with value: 0.21488332620463269 with parameters: {'num_leaves': 16, 'max_bin': 191.0, 'lambda_l1': 6.098826686650282e-05, 'lambda_l2': 1.8565160424118452e-08, 'min_data_in_leaf': 86, 'class_weight': 'balanced', 'boosting_type': 'gbdt', 'learning_rate': 0.05055751350108739, 'feature_fraction': 0.5309016028428609, 'bagging_freq': 1, 'subsample': 0.8937348156405422}. Best is trial#13 with value: 0.21335374669292306.\u001b[0m\n",
            "\u001b[32m[I 2020-04-06 19:53:24,865]\u001b[0m Finished trial#22 with value: 0.21570320883438032 with parameters: {'num_leaves': 16, 'max_bin': 191.0, 'lambda_l1': 0.00018001859624423283, 'lambda_l2': 1.2626323100572413e-08, 'min_data_in_leaf': 84, 'class_weight': 'balanced', 'boosting_type': 'gbdt', 'learning_rate': 0.05641705856401736, 'feature_fraction': 0.46960530413953994, 'bagging_freq': 1, 'subsample': 0.9889975084553325}. Best is trial#13 with value: 0.21335374669292306.\u001b[0m\n",
            "\u001b[32m[I 2020-04-06 19:53:28,324]\u001b[0m Finished trial#23 with value: 0.2153427799831341 with parameters: {'num_leaves': 44, 'max_bin': 191.0, 'lambda_l1': 0.006684220949183535, 'lambda_l2': 1.4883117303109324e-07, 'min_data_in_leaf': 137, 'class_weight': 'balanced', 'boosting_type': 'gbdt', 'learning_rate': 0.051944383541788375, 'feature_fraction': 0.40721815166493236, 'bagging_freq': 2, 'subsample': 0.8923825683201513}. Best is trial#13 with value: 0.21335374669292306.\u001b[0m\n",
            "\u001b[32m[I 2020-04-06 19:53:31,426]\u001b[0m Finished trial#24 with value: 0.21757177091474844 with parameters: {'num_leaves': 64, 'max_bin': 127.0, 'lambda_l1': 4.429176237931261e-06, 'lambda_l2': 5.210739801667688e-08, 'min_data_in_leaf': 56, 'class_weight': 'balanced', 'boosting_type': 'gbdt', 'learning_rate': 0.050700128051546146, 'feature_fraction': 0.559373360742425, 'bagging_freq': 1, 'subsample': 0.7835920858545584}. Best is trial#13 with value: 0.21335374669292306.\u001b[0m\n",
            "\u001b[32m[I 2020-04-06 19:53:33,827]\u001b[0m Finished trial#25 with value: 0.21612885189186304 with parameters: {'num_leaves': 16, 'max_bin': 191.0, 'lambda_l1': 1.8669203040139077e-07, 'lambda_l2': 2.2863995100489195e-06, 'min_data_in_leaf': 145, 'class_weight': 'balanced', 'boosting_type': 'gbdt', 'learning_rate': 0.06787136485359907, 'feature_fraction': 0.6538087741663996, 'bagging_freq': 2, 'subsample': 0.8831697136100597}. Best is trial#13 with value: 0.21335374669292306.\u001b[0m\n",
            "\u001b[32m[I 2020-04-06 19:53:34,577]\u001b[0m Finished trial#26 with value: 0.26834579023150285 with parameters: {'num_leaves': 32, 'max_bin': 127.0, 'lambda_l1': 0.0006865075529398944, 'lambda_l2': 1.2477125741201554e-08, 'min_data_in_leaf': 20, 'class_weight': 'balanced', 'boosting_type': 'goss', 'learning_rate': 0.24508394384930288, 'feature_fraction': 0.44475306825641137, 'bagging_freq': 3}. Best is trial#13 with value: 0.21335374669292306.\u001b[0m\n",
            "\u001b[32m[I 2020-04-06 19:53:36,936]\u001b[0m Finished trial#27 with value: 0.2187206789105245 with parameters: {'num_leaves': 168, 'max_bin': 191.0, 'lambda_l1': 2.2703471334369293e-05, 'lambda_l2': 4.1550420420555725e-07, 'min_data_in_leaf': 187, 'class_weight': 'balanced', 'boosting_type': 'gbdt', 'learning_rate': 0.057315096275052664, 'feature_fraction': 0.5021623346174318, 'bagging_freq': 4, 'subsample': 0.6946460114451122}. Best is trial#13 with value: 0.21335374669292306.\u001b[0m\n",
            "\u001b[32m[I 2020-04-06 19:53:38,818]\u001b[0m Finished trial#28 with value: 0.22094441769130124 with parameters: {'num_leaves': 48, 'max_bin': 127.0, 'lambda_l1': 3.4115543388254754e-06, 'lambda_l2': 8.930561075958374e-05, 'min_data_in_leaf': 113, 'class_weight': 'balanced', 'boosting_type': 'gbdt', 'learning_rate': 0.1077444168029758, 'feature_fraction': 0.6068521160980819, 'bagging_freq': 2, 'subsample': 0.8021317322205226}. Best is trial#13 with value: 0.21335374669292306.\u001b[0m\n",
            "\u001b[32m[I 2020-04-06 19:53:40,118]\u001b[0m Finished trial#29 with value: 0.23534258740426994 with parameters: {'num_leaves': 92, 'max_bin': 191.0, 'lambda_l1': 3.883005954286228e-07, 'lambda_l2': 1.0024553888850646e-08, 'min_data_in_leaf': 77, 'class_weight': 'balanced', 'boosting_type': 'goss', 'learning_rate': 0.0805646181461769, 'feature_fraction': 0.6806500525253907, 'bagging_freq': 6}. Best is trial#13 with value: 0.21335374669292306.\u001b[0m\n",
            "\u001b[32m[I 2020-04-06 19:53:41,364]\u001b[0m Finished trial#30 with value: 0.2294560752230549 with parameters: {'num_leaves': 28, 'max_bin': 191.0, 'lambda_l1': 9.819049866410684e-05, 'lambda_l2': 6.188076170913039e-08, 'min_data_in_leaf': 51, 'class_weight': 'balanced', 'boosting_type': 'gbdt', 'learning_rate': 0.1683237044802749, 'feature_fraction': 0.401017188909532, 'bagging_freq': 1, 'subsample': 0.8668189494724224}. Best is trial#13 with value: 0.21335374669292306.\u001b[0m\n",
            "\u001b[32m[I 2020-04-06 19:53:45,631]\u001b[0m Finished trial#31 with value: 0.2176302010928195 with parameters: {'num_leaves': 48, 'max_bin': 191.0, 'lambda_l1': 0.01260341831716288, 'lambda_l2': 1.8553175933398615e-07, 'min_data_in_leaf': 120, 'class_weight': 'balanced', 'boosting_type': 'gbdt', 'learning_rate': 0.050044726731067087, 'feature_fraction': 0.40404484638867305, 'bagging_freq': 2, 'subsample': 0.9353852568071775}. Best is trial#13 with value: 0.21335374669292306.\u001b[0m\n",
            "\u001b[32m[I 2020-04-06 19:53:47,995]\u001b[0m Finished trial#32 with value: 0.21453000964097935 with parameters: {'num_leaves': 44, 'max_bin': 191.0, 'lambda_l1': 0.0030440680911885698, 'lambda_l2': 1.8661808142028713e-06, 'min_data_in_leaf': 150, 'class_weight': 'balanced', 'boosting_type': 'gbdt', 'learning_rate': 0.054820103606443064, 'feature_fraction': 0.48756808586894773, 'bagging_freq': 3, 'subsample': 0.7102012219297321}. Best is trial#13 with value: 0.21335374669292306.\u001b[0m\n",
            "\u001b[32m[I 2020-04-06 19:53:50,294]\u001b[0m Finished trial#33 with value: 0.21543020641062205 with parameters: {'num_leaves': 24, 'max_bin': 191.0, 'lambda_l1': 0.0016080254499728868, 'lambda_l2': 1.4343821053615691e-06, 'min_data_in_leaf': 88, 'class_weight': 'balanced', 'boosting_type': 'gbdt', 'learning_rate': 0.05734867294654093, 'feature_fraction': 0.481562580076108, 'bagging_freq': 3, 'subsample': 0.6868913395448235}. Best is trial#13 with value: 0.21335374669292306.\u001b[0m\n",
            "\u001b[32m[I 2020-04-06 19:53:53,272]\u001b[0m Finished trial#34 with value: 0.21708835419804962 with parameters: {'num_leaves': 40, 'max_bin': 191.0, 'lambda_l1': 4.0697640585285934e-05, 'lambda_l2': 0.0015422282473431853, 'min_data_in_leaf': 146, 'class_weight': 'balanced', 'boosting_type': 'gbdt', 'learning_rate': 0.06516778901022877, 'feature_fraction': 0.5665273805554057, 'bagging_freq': 4, 'subsample': 0.7264925849764925}. Best is trial#13 with value: 0.21335374669292306.\u001b[0m\n",
            "\u001b[32m[I 2020-04-06 19:53:55,417]\u001b[0m Finished trial#35 with value: 0.21821855140646595 with parameters: {'num_leaves': 24, 'max_bin': 127.0, 'lambda_l1': 0.00018963049644480455, 'lambda_l2': 5.1681309305913856e-06, 'min_data_in_leaf': 212, 'class_weight': 'balanced', 'boosting_type': 'gbdt', 'learning_rate': 0.05450404620700851, 'feature_fraction': 0.5470081951136816, 'bagging_freq': 3, 'subsample': 0.6476663261828401}. Best is trial#13 with value: 0.21335374669292306.\u001b[0m\n",
            "\u001b[32m[I 2020-04-06 19:53:57,790]\u001b[0m Finished trial#36 with value: 0.21922313467401056 with parameters: {'num_leaves': 68, 'max_bin': 255.0, 'lambda_l1': 0.0024343656411730803, 'lambda_l2': 4.3717106298879876e-07, 'min_data_in_leaf': 166, 'class_weight': None, 'boosting_type': 'gbdt', 'learning_rate': 0.07546956094154755, 'feature_fraction': 0.4906202796900939, 'bagging_freq': 1, 'subsample': 0.7826801516586729}. Best is trial#13 with value: 0.21335374669292306.\u001b[0m\n",
            "\u001b[32m[I 2020-04-06 19:54:00,669]\u001b[0m Finished trial#37 with value: 0.22301650061663525 with parameters: {'num_leaves': 96, 'max_bin': 63.0, 'lambda_l1': 0.013880667690018786, 'lambda_l2': 4.365235152582573e-08, 'min_data_in_leaf': 53, 'class_weight': 'balanced', 'boosting_type': 'gbdt', 'learning_rate': 0.061794414276511736, 'feature_fraction': 0.43319571558857556, 'bagging_freq': 5, 'subsample': 0.8628535375704528}. Best is trial#13 with value: 0.21335374669292306.\u001b[0m\n",
            "\u001b[32m[I 2020-04-06 19:54:01,871]\u001b[0m Finished trial#38 with value: 0.23695248105587507 with parameters: {'num_leaves': 52, 'max_bin': 255.0, 'lambda_l1': 8.414835967294875e-06, 'lambda_l2': 4.485335451535637e-05, 'min_data_in_leaf': 104, 'class_weight': 'balanced', 'boosting_type': 'goss', 'learning_rate': 0.06901767548294768, 'feature_fraction': 0.6141594006213559, 'bagging_freq': 2}. Best is trial#13 with value: 0.21335374669292306.\u001b[0m\n",
            "\u001b[32m[I 2020-04-06 19:54:03,580]\u001b[0m Finished trial#39 with value: 0.2195272123235591 with parameters: {'num_leaves': 24, 'max_bin': 127.0, 'lambda_l1': 1.4537508075491515e-06, 'lambda_l2': 1.024928884985445e-06, 'min_data_in_leaf': 204, 'class_weight': None, 'boosting_type': 'gbdt', 'learning_rate': 0.12369842915205896, 'feature_fraction': 0.5892446363931647, 'bagging_freq': 5, 'subsample': 0.7986700519981358}. Best is trial#13 with value: 0.21335374669292306.\u001b[0m\n",
            "\u001b[32m[I 2020-04-06 19:54:06,791]\u001b[0m Finished trial#40 with value: 0.21658294409971734 with parameters: {'num_leaves': 132, 'max_bin': 255.0, 'lambda_l1': 0.0003979649009478885, 'lambda_l2': 2.3242579888267805e-07, 'min_data_in_leaf': 129, 'class_weight': 'balanced', 'boosting_type': 'gbdt', 'learning_rate': 0.05330207920502394, 'feature_fraction': 0.5308658810540312, 'bagging_freq': 6, 'subsample': 0.9143370463957606}. Best is trial#13 with value: 0.21335374669292306.\u001b[0m\n",
            "\u001b[32m[I 2020-04-06 19:54:10,494]\u001b[0m Finished trial#41 with value: 0.21558984991213037 with parameters: {'num_leaves': 40, 'max_bin': 191.0, 'lambda_l1': 0.010154087273045176, 'lambda_l2': 7.14151723550798e-08, 'min_data_in_leaf': 145, 'class_weight': 'balanced', 'boosting_type': 'gbdt', 'learning_rate': 0.050021760475796075, 'feature_fraction': 0.427693829905327, 'bagging_freq': 2, 'subsample': 0.961990164243727}. Best is trial#13 with value: 0.21335374669292306.\u001b[0m\n",
            "\u001b[32m[I 2020-04-06 19:54:13,687]\u001b[0m Finished trial#42 with value: 0.2181995123596786 with parameters: {'num_leaves': 72, 'max_bin': 191.0, 'lambda_l1': 0.03478176556310936, 'lambda_l2': 1.768556840517671e-07, 'min_data_in_leaf': 93, 'class_weight': 'balanced', 'boosting_type': 'gbdt', 'learning_rate': 0.05453670223782676, 'feature_fraction': 0.4116178110617193, 'bagging_freq': 2, 'subsample': 0.7255217760803975}. Best is trial#13 with value: 0.21335374669292306.\u001b[0m\n",
            "\u001b[32m[I 2020-04-06 19:54:16,472]\u001b[0m Finished trial#43 with value: 0.21996697053641856 with parameters: {'num_leaves': 56, 'max_bin': 191.0, 'lambda_l1': 0.00411338068327657, 'lambda_l2': 2.8019590960091296e-08, 'min_data_in_leaf': 64, 'class_weight': 'balanced', 'boosting_type': 'gbdt', 'learning_rate': 0.05898270133165461, 'feature_fraction': 0.4842211922673761, 'bagging_freq': 3, 'subsample': 0.6648686584131104}. Best is trial#13 with value: 0.21335374669292306.\u001b[0m\n",
            "\u001b[32m[I 2020-04-06 19:54:18,857]\u001b[0m Finished trial#44 with value: 0.2180635035369406 with parameters: {'num_leaves': 16, 'max_bin': 191.0, 'lambda_l1': 6.175185790618919, 'lambda_l2': 1.0367415551029109e-08, 'min_data_in_leaf': 247, 'class_weight': 'balanced', 'boosting_type': 'gbdt', 'learning_rate': 0.05020148660348748, 'feature_fraction': 0.7055893098427137, 'bagging_freq': 1, 'subsample': 0.5990319019527897}. Best is trial#13 with value: 0.21335374669292306.\u001b[0m\n",
            "\u001b[32m[I 2020-04-06 19:54:21,578]\u001b[0m Finished trial#45 with value: 0.21826593018381546 with parameters: {'num_leaves': 44, 'max_bin': 191.0, 'lambda_l1': 0.00010806451571029729, 'lambda_l2': 1.021781859390045e-06, 'min_data_in_leaf': 37, 'class_weight': 'balanced', 'boosting_type': 'gbdt', 'learning_rate': 0.05343505938469062, 'feature_fraction': 0.45697872137936163, 'bagging_freq': 2, 'subsample': 0.8136412740280398}. Best is trial#13 with value: 0.21335374669292306.\u001b[0m\n",
            "\u001b[32m[I 2020-04-06 19:54:24,412]\u001b[0m Finished trial#46 with value: 0.2153132366346714 with parameters: {'num_leaves': 104, 'max_bin': 191.0, 'lambda_l1': 0.2032396472565165, 'lambda_l2': 9.47758205607764e-08, 'min_data_in_leaf': 166, 'class_weight': None, 'boosting_type': 'gbdt', 'learning_rate': 0.06202663915068632, 'feature_fraction': 0.5129114135707215, 'bagging_freq': 3, 'subsample': 0.8478311384735364}. Best is trial#13 with value: 0.21335374669292306.\u001b[0m\n",
            "\u001b[32m[I 2020-04-06 19:54:26,466]\u001b[0m Finished trial#47 with value: 0.21687826816453626 with parameters: {'num_leaves': 112, 'max_bin': 127.0, 'lambda_l1': 0.7392327379576781, 'lambda_l2': 2.814498220976487, 'min_data_in_leaf': 165, 'class_weight': None, 'boosting_type': 'gbdt', 'learning_rate': 0.07325091486414251, 'feature_fraction': 0.5308972614235524, 'bagging_freq': 4, 'subsample': 0.7690567643912573}. Best is trial#13 with value: 0.21335374669292306.\u001b[0m\n",
            "\u001b[32m[I 2020-04-06 19:54:29,007]\u001b[0m Finished trial#48 with value: 0.2161620060940268 with parameters: {'num_leaves': 136, 'max_bin': 255.0, 'lambda_l1': 1.1078723124237302, 'lambda_l2': 2.8525945389215397e-08, 'min_data_in_leaf': 266, 'class_weight': None, 'boosting_type': 'gbdt', 'learning_rate': 0.06281132747431856, 'feature_fraction': 0.7990869972954949, 'bagging_freq': 3, 'subsample': 0.8524732568367371}. Best is trial#13 with value: 0.21335374669292306.\u001b[0m\n",
            "\u001b[32m[I 2020-04-06 19:54:32,761]\u001b[0m Finished trial#49 with value: 0.21618553135298801 with parameters: {'num_leaves': 156, 'max_bin': 191.0, 'lambda_l1': 4.266476671525485e-05, 'lambda_l2': 3.0755701154866955e-07, 'min_data_in_leaf': 104, 'class_weight': None, 'boosting_type': 'gbdt', 'learning_rate': 0.06721012999980087, 'feature_fraction': 0.5880877041051489, 'bagging_freq': 3, 'subsample': 0.9277827136276111}. Best is trial#13 with value: 0.21335374669292306.\u001b[0m\n",
            "\u001b[32m[I 2020-04-06 19:54:34,309]\u001b[0m Finished trial#50 with value: 0.23959808791071957 with parameters: {'num_leaves': 184, 'max_bin': 127.0, 'lambda_l1': 0.10886231911475054, 'lambda_l2': 0.4483151030054534, 'min_data_in_leaf': 36, 'class_weight': None, 'boosting_type': 'goss', 'learning_rate': 0.060318909865621856, 'feature_fraction': 0.5098054433908003, 'bagging_freq': 4}. Best is trial#13 with value: 0.21335374669292306.\u001b[0m\n",
            "\u001b[32m[I 2020-04-06 19:54:37,484]\u001b[0m Finished trial#51 with value: 0.21638270584902486 with parameters: {'num_leaves': 100, 'max_bin': 191.0, 'lambda_l1': 0.21833342339014397, 'lambda_l2': 1.1042971871469417e-07, 'min_data_in_leaf': 130, 'class_weight': None, 'boosting_type': 'gbdt', 'learning_rate': 0.05014119710251603, 'feature_fraction': 0.5409362231680709, 'bagging_freq': 2, 'subsample': 0.7247459118010035}. Best is trial#13 with value: 0.21335374669292306.\u001b[0m\n",
            "\u001b[32m[I 2020-04-06 19:54:40,187]\u001b[0m Finished trial#52 with value: 0.2151886074720819 with parameters: {'num_leaves': 120, 'max_bin': 191.0, 'lambda_l1': 0.052938493080943234, 'lambda_l2': 2.4655032282531904e-08, 'min_data_in_leaf': 162, 'class_weight': None, 'boosting_type': 'gbdt', 'learning_rate': 0.052268738685380026, 'feature_fraction': 0.4622007646672573, 'bagging_freq': 2, 'subsample': 0.8342176095631577}. Best is trial#13 with value: 0.21335374669292306.\u001b[0m\n",
            "\u001b[32m[I 2020-04-06 19:54:42,957]\u001b[0m Finished trial#53 with value: 0.2149697678538388 with parameters: {'num_leaves': 120, 'max_bin': 191.0, 'lambda_l1': 0.044083234803698905, 'lambda_l2': 1.9402906983910922e-08, 'min_data_in_leaf': 197, 'class_weight': None, 'boosting_type': 'gbdt', 'learning_rate': 0.054638787891509, 'feature_fraction': 0.4666798457938508, 'bagging_freq': 3, 'subsample': 0.8308473751542714}. Best is trial#13 with value: 0.21335374669292306.\u001b[0m\n",
            "\u001b[32m[I 2020-04-06 19:54:45,679]\u001b[0m Finished trial#54 with value: 0.21688800652754825 with parameters: {'num_leaves': 124, 'max_bin': 191.0, 'lambda_l1': 0.03299587889908378, 'lambda_l2': 2.0675192949617915e-08, 'min_data_in_leaf': 195, 'class_weight': None, 'boosting_type': 'gbdt', 'learning_rate': 0.05521722586785428, 'feature_fraction': 0.4571330370466728, 'bagging_freq': 1, 'subsample': 0.910766165348442}. Best is trial#13 with value: 0.21335374669292306.\u001b[0m\n",
            "\u001b[32m[I 2020-04-06 19:54:48,111]\u001b[0m Finished trial#55 with value: 0.2164222064001179 with parameters: {'num_leaves': 120, 'max_bin': 191.0, 'lambda_l1': 0.057617073858373134, 'lambda_l2': 2.2215331054718372e-08, 'min_data_in_leaf': 268, 'class_weight': None, 'boosting_type': 'gbdt', 'learning_rate': 0.058572756826402825, 'feature_fraction': 0.47709538977315824, 'bagging_freq': 3, 'subsample': 0.8188969345146594}. Best is trial#13 with value: 0.21335374669292306.\u001b[0m\n",
            "\u001b[32m[I 2020-04-06 19:54:50,824]\u001b[0m Finished trial#56 with value: 0.21735446317383322 with parameters: {'num_leaves': 144, 'max_bin': 191.0, 'lambda_l1': 0.0010645683336679614, 'lambda_l2': 4.408163955266279e-08, 'min_data_in_leaf': 218, 'class_weight': None, 'boosting_type': 'gbdt', 'learning_rate': 0.05314826478192361, 'feature_fraction': 0.6279426295697822, 'bagging_freq': 1, 'subsample': 0.9543663912475486}. Best is trial#13 with value: 0.21335374669292306.\u001b[0m\n",
            "\u001b[32m[I 2020-04-06 19:54:53,881]\u001b[0m Finished trial#57 with value: 0.21748368796840578 with parameters: {'num_leaves': 128, 'max_bin': 127.0, 'lambda_l1': 0.020427358305609218, 'lambda_l2': 1.2270874216116586e-08, 'min_data_in_leaf': 72, 'class_weight': None, 'boosting_type': 'gbdt', 'learning_rate': 0.07128660028569213, 'feature_fraction': 0.5668890042301595, 'bagging_freq': 3, 'subsample': 0.8799700761915092}. Best is trial#13 with value: 0.21335374669292306.\u001b[0m\n",
            "\u001b[32m[I 2020-04-06 19:54:56,155]\u001b[0m Finished trial#58 with value: 0.2179149114361536 with parameters: {'num_leaves': 92, 'max_bin': 191.0, 'lambda_l1': 8.348075274596888e-06, 'lambda_l2': 0.0009037303244301943, 'min_data_in_leaf': 158, 'class_weight': None, 'boosting_type': 'gbdt', 'learning_rate': 0.09103694151911353, 'feature_fraction': 0.43500118771959695, 'bagging_freq': 2, 'subsample': 0.9881380892470717}. Best is trial#13 with value: 0.21335374669292306.\u001b[0m\n",
            "\u001b[32m[I 2020-04-06 19:54:58,795]\u001b[0m Finished trial#59 with value: 0.21654694498251637 with parameters: {'num_leaves': 112, 'max_bin': 255.0, 'lambda_l1': 1.0140108126944354e-08, 'lambda_l2': 5.70947512820389e-07, 'min_data_in_leaf': 187, 'class_weight': None, 'boosting_type': 'gbdt', 'learning_rate': 0.07804539840140276, 'feature_fraction': 0.5038322465671006, 'bagging_freq': 4, 'subsample': 0.8342522820989002}. Best is trial#13 with value: 0.21335374669292306.\u001b[0m\n",
            "\u001b[32m[I 2020-04-06 19:55:00,915]\u001b[0m Finished trial#60 with value: 0.216253152795025 with parameters: {'num_leaves': 140, 'max_bin': 191.0, 'lambda_l1': 0.0030920965865482517, 'lambda_l2': 4.845369317572613e-06, 'min_data_in_leaf': 225, 'class_weight': 'balanced', 'boosting_type': 'gbdt', 'learning_rate': 0.05625790983779605, 'feature_fraction': 0.5519934949987424, 'bagging_freq': 1, 'subsample': 0.8005929009048546}. Best is trial#13 with value: 0.21335374669292306.\u001b[0m\n",
            "\u001b[32m[I 2020-04-06 19:55:03,603]\u001b[0m Finished trial#61 with value: 0.2167801185957544 with parameters: {'num_leaves': 116, 'max_bin': 191.0, 'lambda_l1': 1.843699373401056, 'lambda_l2': 7.497709316282757e-08, 'min_data_in_leaf': 174, 'class_weight': None, 'boosting_type': 'gbdt', 'learning_rate': 0.0649519889381803, 'feature_fraction': 0.5182358428462702, 'bagging_freq': 3, 'subsample': 0.7699702722605312}. Best is trial#13 with value: 0.21335374669292306.\u001b[0m\n",
            "\u001b[32m[I 2020-04-06 19:55:06,410]\u001b[0m Finished trial#62 with value: 0.21619264364058088 with parameters: {'num_leaves': 104, 'max_bin': 191.0, 'lambda_l1': 0.299027671099905, 'lambda_l2': 2.1065393343519274e-08, 'min_data_in_leaf': 155, 'class_weight': None, 'boosting_type': 'gbdt', 'learning_rate': 0.06158675919521163, 'feature_fraction': 0.4506542977494012, 'bagging_freq': 3, 'subsample': 0.8326947100580088}. Best is trial#13 with value: 0.21335374669292306.\u001b[0m\n",
            "\u001b[32m[I 2020-04-06 19:55:09,136]\u001b[0m Finished trial#63 with value: 0.2141269070641757 with parameters: {'num_leaves': 156, 'max_bin': 191.0, 'lambda_l1': 0.10873276235513439, 'lambda_l2': 1.0743997752847184e-08, 'min_data_in_leaf': 119, 'class_weight': None, 'boosting_type': 'gbdt', 'learning_rate': 0.05244672099025601, 'feature_fraction': 0.496876696402704, 'bagging_freq': 3, 'subsample': 0.7429254206577245}. Best is trial#13 with value: 0.21335374669292306.\u001b[0m\n",
            "\u001b[32m[I 2020-04-06 19:55:12,103]\u001b[0m Finished trial#64 with value: 0.21878808151294338 with parameters: {'num_leaves': 172, 'max_bin': 191.0, 'lambda_l1': 2.121998574372935e-06, 'lambda_l2': 1.2696894005236107e-08, 'min_data_in_leaf': 119, 'class_weight': None, 'boosting_type': 'gbdt', 'learning_rate': 0.05207360196794568, 'feature_fraction': 0.4968048830007955, 'bagging_freq': 2, 'subsample': 0.7368219289401021}. Best is trial#13 with value: 0.21335374669292306.\u001b[0m\n",
            "\u001b[32m[I 2020-04-06 19:55:14,725]\u001b[0m Finished trial#65 with value: 0.21885690657288082 with parameters: {'num_leaves': 148, 'max_bin': 191.0, 'lambda_l1': 0.10610455024105735, 'lambda_l2': 4.422759472625386e-08, 'min_data_in_leaf': 100, 'class_weight': None, 'boosting_type': 'gbdt', 'learning_rate': 0.05767715007429368, 'feature_fraction': 0.46846596863414547, 'bagging_freq': 4, 'subsample': 0.7110265422993479}. Best is trial#13 with value: 0.21335374669292306.\u001b[0m\n",
            "\u001b[32m[I 2020-04-06 19:55:17,226]\u001b[0m Finished trial#66 with value: 0.22242497712852438 with parameters: {'num_leaves': 168, 'max_bin': 191.0, 'lambda_l1': 6.50246060204479e-07, 'lambda_l2': 2.5848609856044296e-08, 'min_data_in_leaf': 481, 'class_weight': 'balanced', 'boosting_type': 'gbdt', 'learning_rate': 0.05026464567573378, 'feature_fraction': 0.572183919709297, 'bagging_freq': 3, 'subsample': 0.673563530646126}. Best is trial#13 with value: 0.21335374669292306.\u001b[0m\n",
            "\u001b[32m[I 2020-04-06 19:55:20,743]\u001b[0m Finished trial#67 with value: 0.2176746255353228 with parameters: {'num_leaves': 156, 'max_bin': 191.0, 'lambda_l1': 0.06016344630525389, 'lambda_l2': 1.0370578081861906e-08, 'min_data_in_leaf': 84, 'class_weight': None, 'boosting_type': 'gbdt', 'learning_rate': 0.053655136990397215, 'feature_fraction': 0.4228336959946507, 'bagging_freq': 2, 'subsample': 0.7631646897344204}. Best is trial#13 with value: 0.21335374669292306.\u001b[0m\n",
            "\u001b[32m[I 2020-04-06 19:55:22,235]\u001b[0m Finished trial#68 with value: 0.22784738518935044 with parameters: {'num_leaves': 84, 'max_bin': 127.0, 'lambda_l1': 0.006470326973424332, 'lambda_l2': 1.3158717710430153e-07, 'min_data_in_leaf': 124, 'class_weight': 'balanced', 'boosting_type': 'gbdt', 'learning_rate': 0.2100794292508635, 'feature_fraction': 0.5252393586631964, 'bagging_freq': 3, 'subsample': 0.741241304490358}. Best is trial#13 with value: 0.21335374669292306.\u001b[0m\n",
            "\u001b[32m[I 2020-04-06 19:55:24,646]\u001b[0m Finished trial#69 with value: 0.21534332708217974 with parameters: {'num_leaves': 28, 'max_bin': 191.0, 'lambda_l1': 0.6371962935944123, 'lambda_l2': 0.005913015843055368, 'min_data_in_leaf': 72, 'class_weight': 'balanced', 'boosting_type': 'gbdt', 'learning_rate': 0.058320540716465634, 'feature_fraction': 0.47533374547979695, 'bagging_freq': 4, 'subsample': 0.870694875476959}. Best is trial#13 with value: 0.21335374669292306.\u001b[0m\n",
            "\u001b[32m[I 2020-04-06 19:55:25,392]\u001b[0m Finished trial#70 with value: 0.24821467903942107 with parameters: {'num_leaves': 20, 'max_bin': 127.0, 'lambda_l1': 2.4576188810849046e-05, 'lambda_l2': 1.1599862826035407e-05, 'min_data_in_leaf': 49, 'class_weight': 'balanced', 'boosting_type': 'goss', 'learning_rate': 0.14537732906084214, 'feature_fraction': 0.5439430975419656, 'bagging_freq': 1}. Best is trial#13 with value: 0.21335374669292306.\u001b[0m\n",
            "\u001b[32m[I 2020-04-06 19:55:28,288]\u001b[0m Finished trial#71 with value: 0.2151005245257389 with parameters: {'num_leaves': 124, 'max_bin': 191.0, 'lambda_l1': 0.17915676358128868, 'lambda_l2': 8.46350656673974e-08, 'min_data_in_leaf': 200, 'class_weight': None, 'boosting_type': 'gbdt', 'learning_rate': 0.0525442286464844, 'feature_fraction': 0.5153345466837522, 'bagging_freq': 3, 'subsample': 0.8964953828952492}. Best is trial#13 with value: 0.21335374669292306.\u001b[0m\n",
            "\u001b[32m[I 2020-04-06 19:55:30,841]\u001b[0m Finished trial#72 with value: 0.21602205815816033 with parameters: {'num_leaves': 132, 'max_bin': 191.0, 'lambda_l1': 0.025252316967159048, 'lambda_l2': 4.4822552020797345e-08, 'min_data_in_leaf': 203, 'class_weight': None, 'boosting_type': 'gbdt', 'learning_rate': 0.0518562326343223, 'feature_fraction': 0.4935849341494707, 'bagging_freq': 3, 'subsample': 0.890131870506611}. Best is trial#13 with value: 0.21335374669292306.\u001b[0m\n",
            "\u001b[32m[I 2020-04-06 19:55:33,548]\u001b[0m Finished trial#73 with value: 0.21633270099625646 with parameters: {'num_leaves': 120, 'max_bin': 191.0, 'lambda_l1': 8.497610789114568e-06, 'lambda_l2': 1.0420183680491864e-08, 'min_data_in_leaf': 247, 'class_weight': None, 'boosting_type': 'gbdt', 'learning_rate': 0.05574723596420747, 'feature_fraction': 0.5836123495405972, 'bagging_freq': 3, 'subsample': 0.9017100200104138}. Best is trial#13 with value: 0.21335374669292306.\u001b[0m\n",
            "\u001b[32m[I 2020-04-06 19:55:36,297]\u001b[0m Finished trial#74 with value: 0.21647177357364988 with parameters: {'num_leaves': 108, 'max_bin': 191.0, 'lambda_l1': 0.5242762431037354, 'lambda_l2': 2.074298839051404e-08, 'min_data_in_leaf': 179, 'class_weight': None, 'boosting_type': 'gbdt', 'learning_rate': 0.05200174734941321, 'feature_fraction': 0.4404317376649725, 'bagging_freq': 2, 'subsample': 0.7854472013215557}. Best is trial#13 with value: 0.21335374669292306.\u001b[0m\n",
            "\u001b[32m[I 2020-04-06 19:55:39,461]\u001b[0m Finished trial#75 with value: 0.2161149555761046 with parameters: {'num_leaves': 124, 'max_bin': 191.0, 'lambda_l1': 0.10521403159060963, 'lambda_l2': 6.287250071179791e-08, 'min_data_in_leaf': 136, 'class_weight': None, 'boosting_type': 'gbdt', 'learning_rate': 0.06590033448331094, 'feature_fraction': 0.4674798505673341, 'bagging_freq': 3, 'subsample': 0.849534022082727}. Best is trial#13 with value: 0.21335374669292306.\u001b[0m\n",
            "\u001b[32m[I 2020-04-06 19:55:45,023]\u001b[0m Finished trial#76 with value: 0.22549496871304697 with parameters: {'num_leaves': 132, 'max_bin': 191.0, 'lambda_l1': 0.0002225690779670899, 'lambda_l2': 2.362008885780336e-07, 'min_data_in_leaf': 20, 'class_weight': None, 'boosting_type': 'gbdt', 'learning_rate': 0.05968197560068438, 'feature_fraction': 0.6037696839554856, 'bagging_freq': 2, 'subsample': 0.942585105793424}. Best is trial#13 with value: 0.21335374669292306.\u001b[0m\n",
            "\u001b[32m[I 2020-04-06 19:55:47,456]\u001b[0m Finished trial#77 with value: 0.21705695071283182 with parameters: {'num_leaves': 160, 'max_bin': 63.0, 'lambda_l1': 0.0005988303043858405, 'lambda_l2': 3.203001763131465e-05, 'min_data_in_leaf': 113, 'class_weight': 'balanced', 'boosting_type': 'gbdt', 'learning_rate': 0.05538412260581699, 'feature_fraction': 0.5191626249266359, 'bagging_freq': 4, 'subsample': 0.706792214944911}. Best is trial#13 with value: 0.21335374669292306.\u001b[0m\n",
            "\u001b[32m[I 2020-04-06 19:55:48,911]\u001b[0m Finished trial#78 with value: 0.21990657080178355 with parameters: {'num_leaves': 36, 'max_bin': 191.0, 'lambda_l1': 1.0337850913025925e-07, 'lambda_l2': 3.9424050292409973e-08, 'min_data_in_leaf': 305, 'class_weight': 'balanced', 'boosting_type': 'gbdt', 'learning_rate': 0.10519847868025686, 'feature_fraction': 0.5375951392112709, 'bagging_freq': 1, 'subsample': 0.8570876030234269}. Best is trial#13 with value: 0.21335374669292306.\u001b[0m\n",
            "\u001b[32m[I 2020-04-06 19:55:52,578]\u001b[0m Finished trial#79 with value: 0.21557857967179095 with parameters: {'num_leaves': 188, 'max_bin': 191.0, 'lambda_l1': 7.379070076155001e-05, 'lambda_l2': 3.670788264363549e-07, 'min_data_in_leaf': 150, 'class_weight': None, 'boosting_type': 'gbdt', 'learning_rate': 0.05032938035090615, 'feature_fraction': 0.5000798989382998, 'bagging_freq': 2, 'subsample': 0.9074787167043967}. Best is trial#13 with value: 0.21335374669292306.\u001b[0m\n",
            "\u001b[32m[I 2020-04-06 19:55:57,054]\u001b[0m Finished trial#80 with value: 0.2174138781301861 with parameters: {'num_leaves': 140, 'max_bin': 255.0, 'lambda_l1': 3.3365471002853247e-06, 'lambda_l2': 1.0540313650485604e-07, 'min_data_in_leaf': 95, 'class_weight': 'balanced', 'boosting_type': 'gbdt', 'learning_rate': 0.05349783929544014, 'feature_fraction': 0.7289445655858692, 'bagging_freq': 3, 'subsample': 0.8774787052178616}. Best is trial#13 with value: 0.21335374669292306.\u001b[0m\n",
            "\u001b[32m[I 2020-04-06 19:55:59,751]\u001b[0m Finished trial#81 with value: 0.21720412035610026 with parameters: {'num_leaves': 116, 'max_bin': 191.0, 'lambda_l1': 0.1918765076217312, 'lambda_l2': 8.888686605842386e-08, 'min_data_in_leaf': 196, 'class_weight': None, 'boosting_type': 'gbdt', 'learning_rate': 0.06201124017600961, 'feature_fraction': 0.515520479099201, 'bagging_freq': 3, 'subsample': 0.8110653056993353}. Best is trial#13 with value: 0.21335374669292306.\u001b[0m\n",
            "\u001b[32m[I 2020-04-06 19:56:02,856]\u001b[0m Finished trial#82 with value: 0.21338405598004984 with parameters: {'num_leaves': 100, 'max_bin': 191.0, 'lambda_l1': 0.2857750394793254, 'lambda_l2': 8.948347783811133e-07, 'min_data_in_leaf': 165, 'class_weight': None, 'boosting_type': 'gbdt', 'learning_rate': 0.057106662514171784, 'feature_fraction': 0.4844349126644043, 'bagging_freq': 3, 'subsample': 0.8351228705730218}. Best is trial#13 with value: 0.21335374669292306.\u001b[0m\n",
            "\u001b[32m[I 2020-04-06 19:56:05,669]\u001b[0m Finished trial#83 with value: 0.2158049692568632 with parameters: {'num_leaves': 84, 'max_bin': 191.0, 'lambda_l1': 2.673529005534393, 'lambda_l2': 2.6448650882243035e-06, 'min_data_in_leaf': 233, 'class_weight': None, 'boosting_type': 'gbdt', 'learning_rate': 0.05675141787941072, 'feature_fraction': 0.5551641898853172, 'bagging_freq': 3, 'subsample': 0.8389505766030685}. Best is trial#13 with value: 0.21335374669292306.\u001b[0m\n",
            "\u001b[32m[I 2020-04-06 19:56:08,576]\u001b[0m Finished trial#84 with value: 0.2148025743855011 with parameters: {'num_leaves': 76, 'max_bin': 191.0, 'lambda_l1': 0.3900860636501278, 'lambda_l2': 1.6735150996036787e-06, 'min_data_in_leaf': 177, 'class_weight': None, 'boosting_type': 'gbdt', 'learning_rate': 0.05137342853304288, 'feature_fraction': 0.48675695506003225, 'bagging_freq': 4, 'subsample': 0.8634626564473231}. Best is trial#13 with value: 0.21335374669292306.\u001b[0m\n",
            "\u001b[32m[I 2020-04-06 19:56:11,171]\u001b[0m Finished trial#85 with value: 0.21591285718865716 with parameters: {'num_leaves': 76, 'max_bin': 191.0, 'lambda_l1': 0.3487935349959312, 'lambda_l2': 1.543626689364053e-06, 'min_data_in_leaf': 175, 'class_weight': None, 'boosting_type': 'gbdt', 'learning_rate': 0.05170494987342583, 'feature_fraction': 0.48305787010712176, 'bagging_freq': 5, 'subsample': 0.8963895418549465}. Best is trial#13 with value: 0.21335374669292306.\u001b[0m\n",
            "\u001b[32m[I 2020-04-06 19:56:14,855]\u001b[0m Finished trial#86 with value: 0.2159926242295067 with parameters: {'num_leaves': 60, 'max_bin': 191.0, 'lambda_l1': 9.97959012164272, 'lambda_l2': 6.483171762532869e-06, 'min_data_in_leaf': 208, 'class_weight': None, 'boosting_type': 'gbdt', 'learning_rate': 0.05484479332907206, 'feature_fraction': 0.4192484546205818, 'bagging_freq': 4, 'subsample': 0.8644951260610536}. Best is trial#13 with value: 0.21335374669292306.\u001b[0m\n",
            "\u001b[32m[I 2020-04-06 19:56:17,458]\u001b[0m Finished trial#87 with value: 0.2161021534584373 with parameters: {'num_leaves': 92, 'max_bin': 191.0, 'lambda_l1': 0.9190671493549175, 'lambda_l2': 1.829530284004748e-06, 'min_data_in_leaf': 159, 'class_weight': None, 'boosting_type': 'gbdt', 'learning_rate': 0.05901112866589976, 'feature_fraction': 0.450195958092847, 'bagging_freq': 4, 'subsample': 0.7908582793125503}. Best is trial#13 with value: 0.21335374669292306.\u001b[0m\n",
            "\u001b[32m[I 2020-04-06 19:56:21,121]\u001b[0m Finished trial#88 with value: 0.21538523486907313 with parameters: {'num_leaves': 100, 'max_bin': 191.0, 'lambda_l1': 0.05916483292686714, 'lambda_l2': 1.0124756466798748e-06, 'min_data_in_leaf': 138, 'class_weight': None, 'boosting_type': 'gbdt', 'learning_rate': 0.050182188393571595, 'feature_fraction': 0.4892501748091796, 'bagging_freq': 4, 'subsample': 0.9247595904445963}. Best is trial#13 with value: 0.21335374669292306.\u001b[0m\n",
            "\u001b[32m[I 2020-04-06 19:56:23,745]\u001b[0m Finished trial#89 with value: 0.21640207315523952 with parameters: {'num_leaves': 68, 'max_bin': 191.0, 'lambda_l1': 1.4037611315488208, 'lambda_l2': 5.33593498024868e-07, 'min_data_in_leaf': 197, 'class_weight': None, 'boosting_type': 'gbdt', 'learning_rate': 0.060390722307157724, 'feature_fraction': 0.4641314404066031, 'bagging_freq': 3, 'subsample': 0.8209327056487025}. Best is trial#13 with value: 0.21335374669292306.\u001b[0m\n",
            "\u001b[32m[I 2020-04-06 19:56:24,634]\u001b[0m Finished trial#90 with value: 0.25189818749368786 with parameters: {'num_leaves': 112, 'max_bin': 191.0, 'lambda_l1': 0.1375150876226321, 'lambda_l2': 4.331941424539507e-06, 'min_data_in_leaf': 216, 'class_weight': None, 'boosting_type': 'goss', 'learning_rate': 0.0500278375125026, 'feature_fraction': 0.4008469403486764, 'bagging_freq': 4}. Best is trial#13 with value: 0.21335374669292306.\u001b[0m\n",
            "\u001b[32m[I 2020-04-06 19:56:29,225]\u001b[0m Finished trial#91 with value: 0.21715455318256816 with parameters: {'num_leaves': 128, 'max_bin': 191.0, 'lambda_l1': 0.41091517153436524, 'lambda_l2': 1.926569686727784e-07, 'min_data_in_leaf': 62, 'class_weight': None, 'boosting_type': 'gbdt', 'learning_rate': 0.053344078864456565, 'feature_fraction': 0.503893033836225, 'bagging_freq': 3, 'subsample': 0.8830034718360246}. Best is trial#13 with value: 0.21335374669292306.\u001b[0m\n",
            "\u001b[32m[I 2020-04-06 19:56:31,682]\u001b[0m Finished trial#92 with value: 0.2156816531319835 with parameters: {'num_leaves': 20, 'max_bin': 191.0, 'lambda_l1': 1.550574663445953e-05, 'lambda_l2': 1.6554455310819534e-08, 'min_data_in_leaf': 186, 'class_weight': 'balanced', 'boosting_type': 'gbdt', 'learning_rate': 0.05594792040832779, 'feature_fraction': 0.5344300643540456, 'bagging_freq': 3, 'subsample': 0.8453786462052258}. Best is trial#13 with value: 0.21335374669292306.\u001b[0m\n",
            "\u001b[32m[I 2020-04-06 19:56:34,327]\u001b[0m Finished trial#93 with value: 0.21637460878315007 with parameters: {'num_leaves': 28, 'max_bin': 191.0, 'lambda_l1': 0.009764338051062324, 'lambda_l2': 7.021297359819739e-07, 'min_data_in_leaf': 43, 'class_weight': None, 'boosting_type': 'gbdt', 'learning_rate': 0.0519879383860656, 'feature_fraction': 0.4826737639826648, 'bagging_freq': 3, 'subsample': 0.8686409116220306}. Best is trial#13 with value: 0.21335374669292306.\u001b[0m\n",
            "\u001b[32m[I 2020-04-06 19:56:37,823]\u001b[0m Finished trial#94 with value: 0.21791042522397952 with parameters: {'num_leaves': 108, 'max_bin': 191.0, 'lambda_l1': 0.046946137221291574, 'lambda_l2': 3.3198856384075766e-08, 'min_data_in_leaf': 112, 'class_weight': 'balanced', 'boosting_type': 'gbdt', 'learning_rate': 0.05755477826116844, 'feature_fraction': 0.4536823274970775, 'bagging_freq': 3, 'subsample': 0.806849040481842}. Best is trial#13 with value: 0.21335374669292306.\u001b[0m\n",
            "\u001b[32m[I 2020-04-06 19:56:41,208]\u001b[0m Finished trial#95 with value: 0.21541510647696338 with parameters: {'num_leaves': 52, 'max_bin': 191.0, 'lambda_l1': 4.216345079136128, 'lambda_l2': 1.6045755200513916e-08, 'min_data_in_leaf': 143, 'class_weight': None, 'boosting_type': 'gbdt', 'learning_rate': 0.06424277376471743, 'feature_fraction': 0.5741094879474471, 'bagging_freq': 2, 'subsample': 0.8258560223582717}. Best is trial#13 with value: 0.21335374669292306.\u001b[0m\n",
            "\u001b[32m[I 2020-04-06 19:56:43,282]\u001b[0m Finished trial#96 with value: 0.21571152473987354 with parameters: {'num_leaves': 88, 'max_bin': 127.0, 'lambda_l1': 2.8434543021526165e-05, 'lambda_l2': 2.6554169976987534e-07, 'min_data_in_leaf': 164, 'class_weight': 'balanced', 'boosting_type': 'gbdt', 'learning_rate': 0.054100162395683785, 'feature_fraction': 0.5244005288790485, 'bagging_freq': 1, 'subsample': 0.7555855977812111}. Best is trial#13 with value: 0.21335374669292306.\u001b[0m\n",
            "\u001b[32m[I 2020-04-06 19:56:46,033]\u001b[0m Finished trial#97 with value: 0.21654453774671578 with parameters: {'num_leaves': 36, 'max_bin': 191.0, 'lambda_l1': 0.2858968860808534, 'lambda_l2': 2.1874583531617006e-05, 'min_data_in_leaf': 172, 'class_weight': None, 'boosting_type': 'gbdt', 'learning_rate': 0.051353937472035656, 'feature_fraction': 0.44119292781104574, 'bagging_freq': 2, 'subsample': 0.6917901493541835}. Best is trial#13 with value: 0.21335374669292306.\u001b[0m\n",
            "\u001b[32m[I 2020-04-06 19:56:48,658]\u001b[0m Finished trial#98 with value: 0.21624188255468546 with parameters: {'num_leaves': 20, 'max_bin': 191.0, 'lambda_l1': 0.01999300142455035, 'lambda_l2': 5.89056569480967e-08, 'min_data_in_leaf': 152, 'class_weight': 'balanced', 'boosting_type': 'gbdt', 'learning_rate': 0.05484497019704043, 'feature_fraction': 0.5586434695526883, 'bagging_freq': 4, 'subsample': 0.7798493373674346}. Best is trial#13 with value: 0.21335374669292306.\u001b[0m\n",
            "\u001b[32m[I 2020-04-06 19:56:51,921]\u001b[0m Finished trial#99 with value: 0.2153765907041526 with parameters: {'num_leaves': 116, 'max_bin': 191.0, 'lambda_l1': 0.16484526869581698, 'lambda_l2': 8.510615217281724e-05, 'min_data_in_leaf': 131, 'class_weight': None, 'boosting_type': 'gbdt', 'learning_rate': 0.05003612462357428, 'feature_fraction': 0.4705398110145803, 'bagging_freq': 7, 'subsample': 0.9205138447246368}. Best is trial#13 with value: 0.21335374669292306.\u001b[0m\n"
          ],
          "name": "stderr"
        }
      ]
    },
    {
      "cell_type": "markdown",
      "metadata": {
        "id": "OPj4oiTS8sif",
        "colab_type": "text"
      },
      "source": [
        "# LGBM Class with PEP8"
      ]
    },
    {
      "cell_type": "code",
      "metadata": {
        "id": "ZSYV5xlIhCKX",
        "colab_type": "code",
        "colab": {}
      },
      "source": [
        "\n",
        "# coding: utf-8\n",
        "''' This class tunes hyperparamter for LightGBM ML algorithm for Higgs dataset'''\n",
        "import csv\n",
        "from timeit import default_timer as timer\n",
        "import random\n",
        "import numpy as np\n",
        "import pandas as pd\n",
        "import lightgbm as lgb\n",
        "from sklearn.model_selection import train_test_split\n",
        "from sklearn.metrics import auc, accuracy_score, roc_auc_score, roc_curve, confusion_matrix\n",
        "from hyperopt import STATUS_OK, STATUS_FAIL, hp, tpe, Trials, fmin\n",
        "import optuna.integration.lightgbm as lgbo\n",
        "import optuna\n",
        "\n",
        "# defining constant\n",
        "MAX_EVALS = 5\n",
        "N_FOLDS = 3\n",
        "NUM_BOOST_ROUNDS = 10000\n",
        "EARLY_STOPPING_ROUNDS = 100\n",
        "SEED = 47\n",
        "RESULT_PATH = '/content/lgbm.csv'\n",
        "FILE_PATH = \"drive/My Drive/Colab Notebooks/train_test_files_sample.csv\" \n",
        "OBJECTIVE_LOSS = 'binary' # use cross_entrpy\n",
        "# \"/home/jupyter/train_test_files/sample.csv\" for google cloud\n",
        "\n",
        "# starting with storing the data as data frame\n",
        "df = pd.read_csv(FILE_PATH)\n",
        "df.drop(columns='Unnamed: 0', inplace=True)\n",
        "\n",
        "# making a smaller df for quick testing\n",
        "df_s, _ = train_test_split(df, random_state=30, train_size=0.01)\n",
        "train_X = df_s.drop(columns='0')\n",
        "train_y = df_s['0']\n",
        "\n",
        "# drop last columns\n",
        "def col_keep(df):\n",
        "    '''Removes the last 7 columns'''\n",
        "    return df.drop(columns=list(map(str, range(22, 29))), inplace=True) # removing 7 last columns\n",
        "\n",
        "\n",
        "# random search\n",
        "PARAM_GRID = {\n",
        "    'num_leaves': list(range(16, 196, 4)),\n",
        "    'max_bin': [254],\n",
        "    'lambda_l1': list(np.linspace(0, 1)),\n",
        "    'lambda_l2': list(np.linspace(0, 1)),\n",
        "    'min_data_in_leaf' : list(range(20, 500, 10)),\n",
        "    'class_weight': [None, 'balanced'],\n",
        "    'boosting_type': ['gbdt', 'goss'],\n",
        "    'learning_rate' : list(np.logspace(np.log(0.05), np.log(0.2), base=np.exp(1), num=1000)),\n",
        "    'feature_fraction': list(np.linspace(0.4, 1.0)),\n",
        "    'bagging_freq': list(range(1, 7)),\n",
        "    'verbosity' : [0],\n",
        "    'objective' : OBJECTIVE_LOSS\n",
        "    }\n",
        "\n",
        "\n",
        "# Hyperopt Space\n",
        "H_SPACE = {\n",
        "    'num_leaves': hp.quniform('num_leaves', 16, 196, 4),\n",
        "    'max_bin' : hp.quniform('max_bin', 253, 254, 1), #if using CPU just set this to 254\n",
        "    'lambda_l1': hp.uniform('lambda_l1', 0.0, 1.0),\n",
        "    'lambda_l2': hp.uniform(\"lambda_l2\", 0.0, 1.0),\n",
        "    'min_data_in_leaf' : hp.quniform('min_data_in_leaf', 20, 500, 10),\n",
        "    'class_weight': hp.choice('class_weight', [None, 'balanced']),\n",
        "    'boosting_type': hp.choice('boosting_type',\n",
        "                               [{'boosting_type': 'gbdt',\n",
        "                                 'subsample': hp.uniform('gdbt_subsample', 0.5, 1)},\n",
        "                                #{'boosting_type': 'dart',\n",
        "                                #'subsample': hp.uniform('dart_subsample', 0.5, 1)},\n",
        "                                {'boosting_type': 'goss', 'subsample': 1.0}]),\n",
        "    'learning_rate' : hp.loguniform('learning_rate', np.log(0.05), np.log(0.25)),\n",
        "    'subsample_for_bin': hp.quniform('subsample_for_bin', 20000, 300000, 20000),\n",
        "    'feature_fraction': hp.uniform('feature_fraction', 0.4, 1.0),\n",
        "    'bagging_freq': hp.uniform('bagging_freq', 1, 7),\n",
        "    'verbosity' : 0,\n",
        "    'objective' : OBJECTIVE_LOSS\n",
        "    }\n",
        "\n",
        "class Parameter_Tuning():\n",
        "    '''Parameter Tuning Class tunes the LightGBM model with different optimization techniques -\n",
        "    Hyperopt, Optuna and RandomSearch. At present method for CV using Hyperopt is defined'''\n",
        "    def __init__(self, x_train, y_train):\n",
        "        '''Initializes the Parameter tuning class and also initializes LightGBM dataset object\n",
        "        Parameters\n",
        "        ----------\n",
        "        x_train: data (string, numpy array, pandas DataFrame, H2O DataTable's Frame, scipy.sparse\n",
        "        or list of numpy arrays) – Data source of Dataset. If string, it represents the path to\n",
        "        txt file.\n",
        "        y_train: label (list, numpy 1-D array, pandas Series / one-column DataFrame or None,\n",
        "        optional (default=None)) – Label of the data.'''\n",
        "\n",
        "        self.iteration = 0\n",
        "\n",
        "        # File to save first results\n",
        "        self.out_file = RESULT_PATH\n",
        "        of_connection = open(self.out_file, 'w')\n",
        "        writer = csv.writer(of_connection)\n",
        "\n",
        "        # Write the headers to the file\n",
        "        writer.writerow(['loss', 'params', 'iteration', 'estimators', 'train_time','optim_type'])\n",
        "        of_connection.close()\n",
        "\n",
        "        self.x_train = x_train\n",
        "        self.y_train = y_train\n",
        "        self.train_set = lgb.Dataset(data=train_X, label=train_y)\n",
        "\n",
        "    def lgb_crossval(self, params, optim_type):\n",
        "        '''lgb cross validation model\n",
        "        Paramters\n",
        "        ---------\n",
        "        params: Hyper parameters in dict type from different optimization methods\n",
        "        optim_type: Is the type of optimization called we use lgb integration for optuna type\n",
        "        Returns\n",
        "        ------\n",
        "        Loss, params, n_estimator, run_time'''\n",
        "        # initializing the timer\n",
        "         \n",
        "        start = timer()\n",
        "        if optim_type == 'optuna':\n",
        "            cv_results = lgbo.cv(params, self.train_set, num_boost_round=NUM_BOOST_ROUNDS,\n",
        "                                 nfold=N_FOLDS, early_stopping_rounds=EARLY_STOPPING_ROUNDS,\n",
        "                                 metrics=['auc', 'binary', 'xentropy'], seed=SEED)\n",
        "        else:\n",
        "            cv_results = lgb.cv(params, self.train_set, num_boost_round=NUM_BOOST_ROUNDS,\n",
        "                                nfold=N_FOLDS, early_stopping_rounds=EARLY_STOPPING_ROUNDS,\n",
        "                                metrics=['auc', 'binary', 'xentropy'], seed=SEED)\n",
        "        # store the runtime\n",
        "        run_time = timer() - start\n",
        "\n",
        "        # Extract the best score\n",
        "        best_score = np.max(cv_results['auc-mean'])\n",
        "\n",
        "        # Loss must be minimized\n",
        "        loss = 1 - best_score\n",
        "\n",
        "        # Boosting rounds that returned the highest cv score\n",
        "        n_estimators = int(np.argmax(cv_results['auc-mean']) + 1)\n",
        "\n",
        "        # Write to the csv file ('a' means append)\n",
        "        of_connection = open(self.out_file, 'a')\n",
        "        writer = csv.writer(of_connection)\n",
        "        writer.writerow([loss, params, self.iteration, n_estimators, run_time, optim_type])\n",
        "\n",
        "        return loss, params, n_estimators, run_time\n",
        "\n",
        "    def hyperopt_space(self, fn_name, space, algo=tpe.suggest, trials=Trials()):\n",
        "        '''A method to call the hyperopt optimization for the data\n",
        "        Parameters\n",
        "        ----------\n",
        "        fn_name: is the objective function to minimize defined with in the class function\n",
        "        space: is dictionary type hypeorpt space over which the search is done\n",
        "        algo: is the type of search algorithm\n",
        "        trials: Hyperopt base trials object\n",
        "        Returns\n",
        "        -------\n",
        "        result: best parameter that minimizes the fn_name over max_evals = 50 FIXED FOR TESTING\n",
        "        trials: the database in which to store all the point evaluations of the search'''\n",
        "        fn = getattr(self, fn_name)\n",
        "        try:\n",
        "            result = fmin(fn=fn, space=space, algo=algo, max_evals=MAX_EVALS,\n",
        "                          trials=trials, rstate=np.random.RandomState(50))\n",
        "        except Exception as e:\n",
        "            return {'status': STATUS_FAIL, 'exception': str(e)}\n",
        "        self.estimator = trials.best_trial['result']['estimators']\n",
        "        self.params = trials.best_trial['result']['params']\n",
        "        return result, trials\n",
        "\n",
        "    def optuna_space(self, fn_name):\n",
        "        '''Optuna search space'''\n",
        "        fn = getattr(self, fn_name)\n",
        "        try:\n",
        "            study = optuna.create_study(direction='minimize')\n",
        "            study.optimize(fn, n_trials=5)\n",
        "        except Exception as e:\n",
        "            return {'exception': str(e)}\n",
        "        return study\n",
        "\n",
        "    def random_space(self, space):\n",
        "        '''Random search space'''\n",
        "        # Dataframe to hold cv results\n",
        "        random_results = pd.DataFrame(columns=['loss', 'params', 'iteration', 'estimators',\n",
        "                                               'time'], index=list(range(MAX_EVALS)))\n",
        "\n",
        "        # Iterate through the specified number of evaluations\n",
        "        for i in range(MAX_EVALS):\n",
        "\n",
        "            # Randomly sample parameters for gbm\n",
        "            params = {key: random.sample(value, 1)[0] for key, value in space.items()}\n",
        "            results_list = self.randomsrch_obj(params, i)\n",
        "\n",
        "            # Add results to next row in dataframe\n",
        "            random_results.loc[i, :] = results_list\n",
        "        return random_results\n",
        "\n",
        "    def hyperopt_obj(self, params):\n",
        "        \"\"\"Objective function for Gradient Boosting Machine Hyperparameter Optimization\"\"\"\n",
        "\n",
        "        optim_type = 'Hyperopt'\n",
        "        self.iteration += 1\n",
        "\n",
        "        # Retrieve the subsample if present otherwise set to 1.0\n",
        "        subsample = params['boosting_type'].get('subsample', 1.0)\n",
        "\n",
        "        # Extract the boosting type\n",
        "        params['boosting_type'] = params['boosting_type']['boosting_type']\n",
        "        params['subsample'] = subsample\n",
        "\n",
        "        # Make sure parameters that need to be integers are integers\n",
        "        for parameter_name in ['num_leaves', 'subsample_for_bin', 'min_data_in_leaf',\n",
        "                               'max_bin', 'bagging_freq']:\n",
        "            params[parameter_name] = int(params[parameter_name])\n",
        "\n",
        "        # Perform n_folds cross validation\n",
        "        loss, params, n_estimators, run_time = self.lgb_crossval(params, optim_type)\n",
        "\n",
        "        # Dictionary with information for evaluation\n",
        "        return {'loss':loss, 'params':params, 'iteration':self.iteration,\n",
        "                'estimators':n_estimators, 'train_time':run_time, 'status':STATUS_OK}\n",
        "\n",
        "    def optuna_obj(self, trial):\n",
        "        '''Defining the parameters space inside the function for optuna optimization'''\n",
        "        params = {\n",
        "            'num_leaves': trial.suggest_int('num_leaves', 16, 196, 4),\n",
        "            'max_bin' : trial.suggest_discrete_uniform('max_bin', 63, 255, 64),\n",
        "            'lambda_l1': trial.suggest_loguniform('lambda_l1', 1e-8, 10.0),\n",
        "            'lambda_l2': trial.suggest_loguniform(\"lambda_l2\", 1e-8, 10.0),\n",
        "            'min_data_in_leaf' : trial.suggest_int('min_data_in_leaf', 20, 500),\n",
        "            'class_weight': trial.suggest_categorical('class_weight', [None, 'balanced']),\n",
        "            'boosting_type': trial.suggest_categorical('boosting_type', ['gbdt', 'goss']),\n",
        "            # removed 'dart'\n",
        "            'learning_rate' : trial.suggest_loguniform('learning_rate', 0.05, 0.25),\n",
        "            'feature_fraction': trial.suggest_uniform(\"feature_fraction\", 0.4, 1.0),\n",
        "            'bagging_freq': trial.suggest_int(\"bagging_freq\", 1, 7),\n",
        "            'verbosity' : 0,\n",
        "            'objective' : OBJECTIVE_LOSS\n",
        "                }\n",
        "\n",
        "        optim_type = 'Optuna'\n",
        "        self.iteration += 1\n",
        "\n",
        "        # Make sure parameters that need to be integers are integers\n",
        "        for parameter_name in ['num_leaves', 'min_data_in_leaf',\n",
        "                               'max_bin', 'bagging_freq']:\n",
        "            params[parameter_name] = int(params[parameter_name])\n",
        "\n",
        "        # Perform n_folds cross validation\n",
        "        if params['boosting_type'] == 'goss':\n",
        "            params['subsample'] = 1\n",
        "        else:\n",
        "            params['subsample'] = trial.suggest_uniform('subsample', 0.5, 1)\n",
        "\n",
        "        loss, params, _, _ = self.lgb_crossval(params, optim_type)\n",
        "\n",
        "        return loss\n",
        "\n",
        "    def randomsrch_obj(self, params, iteration):\n",
        "        \"\"\"Random search objective function. Takes in hyperparameters and returns a list\n",
        "        of results to be saved.\"\"\"\n",
        "        optim_type = 'Random'\n",
        "        self.iteration += 1\n",
        "\n",
        "        # Subsampling (only applicable with 'goss')\n",
        "        subsample_dist = list(np.linspace(0.5, 1, 100))\n",
        "\n",
        "        if params['boosting_type'] == 'goss':\n",
        "            # Cannot subsample with goss\n",
        "            params['subsample'] = 1.0\n",
        "        else:\n",
        "            # Subsample supported for gdbt and dart\n",
        "            params['subsample'] = random.sample(subsample_dist, 1)[0]\n",
        "\n",
        "        # Perform n_folds cross validation\n",
        "        loss, params, n_estimators, run_time = self.lgb_crossval(params, optim_type)\n",
        "\n",
        "        # Return list of results\n",
        "        return [loss, params, iteration, n_estimators, run_time]\n",
        "\n",
        "    def train(self, x_test, y_test):\n",
        "        \"\"\"This function evaluates the model on paramters and estimators\n",
        "        Parameters\n",
        "        ----------\n",
        "        x_test: test set; y_test: test label\"\"\"\n",
        "        self.model = lgb.LGBMClassifier(self.params, n_estimators=self.estimator,\n",
        "                                        obejective='binary', random_state=SEED)\n",
        "        print(\"Model will be trained with best parameters obtained from Hyperopt \\n\\n\\n\")\n",
        "        print(\"Model trained with {} estimators on the following parameters\",\n",
        "              \": \\n{}\".format(self.estimator, self.params))\n",
        "        self.model.fit(lgb.Dataset(data=x_test, label = y_test))\n",
        "\n",
        "    def evaluate(self):\n",
        "        \"\"\"This function generates the evaluation report for the model\"\"\"\n",
        "\n",
        "\n",
        "obj = Parameter_Tuning(train_X, train_y)\n",
        "\n"
      ],
      "execution_count": 0,
      "outputs": []
    },
    {
      "cell_type": "code",
      "metadata": {
        "id": "M7CLJgoJCfvZ",
        "colab_type": "code",
        "colab": {
          "base_uri": "https://localhost:8080/",
          "height": 34
        },
        "outputId": "7414a556-d653-4111-ec7d-9a554fc09623"
      },
      "source": [
        "lgb_ho = obj.hyperopt_space(fn_name='hyperopt_obj', space=H_SPACE,\n",
        "                            algo=tpe.suggest, trials=Trials())\n",
        "    "
      ],
      "execution_count": 79,
      "outputs": [
        {
          "output_type": "stream",
          "text": [
            "100%|██████████| 5/5 [00:11<00:00,  2.22s/it, best loss: 0.2172703193406188]\n"
          ],
          "name": "stdout"
        }
      ]
    },
    {
      "cell_type": "code",
      "metadata": {
        "id": "LXURD5E393we",
        "colab_type": "code",
        "colab": {
          "base_uri": "https://localhost:8080/",
          "height": 72
        },
        "outputId": "a046959b-eaa4-4d00-9fd2-6a472ce56201"
      },
      "source": [
        "model = obj.train()"
      ],
      "execution_count": 81,
      "outputs": [
        {
          "output_type": "stream",
          "text": [
            "Model trained with 107 estimators on the following parameters : \n",
            "{'bagging_freq': 2, 'boosting_type': 'gbdt', 'class_weight': 'balanced', 'feature_fraction': 0.925984858968721, 'lambda_l1': 0.8546268615947283, 'lambda_l2': 0.20851241909379892, 'learning_rate': 0.08279997609106177, 'max_bin': 254, 'min_data_in_leaf': 310, 'num_leaves': 120, 'objective': 'binary', 'subsample_for_bin': 300000, 'verbosity': 0, 'subsample': 0.9071514063207494}\n"
          ],
          "name": "stdout"
        }
      ]
    },
    {
      "cell_type": "code",
      "metadata": {
        "id": "nKKopiJe-L1U",
        "colab_type": "code",
        "colab": {
          "base_uri": "https://localhost:8080/",
          "height": 34
        },
        "outputId": "83b423d7-79bd-4dd8-a826-154d945e87a9"
      },
      "source": [
        "type(model)"
      ],
      "execution_count": 77,
      "outputs": [
        {
          "output_type": "execute_result",
          "data": {
            "text/plain": [
              "NoneType"
            ]
          },
          "metadata": {
            "tags": []
          },
          "execution_count": 77
        }
      ]
    },
    {
      "cell_type": "code",
      "metadata": {
        "id": "MTRTTguBEF0X",
        "colab_type": "code",
        "colab": {
          "base_uri": "https://localhost:8080/",
          "height": 125
        },
        "outputId": "17acc06a-c968-44fd-afae-a4bf800386e5"
      },
      "source": [
        "lgb_op = obj.optuna_space(fn_name='optuna_obj')\n",
        "    "
      ],
      "execution_count": 50,
      "outputs": [
        {
          "output_type": "stream",
          "text": [
            "\u001b[32m[I 2020-04-11 19:06:42,209]\u001b[0m Finished trial#0 with value: 0.21964308790141873 with parameters: {'num_leaves': 108, 'max_bin': 191.0, 'lambda_l1': 3.374528566277284e-05, 'lambda_l2': 0.00010821689556176266, 'min_data_in_leaf': 441, 'class_weight': None, 'boosting_type': 'gbdt', 'learning_rate': 0.11797661300694938, 'feature_fraction': 0.8788942633007061, 'bagging_freq': 2, 'subsample': 0.8525787037271495}. Best is trial#0 with value: 0.21964308790141873.\u001b[0m\n",
            "\u001b[32m[I 2020-04-11 19:06:43,484]\u001b[0m Finished trial#1 with value: 0.22726866381890665 with parameters: {'num_leaves': 28, 'max_bin': 191.0, 'lambda_l1': 0.7425658040564476, 'lambda_l2': 0.03728518249075574, 'min_data_in_leaf': 461, 'class_weight': 'balanced', 'boosting_type': 'gbdt', 'learning_rate': 0.1900006769381841, 'feature_fraction': 0.4802578458197302, 'bagging_freq': 1, 'subsample': 0.7209024591707711}. Best is trial#0 with value: 0.21964308790141873.\u001b[0m\n",
            "\u001b[32m[I 2020-04-11 19:06:44,782]\u001b[0m Finished trial#2 with value: 0.24365066938115332 with parameters: {'num_leaves': 20, 'max_bin': 191.0, 'lambda_l1': 0.00019870765183407826, 'lambda_l2': 0.0004830662846308966, 'min_data_in_leaf': 73, 'class_weight': None, 'boosting_type': 'goss', 'learning_rate': 0.1582729593685953, 'feature_fraction': 0.6676755233972336, 'bagging_freq': 4}. Best is trial#0 with value: 0.21964308790141873.\u001b[0m\n",
            "\u001b[32m[I 2020-04-11 19:06:46,713]\u001b[0m Finished trial#3 with value: 0.23214156559832444 with parameters: {'num_leaves': 52, 'max_bin': 255.0, 'lambda_l1': 2.097198195106419e-08, 'lambda_l2': 0.09947162392347755, 'min_data_in_leaf': 144, 'class_weight': None, 'boosting_type': 'gbdt', 'learning_rate': 0.23805852421526236, 'feature_fraction': 0.48353595740228256, 'bagging_freq': 2, 'subsample': 0.9892399951510613}. Best is trial#0 with value: 0.21964308790141873.\u001b[0m\n",
            "\u001b[32m[I 2020-04-11 19:06:48,987]\u001b[0m Finished trial#4 with value: 0.22132683992418078 with parameters: {'num_leaves': 92, 'max_bin': 63.0, 'lambda_l1': 6.829777422597086e-07, 'lambda_l2': 3.281026427267255e-08, 'min_data_in_leaf': 147, 'class_weight': 'balanced', 'boosting_type': 'gbdt', 'learning_rate': 0.06522951838826871, 'feature_fraction': 0.8722899245297686, 'bagging_freq': 6, 'subsample': 0.5092399654247615}. Best is trial#0 with value: 0.21964308790141873.\u001b[0m\n"
          ],
          "name": "stderr"
        }
      ]
    },
    {
      "cell_type": "code",
      "metadata": {
        "id": "02E6Y1tnEGZn",
        "colab_type": "code",
        "colab": {
          "base_uri": "https://localhost:8080/",
          "height": 34
        },
        "outputId": "f2e483b9-9918-499c-da09-4870680690fb"
      },
      "source": [
        "lgb_op"
      ],
      "execution_count": 69,
      "outputs": [
        {
          "output_type": "execute_result",
          "data": {
            "text/plain": [
              "<optuna.study.Study at 0x7f49591ff9e8>"
            ]
          },
          "metadata": {
            "tags": []
          },
          "execution_count": 69
        }
      ]
    },
    {
      "cell_type": "code",
      "metadata": {
        "id": "J1R0eVtzVsLp",
        "colab_type": "code",
        "colab": {
          "base_uri": "https://localhost:8080/",
          "height": 230
        },
        "outputId": "72af0cc3-fa4d-4945-8930-fa5eeeb1806b"
      },
      "source": [
        "lgb_ho[0]"
      ],
      "execution_count": 66,
      "outputs": [
        {
          "output_type": "execute_result",
          "data": {
            "text/plain": [
              "{'bagging_freq': 2.343335397134816,\n",
              " 'boosting_type': 0,\n",
              " 'class_weight': 1,\n",
              " 'feature_fraction': 0.925984858968721,\n",
              " 'gdbt_subsample': 0.9071514063207494,\n",
              " 'lambda_l1': 0.8546268615947283,\n",
              " 'lambda_l2': 0.20851241909379892,\n",
              " 'learning_rate': 0.08279997609106177,\n",
              " 'max_bin': 254.0,\n",
              " 'min_data_in_leaf': 310.0,\n",
              " 'num_leaves': 120.0,\n",
              " 'subsample_for_bin': 300000.0}"
            ]
          },
          "metadata": {
            "tags": []
          },
          "execution_count": 66
        }
      ]
    },
    {
      "cell_type": "code",
      "metadata": {
        "id": "uh1UpSFXWjMt",
        "colab_type": "code",
        "colab": {
          "base_uri": "https://localhost:8080/",
          "height": 247
        },
        "outputId": "ea6749db-c809-44fd-ee6c-585c86978399"
      },
      "source": [
        "params"
      ],
      "execution_count": 82,
      "outputs": [
        {
          "output_type": "execute_result",
          "data": {
            "text/plain": [
              "{'bagging_freq': 1,\n",
              " 'boosting_type': 'goss',\n",
              " 'class_weight': None,\n",
              " 'feature_fraction': 0.5836734693877551,\n",
              " 'lambda_l1': 0.3061224489795918,\n",
              " 'lambda_l2': 0.3877551020408163,\n",
              " 'learning_rate': 0.06499399698708953,\n",
              " 'max_bin': 254,\n",
              " 'min_data_in_leaf': 170,\n",
              " 'num_leaves': 72,\n",
              " 'objective': 'cross_entropy',\n",
              " 'subsample': 1.0,\n",
              " 'verbosity': 0}"
            ]
          },
          "metadata": {
            "tags": []
          },
          "execution_count": 82
        }
      ]
    },
    {
      "cell_type": "code",
      "metadata": {
        "id": "KKttEdNVMzGK",
        "colab_type": "code",
        "colab": {}
      },
      "source": [
        "model = lgb.LGBMClassifier(n_estimators=170, random_state=SEED, **params)"
      ],
      "execution_count": 0,
      "outputs": []
    },
    {
      "cell_type": "code",
      "metadata": {
        "id": "b9lNrWcCM-5Z",
        "colab_type": "code",
        "colab": {
          "base_uri": "https://localhost:8080/",
          "height": 194
        },
        "outputId": "f36f37c5-dcd3-4676-f1b3-a159fae4ced1"
      },
      "source": [
        "model.fit(train_X, train_y)"
      ],
      "execution_count": 93,
      "outputs": [
        {
          "output_type": "execute_result",
          "data": {
            "text/plain": [
              "LGBMClassifier(bagging_freq=1, boosting_type='goss', class_weight=None,\n",
              "               colsample_bytree=1.0, feature_fraction=0.5836734693877551,\n",
              "               importance_type='split', lambda_l1=0.3061224489795918,\n",
              "               lambda_l2=0.3877551020408163, learning_rate=0.06499399698708953,\n",
              "               max_bin=254, max_depth=-1, min_child_samples=20,\n",
              "               min_child_weight=0.001, min_data_in_leaf=170, min_split_gain=0.0,\n",
              "               n_estimators=170, n_jobs=-1, num_leaves=72,\n",
              "               objective='cross_entropy', random_state=47, reg_alpha=0.0,\n",
              "               reg_lambda=0.0, silent=True, subsample=1.0,\n",
              "               subsample_for_bin=200000, subsample_freq=0, verbosity=0)"
            ]
          },
          "metadata": {
            "tags": []
          },
          "execution_count": 93
        }
      ]
    },
    {
      "cell_type": "code",
      "metadata": {
        "id": "yFfYutndNB00",
        "colab_type": "code",
        "colab": {
          "base_uri": "https://localhost:8080/",
          "height": 70
        },
        "outputId": "0cf06ff9-0c89-4876-fdf3-98e0c22bafc2"
      },
      "source": [
        "pred = model.predict(test_X)\n",
        "\n",
        "model.feature_importances_"
      ],
      "execution_count": 95,
      "outputs": [
        {
          "output_type": "execute_result",
          "data": {
            "text/plain": [
              "array([142,  74,  77, 120,  64, 154,  90,  67,  23, 109,  87,  79,  23,\n",
              "        79,  64,  74,  20, 102,  92,  69,  11, 127, 169,  87, 141, 207,\n",
              "       166, 200])"
            ]
          },
          "metadata": {
            "tags": []
          },
          "execution_count": 95
        }
      ]
    },
    {
      "cell_type": "code",
      "metadata": {
        "id": "Vfc0JbnQN4ee",
        "colab_type": "code",
        "colab": {
          "base_uri": "https://localhost:8080/",
          "height": 194
        },
        "outputId": "cf85da6a-6f31-4861-bb1f-3a6a0ad5f709"
      },
      "source": [
        "# create dataset for lightgbm\n",
        "lgb_train = lgb.Dataset(train_X, train_y)\n",
        "lgb_test = lgb.Dataset(test_X, test_y, reference=lgb_train)\n",
        "evals_result = {}  # to record eval results for plotting\n",
        "params = {\n",
        "    'num_leaves': 5,\n",
        "    'metric': ('l1', 'l2'),\n",
        "    'verbose': 0\n",
        "}\n",
        "gbm = lgb.train(params,\n",
        "                lgb_train,\n",
        "                num_boost_round=100,\n",
        "                valid_sets=[lgb_train, lgb_test],\n",
        "                feature_name=['f' + str(i + 1) for i in range(train_X.shape[-1])],\n",
        "                #categorical_feature=[21],\n",
        "                evals_result=evals_result,\n",
        "                verbose_eval=10)\n"
      ],
      "execution_count": 104,
      "outputs": [
        {
          "output_type": "stream",
          "text": [
            "[10]\ttraining's l2: 0.220012\ttraining's l1: 0.460473\tvalid_1's l2: 0.223644\tvalid_1's l1: 0.464381\n",
            "[20]\ttraining's l2: 0.207415\ttraining's l1: 0.44048\tvalid_1's l2: 0.213099\tvalid_1's l1: 0.446602\n",
            "[30]\ttraining's l2: 0.199792\ttraining's l1: 0.425719\tvalid_1's l2: 0.207127\tvalid_1's l1: 0.433584\n",
            "[40]\ttraining's l2: 0.194983\ttraining's l1: 0.416084\tvalid_1's l2: 0.203243\tvalid_1's l1: 0.425015\n",
            "[50]\ttraining's l2: 0.191483\ttraining's l1: 0.408312\tvalid_1's l2: 0.200694\tvalid_1's l1: 0.418242\n",
            "[60]\ttraining's l2: 0.188873\ttraining's l1: 0.402366\tvalid_1's l2: 0.198872\tvalid_1's l1: 0.413197\n",
            "[70]\ttraining's l2: 0.186757\ttraining's l1: 0.39797\tvalid_1's l2: 0.197755\tvalid_1's l1: 0.409837\n",
            "[80]\ttraining's l2: 0.184938\ttraining's l1: 0.394167\tvalid_1's l2: 0.19697\tvalid_1's l1: 0.407102\n",
            "[90]\ttraining's l2: 0.183341\ttraining's l1: 0.390926\tvalid_1's l2: 0.196361\tvalid_1's l1: 0.404953\n",
            "[100]\ttraining's l2: 0.181963\ttraining's l1: 0.38856\tvalid_1's l2: 0.195909\tvalid_1's l1: 0.403521\n"
          ],
          "name": "stdout"
        }
      ]
    },
    {
      "cell_type": "code",
      "metadata": {
        "id": "0GpDBP-4QrPE",
        "colab_type": "code",
        "colab": {
          "base_uri": "https://localhost:8080/",
          "height": 312
        },
        "outputId": "a088f5be-e154-41bc-ee80-f65bcdaa9c65"
      },
      "source": [
        "print('Plotting metrics recorded during training...')\n",
        "ax = lgb.plot_metric(evals_result, metric='l1')"
      ],
      "execution_count": 105,
      "outputs": [
        {
          "output_type": "stream",
          "text": [
            "Plotting metrics recorded during training...\n"
          ],
          "name": "stdout"
        },
        {
          "output_type": "display_data",
          "data": {
            "image/png": "[encoded data removed]",
            "text/plain": [
              "<Figure size 432x288 with 1 Axes>"
            ]
          },
          "metadata": {
            "tags": [],
            "needs_background": "light"
          }
        }
      ]
    },
    {
      "cell_type": "code",
      "metadata": {
        "id": "Lv33wB-9RLIf",
        "colab_type": "code",
        "colab": {
          "base_uri": "https://localhost:8080/",
          "height": 312
        },
        "outputId": "17a3dc32-68ad-42da-d7c5-d7a68c69bb3c"
      },
      "source": [
        "import matplotlib.pyplot as plt\n",
        "\n",
        "print('Plotting feature importances...')\n",
        "ax = lgb.plot_importance(gbm, max_num_features=10)\n",
        "plt.show()"
      ],
      "execution_count": 107,
      "outputs": [
        {
          "output_type": "stream",
          "text": [
            "Plotting feature importances...\n"
          ],
          "name": "stdout"
        },
        {
          "output_type": "display_data",
          "data": {
            "image/png": "[encoded data removed]",
            "text/plain": [
              "<Figure size 432x288 with 1 Axes>"
            ]
          },
          "metadata": {
            "tags": [],
            "needs_background": "light"
          }
        }
      ]
    },
    {
      "cell_type": "code",
      "metadata": {
        "id": "MH4qkq6VRUhX",
        "colab_type": "code",
        "colab": {
          "base_uri": "https://localhost:8080/",
          "height": 221
        },
        "outputId": "f65b5a85-c400-41b6-84f3-ef2b0f00e19a"
      },
      "source": [
        "print('Plotting split value histogram...')\n",
        "ax = lgb.plot_split_value_histogram(gbm, feature='f2', bins='auto')\n",
        "plt.show()"
      ],
      "execution_count": 111,
      "outputs": [
        {
          "output_type": "stream",
          "text": [
            "Plotting split value histogram...\n"
          ],
          "name": "stdout"
        },
        {
          "output_type": "error",
          "ename": "AttributeError",
          "evalue": "ignored",
          "traceback": [
            "\u001b[0;31m---------------------------------------------------------------------------\u001b[0m",
            "\u001b[0;31mAttributeError\u001b[0m                            Traceback (most recent call last)",
            "\u001b[0;32m<ipython-input-111-e5ffcfb8c31a>\u001b[0m in \u001b[0;36m<module>\u001b[0;34m()\u001b[0m\n\u001b[1;32m      1\u001b[0m \u001b[0mprint\u001b[0m\u001b[0;34m(\u001b[0m\u001b[0;34m'Plotting split value histogram...'\u001b[0m\u001b[0;34m)\u001b[0m\u001b[0;34m\u001b[0m\u001b[0;34m\u001b[0m\u001b[0m\n\u001b[0;32m----> 2\u001b[0;31m \u001b[0max\u001b[0m \u001b[0;34m=\u001b[0m \u001b[0mlgb\u001b[0m\u001b[0;34m.\u001b[0m\u001b[0mplot_split_value_histogram\u001b[0m\u001b[0;34m(\u001b[0m\u001b[0mgbm\u001b[0m\u001b[0;34m,\u001b[0m \u001b[0mfeature\u001b[0m\u001b[0;34m=\u001b[0m\u001b[0;34m'f2'\u001b[0m\u001b[0;34m,\u001b[0m \u001b[0mbins\u001b[0m\u001b[0;34m=\u001b[0m\u001b[0;34m'auto'\u001b[0m\u001b[0;34m)\u001b[0m\u001b[0;34m\u001b[0m\u001b[0;34m\u001b[0m\u001b[0m\n\u001b[0m\u001b[1;32m      3\u001b[0m \u001b[0mplt\u001b[0m\u001b[0;34m.\u001b[0m\u001b[0mshow\u001b[0m\u001b[0;34m(\u001b[0m\u001b[0;34m)\u001b[0m\u001b[0;34m\u001b[0m\u001b[0;34m\u001b[0m\u001b[0m\n",
            "\u001b[0;31mAttributeError\u001b[0m: module 'lightgbm' has no attribute 'plot_split_value_histogram'"
          ]
        }
      ]
    },
    {
      "cell_type": "code",
      "metadata": {
        "id": "Orf2IbqcRzgS",
        "colab_type": "code",
        "colab": {
          "base_uri": "https://localhost:8080/",
          "height": 478
        },
        "outputId": "90e6d008-de5b-43e0-bb51-725adf37ce59"
      },
      "source": [
        "print('Plotting 54th tree...')  # one tree use categorical feature to split\n",
        "ax = lgb.plot_tree(gbm, tree_index=53, figsize=(15, 15), show_info=['split_gain'])\n",
        "plt.show()"
      ],
      "execution_count": 109,
      "outputs": [
        {
          "output_type": "stream",
          "text": [
            "Plotting 54th tree...\n"
          ],
          "name": "stdout"
        },
        {
          "output_type": "display_data",
          "data": {
            "image/png": "[encoded data removed]",
            "text/plain": [
              "<Figure size 1080x1080 with 1 Axes>"
            ]
          },
          "metadata": {
            "tags": [],
            "needs_background": "light"
          }
        }
      ]
    },
    {
      "cell_type": "code",
      "metadata": {
        "id": "xjBcQW6LSALD",
        "colab_type": "code",
        "colab": {
          "base_uri": "https://localhost:8080/",
          "height": 52
        },
        "outputId": "29586741-dd01-4ea7-d48d-fa921eeb30cf"
      },
      "source": [
        "print('Plotting 54th tree with graphviz...')\n",
        "graph = lgb.create_tree_digraph(gbm, tree_index=53, name='Tree54')\n",
        "graph.render(view=True)"
      ],
      "execution_count": 110,
      "outputs": [
        {
          "output_type": "stream",
          "text": [
            "Plotting 54th tree with graphviz...\n"
          ],
          "name": "stdout"
        },
        {
          "output_type": "execute_result",
          "data": {
            "text/plain": [
              "'Tree54.gv.pdf'"
            ]
          },
          "metadata": {
            "tags": []
          },
          "execution_count": 110
        }
      ]
    },
    {
      "cell_type": "code",
      "metadata": {
        "id": "t__Hp4IESDJY",
        "colab_type": "code",
        "colab": {
          "base_uri": "https://localhost:8080/",
          "height": 70
        },
        "outputId": "f030262f-50ab-4dd0-9310-cbcf27db8924"
      },
      "source": [
        "model.feature_importances_"
      ],
      "execution_count": 113,
      "outputs": [
        {
          "output_type": "execute_result",
          "data": {
            "text/plain": [
              "array([142,  74,  77, 120,  64, 154,  90,  67,  23, 109,  87,  79,  23,\n",
              "        79,  64,  74,  20, 102,  92,  69,  11, 127, 169,  87, 141, 207,\n",
              "       166, 200])"
            ]
          },
          "metadata": {
            "tags": []
          },
          "execution_count": 113
        }
      ]
    },
    {
      "cell_type": "code",
      "metadata": {
        "id": "jpU84TBvSouI",
        "colab_type": "code",
        "colab": {}
      },
      "source": [
        "from sklearn.metrics import auc, accuracy_score, roc_auc_score, roc_curve, confusion_matrix"
      ],
      "execution_count": 0,
      "outputs": []
    },
    {
      "cell_type": "code",
      "metadata": {
        "id": "oebEFVP_YAKt",
        "colab_type": "code",
        "colab": {}
      },
      "source": [
        "\n",
        "(fpr, tpr, thresholds) = roc_curve(y_true=test_y, y_score=model.predict_proba(test_X)[:,1])\n",
        "roc_auc = auc(fpr, tpr)"
      ],
      "execution_count": 0,
      "outputs": []
    },
    {
      "cell_type": "code",
      "metadata": {
        "id": "FIY3sobbYUQg",
        "colab_type": "code",
        "colab": {
          "base_uri": "https://localhost:8080/",
          "height": 527
        },
        "outputId": "f35d9e0a-295d-4dcf-86e9-4104a0a29e8a"
      },
      "source": [
        "plt.figure(figsize=(16, 8))\n",
        "lw = 2\n",
        "\n",
        "plt.plot(fpr, tpr, color='darkorange',\n",
        "         lw=lw, label='ROC curve (area = %0.2f)' % roc_auc, alpha=0.5)\n",
        "\n",
        "plt.plot([0, 1], [0, 1], color='navy', lw=lw, linestyle='--', alpha=0.5)\n",
        "\n",
        "plt.xlim([0.0, 1.0])\n",
        "plt.ylim([0.0, 1.05])\n",
        "plt.xticks(fontsize=16)\n",
        "plt.yticks(fontsize=16)\n",
        "plt.grid(True)\n",
        "plt.xlabel('False Positive Rate', fontsize=16)\n",
        "plt.ylabel('True Positive Rate', fontsize=16)\n",
        "plt.title('Receiver operating characteristic', fontsize=20)\n",
        "plt.legend(loc=\"lower right\", fontsize=16)\n",
        "plt.show()"
      ],
      "execution_count": 123,
      "outputs": [
        {
          "output_type": "display_data",
          "data": {
            "image/png": "[encoded data removed]",
            "text/plain": [
              "<Figure size 1152x576 with 1 Axes>"
            ]
          },
          "metadata": {
            "tags": [],
            "needs_background": "light"
          }
        }
      ]
    },
    {
      "cell_type": "code",
      "metadata": {
        "id": "YkSuFn75YkAw",
        "colab_type": "code",
        "colab": {}
      },
      "source": [
        "from sklearn.metrics import precision_recall_curve, f1_score, auc\n",
        "precision, recall, _ = precision_recall_curve(test_y, model.predict_proba(test_X)[:,1])\n"
      ],
      "execution_count": 0,
      "outputs": []
    },
    {
      "cell_type": "code",
      "metadata": {
        "id": "12SseYB0oaHI",
        "colab_type": "code",
        "colab": {
          "base_uri": "https://localhost:8080/",
          "height": 34
        },
        "outputId": "091c512c-233c-40c4-9e30-07c356b0507d"
      },
      "source": [
        "f1, aucscore_ = f1_score(test_y, pred), auc(recall, precision)\n",
        "# summarize scores\n",
        "print('RF: f1=%.3f auc=%.3f' % (f1, aucscore_))"
      ],
      "execution_count": 142,
      "outputs": [
        {
          "output_type": "stream",
          "text": [
            "RF: f1=0.715 auc=0.783\n"
          ],
          "name": "stdout"
        }
      ]
    },
    {
      "cell_type": "code",
      "metadata": {
        "id": "H-o-ssK0m7iN",
        "colab_type": "code",
        "colab": {
          "base_uri": "https://localhost:8080/",
          "height": 545
        },
        "outputId": "97f5a7b4-0c26-467a-ad6a-12ac1e4f3b10"
      },
      "source": [
        "# plot the precision-recall curves\n",
        "no_skill = len(test_y[test_y==1]) / len(test_y)\n",
        "plt.figure(figsize = (16,8))\n",
        "plt.plot([0, 1], [no_skill, no_skill], color='navy', linestyle='--',\n",
        "         alpha=0.5)\n",
        "plt.plot(recall, precision, color='darkorange',\n",
        "         label='ROC curve (area = %0.2f)'% aucscore_, alpha=0.5)\n",
        "\n",
        "# axis labels\n",
        "plt.title('Precision Recall Curve', size = 20)\n",
        "plt.xlabel('Recall', fontsize=16)\n",
        "plt.ylabel('Precision', fontsize=16)\n",
        "plt.grid(True)\n",
        "plt.xticks(fontsize=16)\n",
        "plt.yticks(fontsize=16)\n",
        "# show the legend\n",
        "plt.legend(fontsize=16)"
      ],
      "execution_count": 145,
      "outputs": [
        {
          "output_type": "execute_result",
          "data": {
            "text/plain": [
              "<matplotlib.legend.Legend at 0x7f4958f24668>"
            ]
          },
          "metadata": {
            "tags": []
          },
          "execution_count": 145
        },
        {
          "output_type": "display_data",
          "data": {
            "image/png": "[encoded data removed]",
            "text/plain": [
              "<Figure size 1152x576 with 1 Axes>"
            ]
          },
          "metadata": {
            "tags": [],
            "needs_background": "light"
          }
        }
      ]
    },
    {
      "cell_type": "code",
      "metadata": {
        "id": "hmP4K-zjnqaP",
        "colab_type": "code",
        "colab": {
          "base_uri": "https://localhost:8080/",
          "height": 527
        },
        "outputId": "05706d81-1409-42ba-9c50-a2bd490b057e"
      },
      "source": [
        "(fpr, tpr, thresholds) = roc_curve(y_true=test_y, y_score=model.predict_proba(test_X)[:,1])\n",
        "\n",
        "fnr = 1- tpr\n",
        "plt.figure(figsize = (16,8))\n",
        "plt.plot(thresholds, fpr, color='blue', lw=lw, label='FPR', alpha=0.5)\n",
        "plt.plot(thresholds, fnr, color='green', lw=lw, label='FNR', alpha=0.5)\n",
        "\n",
        "plt.xlim([0.0, 1.0])\n",
        "plt.ylim([0.0, 1.05])\n",
        "plt.xticks(fontsize=16)\n",
        "plt.yticks(fontsize=16)\n",
        "plt.grid(True)\n",
        "plt.xlabel('Threshold', fontsize=16)\n",
        "plt.ylabel('Error Rate', fontsize=16)\n",
        "plt.title('FPR-FNR curves', fontsize=20)\n",
        "plt.legend(loc=\"lower left\", fontsize=16)\n",
        "plt.show()"
      ],
      "execution_count": 148,
      "outputs": [
        {
          "output_type": "display_data",
          "data": {
            "image/png": "[encoded data removed]",
            "text/plain": [
              "<Figure size 1152x576 with 1 Axes>"
            ]
          },
          "metadata": {
            "tags": [],
            "needs_background": "light"
          }
        }
      ]
    },
    {
      "cell_type": "code",
      "metadata": {
        "id": "sXcpxHtttW9k",
        "colab_type": "code",
        "colab": {
          "base_uri": "https://localhost:8080/",
          "height": 354
        },
        "outputId": "688cb7ff-87c0-4a5e-b91b-797dabfe13bc"
      },
      "source": [
        "!pip install shap"
      ],
      "execution_count": 150,
      "outputs": [
        {
          "output_type": "stream",
          "text": [
            "Collecting shap\n",
            "\u001b[?25l  Downloading https://files.pythonhosted.org/packages/a8/77/b504e43e21a2ba543a1ac4696718beb500cfa708af2fb57cb54ce299045c/shap-0.35.0.tar.gz (273kB)\n",
            "\u001b[K     |████████████████████████████████| 276kB 1.3MB/s \n",
            "\u001b[?25hRequirement already satisfied: numpy in /usr/local/lib/python3.6/dist-packages (from shap) (1.18.2)\n",
            "Requirement already satisfied: scipy in /usr/local/lib/python3.6/dist-packages (from shap) (1.4.1)\n",
            "Requirement already satisfied: scikit-learn in /usr/local/lib/python3.6/dist-packages (from shap) (0.22.2.post1)\n",
            "Requirement already satisfied: pandas in /usr/local/lib/python3.6/dist-packages (from shap) (1.0.3)\n",
            "Requirement already satisfied: tqdm>4.25.0 in /usr/local/lib/python3.6/dist-packages (from shap) (4.38.0)\n",
            "Requirement already satisfied: joblib>=0.11 in /usr/local/lib/python3.6/dist-packages (from scikit-learn->shap) (0.14.1)\n",
            "Requirement already satisfied: python-dateutil>=2.6.1 in /usr/local/lib/python3.6/dist-packages (from pandas->shap) (2.8.1)\n",
            "Requirement already satisfied: pytz>=2017.2 in /usr/local/lib/python3.6/dist-packages (from pandas->shap) (2018.9)\n",
            "Requirement already satisfied: six>=1.5 in /usr/local/lib/python3.6/dist-packages (from python-dateutil>=2.6.1->pandas->shap) (1.12.0)\n",
            "Building wheels for collected packages: shap\n",
            "  Building wheel for shap (setup.py) ... \u001b[?25l\u001b[?25hdone\n",
            "  Created wheel for shap: filename=shap-0.35.0-cp36-cp36m-linux_x86_64.whl size=394127 sha256=5b9931b5d721c595586bd1d619fc423ac525113d585357ee0d8a4db9ddfce230\n",
            "  Stored in directory: /root/.cache/pip/wheels/e7/f7/0f/b57055080cf8894906b3bd3616d2fc2bfd0b12d5161bcb24ac\n",
            "Successfully built shap\n",
            "Installing collected packages: shap\n",
            "Successfully installed shap-0.35.0\n"
          ],
          "name": "stdout"
        }
      ]
    },
    {
      "cell_type": "code",
      "metadata": {
        "id": "aKa5EqyYw5NN",
        "colab_type": "code",
        "colab": {}
      },
      "source": [
        "import shap"
      ],
      "execution_count": 0,
      "outputs": []
    },
    {
      "cell_type": "code",
      "metadata": {
        "id": "NmeTb_-ww_Bc",
        "colab_type": "code",
        "colab": {
          "base_uri": "https://localhost:8080/",
          "height": 265
        },
        "outputId": "f1e736b2-21aa-4cbe-fb85-0e4925a84342"
      },
      "source": [
        "shap.TreeExplainer(model.booster_).shap_values(train_X)"
      ],
      "execution_count": 155,
      "outputs": [
        {
          "output_type": "stream",
          "text": [
            "Setting feature_perturbation = \"tree_path_dependent\" because no background data was given.\n"
          ],
          "name": "stderr"
        },
        {
          "output_type": "execute_result",
          "data": {
            "text/plain": [
              "array([[-0.21541845,  0.03269275, -0.01655835, ...,  0.07015264,\n",
              "        -0.63589739,  0.52644251],\n",
              "       [ 0.27873013,  0.03009275,  0.01528798, ...,  0.75522694,\n",
              "         0.30503334, -0.58832894],\n",
              "       [ 0.14200436,  0.006348  ,  0.01613179, ...,  0.7943278 ,\n",
              "        -0.15328144, -0.40217064],\n",
              "       ...,\n",
              "       [ 0.14218967, -0.00270566, -0.03844131, ...,  0.74899627,\n",
              "         0.43600729,  0.65607563],\n",
              "       [ 0.2139522 , -0.05430832,  0.01363934, ..., -0.1344514 ,\n",
              "         0.09807395, -0.90405654],\n",
              "       [-0.07777556, -0.03574382,  0.09556568, ...,  0.31194074,\n",
              "         0.05919748, -1.18331517]])"
            ]
          },
          "metadata": {
            "tags": []
          },
          "execution_count": 155
        }
      ]
    },
    {
      "cell_type": "code",
      "metadata": {
        "id": "4vPmsadIxFxb",
        "colab_type": "code",
        "colab": {
          "base_uri": "https://localhost:8080/",
          "height": 34
        },
        "outputId": "d86299ff-c91b-4bbd-99a8-aa9cb857a712"
      },
      "source": [
        "explainer = shap.TreeExplainer(model)"
      ],
      "execution_count": 156,
      "outputs": [
        {
          "output_type": "stream",
          "text": [
            "Setting feature_perturbation = \"tree_path_dependent\" because no background data was given.\n"
          ],
          "name": "stderr"
        }
      ]
    },
    {
      "cell_type": "code",
      "metadata": {
        "id": "A3afBcirzSnL",
        "colab_type": "code",
        "colab": {}
      },
      "source": [
        ""
      ],
      "execution_count": 0,
      "outputs": []
    }
  ]
}
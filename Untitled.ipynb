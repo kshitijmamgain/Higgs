{
 "cells": [
  {
   "cell_type": "code",
   "execution_count": 15,
   "metadata": {},
   "outputs": [],
   "source": [
    "from mlpipeline.xgb_class import XGBoostModel"
   ]
  },
  {
   "cell_type": "code",
   "execution_count": 16,
   "metadata": {},
   "outputs": [],
   "source": [
    "import pandas as pd"
   ]
  },
  {
   "cell_type": "code",
   "execution_count": 17,
   "metadata": {},
   "outputs": [
    {
     "data": {
      "text/plain": [
       "'C:\\\\Users\\\\Ahmed\\\\Desktop\\\\Higgs_project\\\\Higgs_project copy'"
      ]
     },
     "execution_count": 17,
     "metadata": {},
     "output_type": "execute_result"
    }
   ],
   "source": [
    "pwd"
   ]
  },
  {
   "cell_type": "code",
   "execution_count": 18,
   "metadata": {},
   "outputs": [],
   "source": [
    "data = pd.read_csv('../../Lantern/Machine Learning\\pima2.csv')"
   ]
  },
  {
   "cell_type": "code",
   "execution_count": 19,
   "metadata": {},
   "outputs": [],
   "source": [
    "from sklearn.model_selection import train_test_split"
   ]
  },
  {
   "cell_type": "code",
   "execution_count": 20,
   "metadata": {},
   "outputs": [],
   "source": [
    "train, test = train_test_split(data, test_size = 0.3)"
   ]
  },
  {
   "cell_type": "code",
   "execution_count": 21,
   "metadata": {},
   "outputs": [],
   "source": [
    "xgb_model = XGBoostModel(train=train, test=test, target_feature=8, max_evals=10, n_fold=3,\n",
    "                        num_boost_rounds=10, early_stopping_rounds=2, seed=42, GPU = False)"
   ]
  },
  {
   "cell_type": "code",
   "execution_count": 22,
   "metadata": {},
   "outputs": [
    {
     "name": "stdout",
     "output_type": "stream",
     "text": [
      "Starting training...\n",
      "Starting HyperOpt hyperparameter tuning...\n",
      "Training with params:                                                                                                  \n",
      "{'booster': 'gbtree', 'colsample_bylevel': 0.55, 'colsample_bynode': 1.0, 'colsample_bytree': 0.4, 'disable_default_eval_metric': 1, 'eta': 0.17500000000000002, 'eval_metric': 'logloss', 'gamma': 0.6000000000000001, 'grow_policy': 'depthwise', 'max_delta_step': 3.0, 'max_depth': 9, 'min_child_weight': 4.0, 'objective': 'binary:logistic', 'predictor': 'cpu_predictor', 'reg_alpha': 5.0, 'reg_lambda': 1.3, 'sampling_method': 'uniform', 'scale_pos_weight': 1.9505494505494505, 'subsample': 0.55, 'tree_method': 'approx', 'verbosity': 1, 'sketch_eps': 0.05}\n",
      "[0]\ttrain-logloss:0.659618+0.000418508\ttest-logloss:0.665721+0.00327836                                                \n",
      "\n",
      "[1]\ttrain-logloss:0.636662+0.00587101\ttest-logloss:0.648407+0.00768612                                                 \n",
      "\n",
      "[2]\ttrain-logloss:0.620237+0.00599661\ttest-logloss:0.635581+0.00461315                                                 \n",
      "\n",
      "[3]\ttrain-logloss:0.601769+0.00859617\ttest-logloss:0.623657+0.00414413                                                 \n",
      "\n",
      "[4]\ttrain-logloss:0.588355+0.0126681\ttest-logloss:0.615331+0.0081806                                                   \n",
      "\n",
      "[5]\ttrain-logloss:0.570858+0.00970281\ttest-logloss:0.601477+0.00488962                                                 \n",
      "\n",
      "[6]\ttrain-logloss:0.557141+0.00718861\ttest-logloss:0.591411+0.00361511                                                 \n",
      "\n",
      "[7]\ttrain-logloss:0.54699+0.00807164\ttest-logloss:0.58444+0.0021749                                                    \n",
      "\n",
      "[8]\ttrain-logloss:0.538229+0.00573291\ttest-logloss:0.578731+0.00266814                                                 \n",
      "\n",
      "[9]\ttrain-logloss:0.532268+0.00400843\ttest-logloss:0.576874+0.00209375                                                 \n",
      "\n",
      "Training with params:                                                                                                  \n",
      "{'booster': 'dart', 'colsample_bylevel': 0.55, 'colsample_bynode': 0.8500000000000001, 'colsample_bytree': 0.2, 'disable_default_eval_metric': 1, 'eta': 0.45, 'eval_metric': 'logloss', 'gamma': 0.9500000000000001, 'grow_policy': 'lossguide', 'max_delta_step': 6.0, 'max_depth': 10, 'min_child_weight': 8.0, 'objective': 'binary:logistic', 'predictor': 'cpu_predictor', 'reg_alpha': 0.0, 'reg_lambda': 1.9000000000000001, 'sampling_method': 'uniform', 'scale_pos_weight': 1.9505494505494505, 'subsample': 0.8, 'tree_method': 'hist', 'verbosity': 1, 'max_leaves': 28, 'sample_type': 'weighted', 'normalize_type': 'tree', 'rate_drop': 0.9746759634534369, 'skip_drop': 0.9328679988478337, 'max_bin': 128}\n",
      "[0]\ttrain-logloss:0.638652+0.0095332\ttest-logloss:0.662415+0.0153133                                                   \n",
      "\n",
      "[1]\ttrain-logloss:0.62256+0.0561931\ttest-logloss:0.627896+0.0363047                                                    \n",
      "\n",
      "[2]\ttrain-logloss:0.612174+0.0642803\ttest-logloss:0.60223+0.0161584                                                    \n",
      "\n",
      "[3]\ttrain-logloss:0.548839+0.0350625\ttest-logloss:0.601051+0.0214917                                                   \n",
      "\n",
      "[4]\ttrain-logloss:0.52203+0.0350848\ttest-logloss:0.586721+0.03181                                                      \n",
      "\n",
      "[5]\ttrain-logloss:0.516852+0.0362153\ttest-logloss:0.586677+0.030666                                                    \n",
      "\n",
      "[6]\ttrain-logloss:0.500335+0.0321686\ttest-logloss:0.576798+0.0217102                                                   \n",
      "\n",
      "[7]\ttrain-logloss:0.573886+0.0872892\ttest-logloss:0.579486+0.0218005                                                   \n",
      "\n",
      "Training with params:                                                                                                  \n",
      "{'booster': 'dart', 'colsample_bylevel': 0.55, 'colsample_bynode': 0.7000000000000001, 'colsample_bytree': 0.2, 'disable_default_eval_metric': 1, 'eta': 0.1, 'eval_metric': 'logloss', 'gamma': 0.5, 'grow_policy': 'depthwise', 'max_delta_step': 10.0, 'max_depth': 7, 'min_child_weight': 4.0, 'objective': 'binary:logistic', 'predictor': 'cpu_predictor', 'reg_alpha': 5.0, 'reg_lambda': 1.6, 'sampling_method': 'uniform', 'scale_pos_weight': 1.9505494505494505, 'subsample': 0.75, 'tree_method': 'hist', 'verbosity': 1, 'sample_type': 'uniform', 'normalize_type': 'tree', 'rate_drop': 0.3450896750264505, 'skip_drop': 0.30341010988417494, 'max_bin': 1024}\n",
      "[0]\ttrain-logloss:0.682188+0.00261557\ttest-logloss:0.686576+0.00476388                                                 \n",
      "\n",
      "[1]\ttrain-logloss:0.683786+0.00783166\ttest-logloss:0.689713+0.00485688                                                 \n",
      "\n",
      "[2]\ttrain-logloss:0.673431+0.0144381\ttest-logloss:0.674203+0.011921                                                    \n",
      "\n",
      "[3]\ttrain-logloss:0.675078+0.0178729\ttest-logloss:0.67684+0.00400971                                                   \n",
      "\n",
      "Training with params:                                                                                                  \n",
      "{'booster': 'dart', 'colsample_bylevel': 0.45, 'colsample_bynode': 0.5, 'colsample_bytree': 0.55, 'disable_default_eval_metric': 1, 'eta': 0.125, 'eval_metric': 'logloss', 'gamma': 0.7000000000000001, 'grow_policy': 'lossguide', 'max_delta_step': 7.0, 'max_depth': 11, 'min_child_weight': 8.0, 'objective': 'binary:logistic', 'predictor': 'cpu_predictor', 'reg_alpha': 1.0, 'reg_lambda': 1.1, 'sampling_method': 'uniform', 'scale_pos_weight': 1.9505494505494505, 'subsample': 0.55, 'tree_method': 'auto', 'verbosity': 1, 'max_leaves': 11, 'sample_type': 'uniform', 'normalize_type': 'forest', 'rate_drop': 0.7180203061956767, 'skip_drop': 0.10485915855270356}\n",
      "[0]\ttrain-logloss:0.685318+0.00553659\ttest-logloss:0.687552+0.00418045                                                 \n",
      "\n",
      "[1]\ttrain-logloss:0.689667+0.00492146\ttest-logloss:0.685214+0.00580949                                                 \n",
      "\n",
      "[2]\ttrain-logloss:0.687655+0.005512\ttest-logloss:0.680115+0.0145268                                                    \n",
      "\n",
      "[3]\ttrain-logloss:0.686609+0.00924566\ttest-logloss:0.678539+0.0108575                                                  \n",
      "\n",
      "[4]\ttrain-logloss:0.68651+0.00511728\ttest-logloss:0.676242+0.00711764                                                  \n",
      "\n",
      "[5]\ttrain-logloss:0.675863+0.00179236\ttest-logloss:0.689666+0.00124756                                                 \n",
      "\n",
      "[6]\ttrain-logloss:0.679691+0.00726473\ttest-logloss:0.675701+0.0158425                                                  \n",
      "\n",
      "[7]\ttrain-logloss:0.678596+0.0156822\ttest-logloss:0.665214+0.016971                                                    \n",
      "\n",
      "[8]\ttrain-logloss:0.658956+0.0207373\ttest-logloss:0.684985+0.0027599                                                   \n",
      "\n",
      "[9]\ttrain-logloss:0.646351+0.0400175\ttest-logloss:0.662376+0.00705036                                                  \n",
      "\n",
      "Training with params:                                                                                                  \n",
      "{'booster': 'dart', 'colsample_bylevel': 0.9500000000000001, 'colsample_bynode': 0.1, 'colsample_bytree': 0.65, 'disable_default_eval_metric': 1, 'eta': 0.42500000000000004, 'eval_metric': 'logloss', 'gamma': 0.65, 'grow_policy': 'depthwise', 'max_delta_step': 4.0, 'max_depth': 13, 'min_child_weight': 9.0, 'objective': 'binary:logistic', 'predictor': 'cpu_predictor', 'reg_alpha': 1.0, 'reg_lambda': 1.0, 'sampling_method': 'uniform', 'scale_pos_weight': 1.9505494505494505, 'subsample': 0.9, 'tree_method': 'exact', 'verbosity': 1, 'sample_type': 'weighted', 'normalize_type': 'tree', 'rate_drop': 0.4895873349592129, 'skip_drop': 0.5980470775121279}\n",
      "[0]\ttrain-logloss:0.658579+0.0264627\ttest-logloss:0.657951+0.0126445                                                   \n",
      "\n",
      "[1]\ttrain-logloss:0.632238+0.0266195\ttest-logloss:0.674363+0.0252978                                                   \n",
      "\n",
      "[2]\ttrain-logloss:0.604676+0.047155\ttest-logloss:0.634812+0.0299485                                                    \n",
      "\n"
     ]
    },
    {
     "name": "stdout",
     "output_type": "stream",
     "text": [
      "[3]\ttrain-logloss:0.565782+0.0639273\ttest-logloss:0.593414+0.0377196                                                   \n",
      "\n",
      "[4]\ttrain-logloss:0.534992+0.0328502\ttest-logloss:0.617389+0.0180447                                                   \n",
      "\n",
      "Training with params:                                                                                                  \n",
      "{'booster': 'gbtree', 'colsample_bylevel': 0.35000000000000003, 'colsample_bynode': 0.35000000000000003, 'colsample_bytree': 0.9, 'disable_default_eval_metric': 1, 'eta': 0.275, 'eval_metric': 'logloss', 'gamma': 0.8500000000000001, 'grow_policy': 'lossguide', 'max_delta_step': 4.0, 'max_depth': 7, 'min_child_weight': 9.0, 'objective': 'binary:logistic', 'predictor': 'cpu_predictor', 'reg_alpha': 7.0, 'reg_lambda': 1.5, 'sampling_method': 'uniform', 'scale_pos_weight': 1.9505494505494505, 'subsample': 0.65, 'tree_method': 'exact', 'verbosity': 1, 'max_leaves': 2}\n",
      "[0]\ttrain-logloss:0.670374+0.00524028\ttest-logloss:0.673483+0.00356564                                                 \n",
      "\n",
      "[1]\ttrain-logloss:0.656836+0.00495388\ttest-logloss:0.665978+0.00285376                                                 \n",
      "\n",
      "[2]\ttrain-logloss:0.632174+0.0167914\ttest-logloss:0.646819+0.00623358                                                  \n",
      "\n",
      "[3]\ttrain-logloss:0.618691+0.0226973\ttest-logloss:0.633414+0.00735568                                                  \n",
      "\n",
      "[4]\ttrain-logloss:0.608581+0.0241971\ttest-logloss:0.624947+0.0116556                                                   \n",
      "\n",
      "[5]\ttrain-logloss:0.593714+0.0214132\ttest-logloss:0.612168+0.0194503                                                   \n",
      "\n",
      "[6]\ttrain-logloss:0.581687+0.0128416\ttest-logloss:0.604561+0.0159825                                                   \n",
      "\n",
      "[7]\ttrain-logloss:0.578181+0.0104152\ttest-logloss:0.601408+0.0163768                                                   \n",
      "\n",
      "[8]\ttrain-logloss:0.566221+0.0105129\ttest-logloss:0.5944+0.0208829                                                     \n",
      "\n",
      "[9]\ttrain-logloss:0.564684+0.0135896\ttest-logloss:0.591533+0.0239602                                                   \n",
      "\n",
      "Training with params:                                                                                                  \n",
      "{'booster': 'dart', 'colsample_bylevel': 0.35000000000000003, 'colsample_bynode': 0.9500000000000001, 'colsample_bytree': 0.55, 'disable_default_eval_metric': 1, 'eta': 0.025, 'eval_metric': 'logloss', 'gamma': 0.8, 'grow_policy': 'lossguide', 'max_delta_step': 6.0, 'max_depth': 2, 'min_child_weight': 6.0, 'objective': 'binary:logistic', 'predictor': 'cpu_predictor', 'reg_alpha': 10.0, 'reg_lambda': 1.6, 'sampling_method': 'uniform', 'scale_pos_weight': 1.9505494505494505, 'subsample': 0.9500000000000001, 'tree_method': 'auto', 'verbosity': 1, 'max_leaves': 28, 'sample_type': 'weighted', 'normalize_type': 'forest', 'rate_drop': 0.2996572960840501, 'skip_drop': 0.16360717863855023}\n",
      "[0]\ttrain-logloss:0.692149+0.000714419\ttest-logloss:0.691971+0.000191146                                               \n",
      "\n",
      "[1]\ttrain-logloss:0.690814+0.00218379\ttest-logloss:0.690931+0.00148816                                                 \n",
      "\n",
      "[2]\ttrain-logloss:0.68775+0.00296852\ttest-logloss:0.688669+0.00231136                                                  \n",
      "\n",
      "[3]\ttrain-logloss:0.685934+0.00322962\ttest-logloss:0.68804+0.00379766                                                  \n",
      "\n",
      "[4]\ttrain-logloss:0.684077+0.0018703\ttest-logloss:0.686447+0.00172349                                                  \n",
      "\n",
      "[5]\ttrain-logloss:0.68401+0.00488384\ttest-logloss:0.685318+0.00110206                                                  \n",
      "\n",
      "[6]\ttrain-logloss:0.686789+0.00286561\ttest-logloss:0.686463+0.000396789                                                \n",
      "\n",
      "[7]\ttrain-logloss:0.679885+0.00378739\ttest-logloss:0.682538+0.00277836                                                 \n",
      "\n",
      "[8]\ttrain-logloss:0.681234+0.00267256\ttest-logloss:0.683217+0.00224299                                                 \n",
      "\n",
      "[9]\ttrain-logloss:0.680295+0.00194467\ttest-logloss:0.679689+0.00329922                                                 \n",
      "\n",
      "Training with params:                                                                                                  \n",
      "{'booster': 'gbtree', 'colsample_bylevel': 0.8, 'colsample_bynode': 0.5, 'colsample_bytree': 0.35000000000000003, 'disable_default_eval_metric': 1, 'eta': 0.17500000000000002, 'eval_metric': 'logloss', 'gamma': 0.9, 'grow_policy': 'depthwise', 'max_delta_step': 5.0, 'max_depth': 11, 'min_child_weight': 6.0, 'objective': 'binary:logistic', 'predictor': 'cpu_predictor', 'reg_alpha': 9.0, 'reg_lambda': 1.4000000000000001, 'sampling_method': 'uniform', 'scale_pos_weight': 1.9505494505494505, 'subsample': 0.75, 'tree_method': 'hist', 'verbosity': 1, 'max_bin': 1024}\n",
      "[0]\ttrain-logloss:0.666999+0.00294087\ttest-logloss:0.669809+0.00432304                                                 \n",
      "\n",
      "[1]\ttrain-logloss:0.647743+0.00730477\ttest-logloss:0.656964+0.0114443                                                  \n",
      "\n",
      "[2]\ttrain-logloss:0.639839+0.00963376\ttest-logloss:0.649993+0.012247                                                   \n",
      "\n",
      "[3]\ttrain-logloss:0.629575+0.0098433\ttest-logloss:0.6423+0.0144002                                                     \n",
      "\n",
      "[4]\ttrain-logloss:0.626089+0.0105332\ttest-logloss:0.638575+0.0180042                                                   \n",
      "\n",
      "[5]\ttrain-logloss:0.618615+0.0131386\ttest-logloss:0.630582+0.0183462                                                   \n",
      "\n",
      "[6]\ttrain-logloss:0.61361+0.0138031\ttest-logloss:0.627541+0.0200255                                                    \n",
      "\n",
      "[7]\ttrain-logloss:0.601625+0.0100883\ttest-logloss:0.62073+0.0221678                                                    \n",
      "\n",
      "[8]\ttrain-logloss:0.598876+0.00993777\ttest-logloss:0.621644+0.0220374                                                  \n",
      "\n",
      "[9]\ttrain-logloss:0.595549+0.0122758\ttest-logloss:0.619019+0.0215517                                                   \n",
      "\n",
      "Training with params:                                                                                                  \n",
      "{'booster': 'gbtree', 'colsample_bylevel': 0.6000000000000001, 'colsample_bynode': 0.45, 'colsample_bytree': 0.8500000000000001, 'disable_default_eval_metric': 1, 'eta': 0.2, 'eval_metric': 'logloss', 'gamma': 0.5, 'grow_policy': 'depthwise', 'max_delta_step': 6.0, 'max_depth': 13, 'min_child_weight': 4.0, 'objective': 'binary:logistic', 'predictor': 'cpu_predictor', 'reg_alpha': 8.0, 'reg_lambda': 1.5, 'sampling_method': 'uniform', 'scale_pos_weight': 1.9505494505494505, 'subsample': 0.55, 'tree_method': 'auto', 'verbosity': 1}\n",
      "[0]\ttrain-logloss:0.658453+0.00453902\ttest-logloss:0.662796+0.00370375                                                 \n",
      "\n",
      "[1]\ttrain-logloss:0.634842+0.0037534\ttest-logloss:0.647338+0.0111133                                                   \n",
      "\n",
      "[2]\ttrain-logloss:0.624072+0.00299418\ttest-logloss:0.637316+0.00941643                                                 \n",
      "\n",
      "[3]\ttrain-logloss:0.611862+0.00896434\ttest-logloss:0.627848+0.0161381                                                  \n",
      "\n",
      "[4]\ttrain-logloss:0.603196+0.00957571\ttest-logloss:0.622344+0.0191025                                                  \n",
      "\n",
      "[5]\ttrain-logloss:0.600111+0.0137814\ttest-logloss:0.620741+0.0202198                                                   \n",
      "\n",
      "[6]\ttrain-logloss:0.590421+0.0170056\ttest-logloss:0.61343+0.0226481                                                    \n",
      "\n",
      "[7]\ttrain-logloss:0.583652+0.012368\ttest-logloss:0.608749+0.0197796                                                    \n",
      "\n",
      "[8]\ttrain-logloss:0.578766+0.00889132\ttest-logloss:0.605184+0.0189955                                                  \n",
      "\n",
      "[9]\ttrain-logloss:0.574471+0.00682197\ttest-logloss:0.601445+0.0145137                                                  \n",
      "\n",
      "Training with params:                                                                                                  \n"
     ]
    },
    {
     "name": "stdout",
     "output_type": "stream",
     "text": [
      "{'booster': 'gbtree', 'colsample_bylevel': 0.6000000000000001, 'colsample_bynode': 0.9, 'colsample_bytree': 0.2, 'disable_default_eval_metric': 1, 'eta': 0.2, 'eval_metric': 'logloss', 'gamma': 1.0, 'grow_policy': 'depthwise', 'max_delta_step': 2.0, 'max_depth': 11, 'min_child_weight': 4.0, 'objective': 'binary:logistic', 'predictor': 'cpu_predictor', 'reg_alpha': 4.0, 'reg_lambda': 1.9000000000000001, 'sampling_method': 'uniform', 'scale_pos_weight': 1.9505494505494505, 'subsample': 0.75, 'tree_method': 'auto', 'verbosity': 1}\n",
      "[0]\ttrain-logloss:0.688491+0.00211338\ttest-logloss:0.691263+0.00438768                                                 \n",
      "\n",
      "[1]\ttrain-logloss:0.673851+0.0114235\ttest-logloss:0.674381+0.00860267                                                  \n",
      "\n",
      "[2]\ttrain-logloss:0.663576+0.00931164\ttest-logloss:0.668793+0.00641538                                                 \n",
      "\n",
      "[3]\ttrain-logloss:0.642588+0.0144045\ttest-logloss:0.657638+0.0174342                                                   \n",
      "\n",
      "[4]\ttrain-logloss:0.63359+0.00976625\ttest-logloss:0.651728+0.0108541                                                   \n",
      "\n",
      "[5]\ttrain-logloss:0.629183+0.0101634\ttest-logloss:0.652087+0.0118573                                                   \n",
      "\n",
      "[6]\ttrain-logloss:0.617976+0.0152741\ttest-logloss:0.648647+0.0133418                                                   \n",
      "\n",
      "[7]\ttrain-logloss:0.604318+0.0191338\ttest-logloss:0.642297+0.0191086                                                   \n",
      "\n",
      "[8]\ttrain-logloss:0.595895+0.0164943\ttest-logloss:0.633686+0.0193205                                                   \n",
      "\n",
      "[9]\ttrain-logloss:0.592522+0.0135628\ttest-logloss:0.633281+0.0205461                                                   \n",
      "\n",
      "100%|████████████████████████████████████████████████| 10/10 [00:02<00:00,  3.93trial/s, best loss: 0.5767983333333334]\n",
      "The best HyperOpt hyperparameters are: \n",
      "{'booster': 'gbtree', 'colsample_bylevel': 0.55, 'colsample_bynode': 1.0, 'colsample_bytree': 0.4, 'disable_default_eval_metric': 1, 'eta': 0.17500000000000002, 'eval_metric': 'logloss', 'gamma': 0.6000000000000001, 'grow_policy': 'depthwise', 'max_delta_step': 3.0, 'max_depth': 9, 'min_child_weight': 4.0, 'objective': 'binary:logistic', 'predictor': 'cpu_predictor', 'reg_alpha': 5.0, 'reg_lambda': 1.3, 'sampling_method': 'uniform', 'scale_pos_weight': 1.9505494505494505, 'subsample': 0.55, 'tree_method': 'approx', 'verbosity': 1, 'sketch_eps': 0.05, 'n_estimators': 10}\n",
      "\n",
      "\n",
      "Starting Optuna hyperparameter tuning...\n",
      "[0]\ttrain-logloss:0.687207+0.00641964\ttest-logloss:0.689422+0.00374223\n",
      "[1]\ttrain-logloss:0.670832+0.0107775\ttest-logloss:0.675112+0.00694358\n",
      "[2]\ttrain-logloss:0.648119+0.00276959\ttest-logloss:0.654563+0.00388517\n",
      "[3]\ttrain-logloss:0.641204+0.00683864\ttest-logloss:0.651703+0.00389168\n",
      "[4]\ttrain-logloss:0.635371+0.00643251\ttest-logloss:0.646716+0.00441698\n",
      "[5]\ttrain-logloss:0.631681+0.00570531\ttest-logloss:0.643891+0.00281401\n",
      "[6]\ttrain-logloss:0.628849+0.00315124\ttest-logloss:0.643597+0.00276686\n",
      "[7]\ttrain-logloss:0.6195+0.00980318\ttest-logloss:0.638459+0.00707811\n",
      "[8]\ttrain-logloss:0.612077+0.00800763\ttest-logloss:0.629459+0.00855334\n",
      "[9]\ttrain-logloss:0.604418+0.00338075\ttest-logloss:0.624661+0.0069611\n"
     ]
    },
    {
     "name": "stderr",
     "output_type": "stream",
     "text": [
      "[I 2020-04-28 15:55:04,027] Finished trial#0 with value: 0.6246606666666668 with parameters: {'booster': 'gbtree', 'reg_lambda': 2, 'reg_alpha': 10, 'max_delta_step': 8, 'max_depth': 13, 'eta': 0.30850382502458135, 'gamma': 0.7229163764267956, 'subsample': 0.5499874579090014, 'grow_policy': 'depthwise', 'min_child_weight': 8.795585311974417, 'colsample_bytree': 0.6410035105688879, 'colsample_bylevel': 0.737265320016441, 'colsample_bynode': 0.1185260448662222, 'tree_method': 'exact', 'sampling_method': 'uniform', 'predictor': 'cpu_predictor'}. Best is trial#0 with value: 0.6246606666666668.\n"
     ]
    },
    {
     "name": "stdout",
     "output_type": "stream",
     "text": [
      "[0]\ttrain-logloss:0.692508+0.000903682\ttest-logloss:0.692976+0.000241831\n",
      "[1]\ttrain-logloss:0.687205+0.00421015\ttest-logloss:0.687602+0.00569331\n",
      "[2]\ttrain-logloss:0.686283+0.00970763\ttest-logloss:0.685628+0.00678544\n",
      "[3]\ttrain-logloss:0.684068+0.0128401\ttest-logloss:0.671922+0.0150382\n",
      "[4]\ttrain-logloss:0.674767+0.0132048\ttest-logloss:0.67999+0.015122\n"
     ]
    },
    {
     "name": "stderr",
     "output_type": "stream",
     "text": [
      "[I 2020-04-28 15:55:04,258] Finished trial#1 with value: 0.6719216666666666 with parameters: {'booster': 'dart', 'reg_lambda': 2, 'reg_alpha': 5, 'max_delta_step': 2, 'max_depth': 12, 'eta': 0.11211714218038107, 'gamma': 0.6521211214797689, 'subsample': 0.762378215816119, 'grow_policy': 'lossguide', 'min_child_weight': 1.2075618253727418, 'colsample_bytree': 0.5722971942325502, 'colsample_bylevel': 0.45987487454373, 'colsample_bynode': 0.1419990968922539, 'tree_method': 'hist', 'sampling_method': 'uniform', 'predictor': 'cpu_predictor', 'max_leaves': 2, 'sample_type': 'weighted', 'normalize_type': 'tree', 'rate_drop': 0.9832308858067882, 'skip_drop': 0.4667628932479799, 'max_bin': 128}. Best is trial#0 with value: 0.6246606666666668.\n"
     ]
    },
    {
     "name": "stdout",
     "output_type": "stream",
     "text": [
      "[0]\ttrain-logloss:0.692072+0.000382117\ttest-logloss:0.692693+0.000648666\n",
      "[1]\ttrain-logloss:0.6887+0.00208202\ttest-logloss:0.688914+0.00160739\n",
      "[2]\ttrain-logloss:0.686788+0.00202849\ttest-logloss:0.687936+0.00105623\n",
      "[3]\ttrain-logloss:0.682916+0.00291088\ttest-logloss:0.685636+0.00216483\n",
      "[4]\ttrain-logloss:0.68038+0.0022284\ttest-logloss:0.684035+0.000741627\n",
      "[5]\ttrain-logloss:0.679029+0.00287395\ttest-logloss:0.683862+0.00081761\n",
      "[6]\ttrain-logloss:0.676543+0.00358932\ttest-logloss:0.682556+0.00162121\n",
      "[7]\ttrain-logloss:0.672877+0.00438693\ttest-logloss:0.680594+0.00318219\n",
      "[8]\ttrain-logloss:0.670619+0.00349898\ttest-logloss:0.678662+0.00318763\n",
      "[9]\ttrain-logloss:0.668441+0.00306345\ttest-logloss:0.677485+0.00300305\n"
     ]
    },
    {
     "name": "stderr",
     "output_type": "stream",
     "text": [
      "[I 2020-04-28 15:55:04,454] Finished trial#2 with value: 0.6774846666666666 with parameters: {'booster': 'gbtree', 'reg_lambda': 1, 'reg_alpha': 4, 'max_delta_step': 9, 'max_depth': 7, 'eta': 0.031300856550936604, 'gamma': 0.9711008778424264, 'subsample': 0.7816441089227697, 'grow_policy': 'lossguide', 'min_child_weight': 3.741523922560336, 'colsample_bytree': 0.1879049026057455, 'colsample_bylevel': 0.7158097238609412, 'colsample_bynode': 0.4961372443656412, 'tree_method': 'approx', 'sampling_method': 'uniform', 'predictor': 'cpu_predictor', 'max_leaves': 7, 'sketch_eps': 0.034388521115218396}. Best is trial#0 with value: 0.6246606666666668.\n"
     ]
    },
    {
     "name": "stdout",
     "output_type": "stream",
     "text": [
      "[0]\ttrain-logloss:0.693147+1.11022e-16\ttest-logloss:0.693147+1.11022e-16\n",
      "[1]\ttrain-logloss:0.693147+1.11022e-16\ttest-logloss:0.693147+1.11022e-16\n"
     ]
    },
    {
     "name": "stderr",
     "output_type": "stream",
     "text": [
      "[I 2020-04-28 15:55:04,617] Finished trial#3 with value: 0.6931470000000001 with parameters: {'booster': 'dart', 'reg_lambda': 1, 'reg_alpha': 3, 'max_delta_step': 2, 'max_depth': 8, 'eta': 0.3837966699008849, 'gamma': 0.7125779372456224, 'subsample': 0.6039708314340944, 'grow_policy': 'lossguide', 'min_child_weight': 2.6636900997297435, 'colsample_bytree': 0.9726261649881027, 'colsample_bylevel': 0.7976195410250031, 'colsample_bynode': 0.9455490474077702, 'tree_method': 'exact', 'sampling_method': 'uniform', 'predictor': 'cpu_predictor', 'max_leaves': 3, 'sample_type': 'weighted', 'normalize_type': 'tree', 'rate_drop': 0.9218742350231168, 'skip_drop': 0.0884925020519195}. Best is trial#0 with value: 0.6246606666666668.\n"
     ]
    },
    {
     "name": "stdout",
     "output_type": "stream",
     "text": [
      "[0]\ttrain-logloss:0.653165+0.000374275\ttest-logloss:0.661745+0.00290027\n",
      "[1]\ttrain-logloss:0.638433+0.00435155\ttest-logloss:0.649608+0.00501049\n",
      "[2]\ttrain-logloss:0.614868+0.0025498\ttest-logloss:0.631217+0.0109382\n",
      "[3]\ttrain-logloss:0.602374+0.00310292\ttest-logloss:0.621332+0.0149805\n",
      "[4]\ttrain-logloss:0.595036+0.00636789\ttest-logloss:0.61708+0.0189059\n",
      "[5]\ttrain-logloss:0.584856+0.00776712\ttest-logloss:0.610019+0.0202223\n",
      "[6]\ttrain-logloss:0.576007+0.00591033\ttest-logloss:0.604771+0.0197704\n",
      "[7]\ttrain-logloss:0.568166+0.00599258\ttest-logloss:0.598337+0.0171623\n",
      "[8]\ttrain-logloss:0.559775+0.00914661\ttest-logloss:0.590269+0.0150927\n",
      "[9]\ttrain-logloss:0.55065+0.00492465\ttest-logloss:0.5855+0.0164472\n"
     ]
    },
    {
     "name": "stderr",
     "output_type": "stream",
     "text": [
      "[I 2020-04-28 15:55:04,814] Finished trial#4 with value: 0.5855 with parameters: {'booster': 'gbtree', 'reg_lambda': 2, 'reg_alpha': 8, 'max_delta_step': 8, 'max_depth': 5, 'eta': 0.20962171260250395, 'gamma': 0.6356745158869479, 'subsample': 0.9143687545759647, 'grow_policy': 'lossguide', 'min_child_weight': 9.687297765377242, 'colsample_bytree': 0.6463308229180162, 'colsample_bylevel': 0.3483992638202891, 'colsample_bynode': 0.36664615513367416, 'tree_method': 'auto', 'sampling_method': 'uniform', 'predictor': 'cpu_predictor', 'max_leaves': 0}. Best is trial#4 with value: 0.5855.\n"
     ]
    },
    {
     "name": "stdout",
     "output_type": "stream",
     "text": [
      "[0]\ttrain-logloss:0.672918+0.00152951\ttest-logloss:0.676765+0.00192526\n",
      "[1]\ttrain-logloss:0.667944+0.00188885\ttest-logloss:0.671457+0.0013826\n",
      "[2]\ttrain-logloss:0.659191+0.0016052\ttest-logloss:0.663852+0.00288433\n",
      "[3]\ttrain-logloss:0.651429+0.0046234\ttest-logloss:0.657159+0.00582756\n",
      "[4]\ttrain-logloss:0.644059+0.00587996\ttest-logloss:0.649013+0.00873476\n",
      "[5]\ttrain-logloss:0.635382+0.00506448\ttest-logloss:0.643339+0.00732912\n",
      "[6]\ttrain-logloss:0.631724+0.00564751\ttest-logloss:0.641376+0.00919533\n",
      "[7]\ttrain-logloss:0.628568+0.00415838\ttest-logloss:0.639539+0.0077272\n",
      "[8]\ttrain-logloss:0.62114+0.00239225\ttest-logloss:0.632003+0.00645054\n",
      "[9]\ttrain-logloss:0.618195+0.00386501\ttest-logloss:0.629122+0.00774403\n"
     ]
    },
    {
     "name": "stderr",
     "output_type": "stream",
     "text": [
      "[I 2020-04-28 15:55:05,015] Finished trial#5 with value: 0.6291223333333333 with parameters: {'booster': 'gbtree', 'reg_lambda': 1, 'reg_alpha': 8, 'max_delta_step': 8, 'max_depth': 1, 'eta': 0.11938994872873188, 'gamma': 0.5027610585618012, 'subsample': 0.9077307142274171, 'grow_policy': 'depthwise', 'min_child_weight': 7.4020775747378496, 'colsample_bytree': 0.8111579864780851, 'colsample_bylevel': 0.6453639773029103, 'colsample_bynode': 0.9336707906620141, 'tree_method': 'exact', 'sampling_method': 'uniform', 'predictor': 'cpu_predictor'}. Best is trial#4 with value: 0.5855.\n"
     ]
    },
    {
     "name": "stdout",
     "output_type": "stream",
     "text": [
      "[0]\ttrain-logloss:0.641823+0.000725266\ttest-logloss:0.650489+0.00894671\n",
      "[1]\ttrain-logloss:0.613266+0.00969214\ttest-logloss:0.631669+0.00441333\n",
      "[2]\ttrain-logloss:0.589893+0.00501221\ttest-logloss:0.61565+0.01149\n",
      "[3]\ttrain-logloss:0.567013+0.00211212\ttest-logloss:0.603872+0.0180072\n",
      "[4]\ttrain-logloss:0.551685+0.0057344\ttest-logloss:0.59284+0.0234381\n",
      "[5]\ttrain-logloss:0.535943+0.0017662\ttest-logloss:0.58149+0.0251394\n",
      "[6]\ttrain-logloss:0.525376+0.000719113\ttest-logloss:0.578207+0.0255379\n",
      "[7]\ttrain-logloss:0.514197+0.00112774\ttest-logloss:0.570901+0.0285117\n",
      "[8]\ttrain-logloss:0.505205+0.00414862\ttest-logloss:0.564556+0.0318957\n",
      "[9]\ttrain-logloss:0.494656+0.00189305\ttest-logloss:0.557876+0.0285122\n"
     ]
    },
    {
     "name": "stderr",
     "output_type": "stream",
     "text": [
      "[I 2020-04-28 15:55:05,215] Finished trial#6 with value: 0.5578759999999999 with parameters: {'booster': 'gbtree', 'reg_lambda': 2, 'reg_alpha': 6, 'max_delta_step': 9, 'max_depth': 8, 'eta': 0.23848907021564658, 'gamma': 0.5477050582452057, 'subsample': 0.6854091260991332, 'grow_policy': 'lossguide', 'min_child_weight': 3.9266498982407234, 'colsample_bytree': 0.7566455605042577, 'colsample_bylevel': 0.6738017242196918, 'colsample_bynode': 0.8984914683186939, 'tree_method': 'auto', 'sampling_method': 'uniform', 'predictor': 'cpu_predictor', 'max_leaves': 2}. Best is trial#6 with value: 0.5578759999999999.\n"
     ]
    },
    {
     "name": "stdout",
     "output_type": "stream",
     "text": [
      "[0]\ttrain-logloss:0.683205+0.00487427\ttest-logloss:0.689382+0.0070253\n",
      "[1]\ttrain-logloss:0.660176+0.0144996\ttest-logloss:0.661915+0.0120189\n",
      "[2]\ttrain-logloss:0.644876+0.0110151\ttest-logloss:0.652879+0.00744573\n",
      "[3]\ttrain-logloss:0.617135+0.0172469\ttest-logloss:0.636669+0.0214394\n",
      "[4]\ttrain-logloss:0.604822+0.00900882\ttest-logloss:0.629948+0.0108504\n",
      "[5]\ttrain-logloss:0.60051+0.00848169\ttest-logloss:0.631534+0.0115328\n",
      "[6]\ttrain-logloss:0.587401+0.0162422\ttest-logloss:0.627657+0.0153537\n",
      "[7]\ttrain-logloss:0.569392+0.0198642\ttest-logloss:0.61963+0.0239306\n",
      "[8]\ttrain-logloss:0.557513+0.019498\ttest-logloss:0.608479+0.0210913\n",
      "[9]\ttrain-logloss:0.556768+0.0155214\ttest-logloss:0.610336+0.0215195\n"
     ]
    },
    {
     "name": "stderr",
     "output_type": "stream",
     "text": [
      "[I 2020-04-28 15:55:05,599] Finished trial#7 with value: 0.6103363333333334 with parameters: {'booster': 'gbtree', 'reg_lambda': 1, 'reg_alpha': 2, 'max_delta_step': 1, 'max_depth': 5, 'eta': 0.29160666884551073, 'gamma': 0.8854835899772805, 'subsample': 0.7468977981821954, 'grow_policy': 'depthwise', 'min_child_weight': 7.3959660071720865, 'colsample_bytree': 0.19980173873064822, 'colsample_bylevel': 0.49540285167919307, 'colsample_bynode': 0.2815472821018566, 'tree_method': 'hist', 'sampling_method': 'uniform', 'predictor': 'cpu_predictor', 'max_bin': 512}. Best is trial#6 with value: 0.5578759999999999.\n"
     ]
    },
    {
     "name": "stdout",
     "output_type": "stream",
     "text": [
      "[0]\ttrain-logloss:0.637464+0.00841769\ttest-logloss:0.655293+0.0135553\n",
      "[1]\ttrain-logloss:0.608528+0.0173932\ttest-logloss:0.637662+0.0217615\n",
      "[2]\ttrain-logloss:0.592273+0.0125374\ttest-logloss:0.626932+0.022319\n",
      "[3]\ttrain-logloss:0.576099+0.0145363\ttest-logloss:0.618321+0.0208273\n",
      "[4]\ttrain-logloss:0.558138+0.00622915\ttest-logloss:0.605407+0.0184377\n",
      "[5]\ttrain-logloss:0.544134+0.00796584\ttest-logloss:0.592867+0.021784\n",
      "[6]\ttrain-logloss:0.532352+0.0148626\ttest-logloss:0.580508+0.0177152\n",
      "[7]\ttrain-logloss:0.524894+0.0103513\ttest-logloss:0.577841+0.0240633\n",
      "[8]\ttrain-logloss:0.510571+0.00589289\ttest-logloss:0.569692+0.0273733\n",
      "[9]\ttrain-logloss:0.50105+0.00165216\ttest-logloss:0.561242+0.0298536\n"
     ]
    },
    {
     "name": "stderr",
     "output_type": "stream",
     "text": [
      "[I 2020-04-28 15:55:05,819] Finished trial#8 with value: 0.5612423333333334 with parameters: {'booster': 'gbtree', 'reg_lambda': 2, 'reg_alpha': 3, 'max_delta_step': 5, 'max_depth': 7, 'eta': 0.3120982551569632, 'gamma': 0.7699205456508366, 'subsample': 0.6015306123673847, 'grow_policy': 'depthwise', 'min_child_weight': 1.6928191884591368, 'colsample_bytree': 0.3607763076223912, 'colsample_bylevel': 0.24509915852860398, 'colsample_bynode': 0.9367278871083158, 'tree_method': 'auto', 'sampling_method': 'uniform', 'predictor': 'cpu_predictor'}. Best is trial#6 with value: 0.5578759999999999.\n"
     ]
    },
    {
     "name": "stdout",
     "output_type": "stream",
     "text": [
      "[0]\ttrain-logloss:0.650583+0.00407821\ttest-logloss:0.672028+0.0121926\n",
      "[1]\ttrain-logloss:0.632508+0.0122411\ttest-logloss:0.641916+0.0060521\n",
      "[2]\ttrain-logloss:0.625862+0.0380726\ttest-logloss:0.636779+0.00727852\n",
      "[3]\ttrain-logloss:0.572792+0.0154163\ttest-logloss:0.609701+0.0152982\n",
      "[4]\ttrain-logloss:0.564451+0.0196003\ttest-logloss:0.628848+0.0467834\n",
      "[5]\ttrain-logloss:0.586003+0.0588421\ttest-logloss:0.595105+0.0236715\n",
      "[6]\ttrain-logloss:0.548632+0.0233229\ttest-logloss:0.59098+0.0279229\n",
      "[7]\ttrain-logloss:0.563503+0.0494455\ttest-logloss:0.593355+0.0276302\n"
     ]
    },
    {
     "name": "stderr",
     "output_type": "stream",
     "text": [
      "[I 2020-04-28 15:55:06,019] Finished trial#9 with value: 0.5909800000000001 with parameters: {'booster': 'dart', 'reg_lambda': 1, 'reg_alpha': 4, 'max_delta_step': 6, 'max_depth': 12, 'eta': 0.40674423652707936, 'gamma': 0.5932850294430179, 'subsample': 0.9462794992449889, 'grow_policy': 'depthwise', 'min_child_weight': 3.9191051890474657, 'colsample_bytree': 0.20987915923060602, 'colsample_bylevel': 0.42066805426927745, 'colsample_bynode': 0.9161455973911786, 'tree_method': 'auto', 'sampling_method': 'uniform', 'predictor': 'cpu_predictor', 'sample_type': 'uniform', 'normalize_type': 'tree', 'rate_drop': 0.4271077886262563, 'skip_drop': 0.8180147659224931}. Best is trial#6 with value: 0.5578759999999999.\n"
     ]
    },
    {
     "name": "stdout",
     "output_type": "stream",
     "text": [
      "The best Optuna hyperparameters are: \n",
      "{'objective': 'binary:logistic', 'eval_metric': 'logloss', 'verbosity': 1, 'disable_default_eval_metric': 1, 'booster': 'gbtree', 'reg_lambda': 2, 'reg_alpha': 10, 'max_delta_step': 8, 'max_depth': 13, 'eta': 0.30850382502458135, 'gamma': 0.7229163764267956, 'subsample': 0.5499874579090014, 'grow_policy': 'depthwise', 'min_child_weight': 8.795585311974417, 'colsample_bytree': 0.6410035105688879, 'colsample_bylevel': 0.737265320016441, 'colsample_bynode': 0.1185260448662222, 'tree_method': 'exact', 'scale_pos_weight': 1.9505494505494505, 'sampling_method': 'uniform', 'predictor': 'cpu_predictor', 'n_estimators': 10}\n",
      "\n",
      "\n",
      "Starting Random Search hyperparameter tuning...\n",
      "Training with params: \n",
      "{'objective': 'binary:logistic', 'eval_metric': 'logloss', 'disable_default_eval_metric': 1, 'booster': 'gbtree', 'reg_lambda': 1.3000000000000003, 'reg_alpha': 2, 'verbosity': 1, 'max_delta_step': 9, 'max_depth': 2, 'eta': 0.47500000000000003, 'gamma': 0.8000000000000003, 'grow_policy': 'depthwise', 'min_child_weight': 1, 'subsample': 0.55, 'sampling_method': 'uniform', 'colsample_bytree': 0.45000000000000007, 'colsample_bylevel': 0.9000000000000002, 'colsample_bynode': 0.1, 'tree_method': 'exact', 'scale_pos_weight': 1.9505494505494505, 'predictor': 'cpu_predictor'}\n",
      "[0]\ttrain-logloss:0.626005+0.00508887\ttest-logloss:0.643978+0.0209653\n",
      "[1]\ttrain-logloss:0.599857+0.00883297\ttest-logloss:0.62615+0.0235459\n",
      "[2]\ttrain-logloss:0.576478+0.0130725\ttest-logloss:0.617303+0.0317212\n",
      "[3]\ttrain-logloss:0.554225+0.00892704\ttest-logloss:0.599291+0.0243904\n",
      "[4]\ttrain-logloss:0.549015+0.0166491\ttest-logloss:0.603073+0.0143236\n",
      "[5]\ttrain-logloss:0.535279+0.017781\ttest-logloss:0.589469+0.0162363\n",
      "[6]\ttrain-logloss:0.520298+0.0190242\ttest-logloss:0.586497+0.0141501\n",
      "[7]\ttrain-logloss:0.51186+0.0212907\ttest-logloss:0.576888+0.0195376\n",
      "[8]\ttrain-logloss:0.50413+0.0162169\ttest-logloss:0.574651+0.013876\n",
      "[9]\ttrain-logloss:0.491282+0.0146109\ttest-logloss:0.564892+0.00859081\n",
      "Training with params: \n",
      "{'objective': 'binary:logistic', 'eval_metric': 'logloss', 'disable_default_eval_metric': 1, 'booster': 'gbtree', 'reg_lambda': 1.6000000000000005, 'reg_alpha': 5, 'verbosity': 1, 'max_delta_step': 3, 'max_depth': 4, 'eta': 0.275, 'gamma': 0.55, 'grow_policy': 'depthwise', 'min_child_weight': 7, 'subsample': 0.55, 'sampling_method': 'uniform', 'colsample_bytree': 0.6500000000000001, 'colsample_bylevel': 0.5000000000000001, 'colsample_bynode': 0.15000000000000002, 'tree_method': 'hist', 'scale_pos_weight': 1.9505494505494505, 'predictor': 'cpu_predictor', 'max_bin': 128}\n",
      "[0]\ttrain-logloss:0.645931+0.00439688\ttest-logloss:0.652977+0.00855363\n",
      "[1]\ttrain-logloss:0.627692+0.00823022\ttest-logloss:0.637467+0.0135678\n",
      "[2]\ttrain-logloss:0.617051+0.00425823\ttest-logloss:0.630898+0.0147845\n",
      "[3]\ttrain-logloss:0.601576+0.00278802\ttest-logloss:0.617381+0.0204456\n",
      "[4]\ttrain-logloss:0.590695+0.00813665\ttest-logloss:0.610514+0.0236912\n",
      "[5]\ttrain-logloss:0.582166+0.00899898\ttest-logloss:0.603449+0.0219811\n",
      "[6]\ttrain-logloss:0.563626+0.00838715\ttest-logloss:0.588382+0.00957511\n",
      "[7]\ttrain-logloss:0.555811+0.00553401\ttest-logloss:0.582824+0.0198158\n",
      "[8]\ttrain-logloss:0.549229+0.00872521\ttest-logloss:0.578804+0.0226402\n",
      "[9]\ttrain-logloss:0.539367+0.00354167\ttest-logloss:0.568109+0.0133429\n",
      "Training with params: \n",
      "{'objective': 'binary:logistic', 'eval_metric': 'logloss', 'disable_default_eval_metric': 1, 'booster': 'gbtree', 'reg_lambda': 1.0, 'reg_alpha': 3, 'verbosity': 1, 'max_delta_step': 2, 'max_depth': 4, 'eta': 0.1, 'gamma': 0.8000000000000003, 'grow_policy': 'lossguide', 'min_child_weight': 8, 'subsample': 0.7500000000000002, 'sampling_method': 'uniform', 'colsample_bytree': 0.6500000000000001, 'colsample_bylevel': 0.6500000000000001, 'colsample_bynode': 0.40000000000000013, 'tree_method': 'approx', 'scale_pos_weight': 1.9505494505494505, 'predictor': 'cpu_predictor', 'max_leaves': 8, 'sketch_eps': 0.35000000000000003}\n",
      "[0]\ttrain-logloss:0.669366+0.001021\ttest-logloss:0.673667+0.00286334\n",
      "[1]\ttrain-logloss:0.654078+0.00165144\ttest-logloss:0.661319+0.00507819\n",
      "[2]\ttrain-logloss:0.640034+0.00232261\ttest-logloss:0.650696+0.00767849\n",
      "[3]\ttrain-logloss:0.623889+0.000451498\ttest-logloss:0.637697+0.0094447\n",
      "[4]\ttrain-logloss:0.612527+0.00231432\ttest-logloss:0.628695+0.0118052\n",
      "[5]\ttrain-logloss:0.603539+0.00294657\ttest-logloss:0.621476+0.0143378\n",
      "[6]\ttrain-logloss:0.593109+0.0046144\ttest-logloss:0.612678+0.0148291\n",
      "[7]\ttrain-logloss:0.583022+0.00544978\ttest-logloss:0.6055+0.0182719\n",
      "[8]\ttrain-logloss:0.575494+0.0076077\ttest-logloss:0.59936+0.0182154\n",
      "[9]\ttrain-logloss:0.57022+0.00922493\ttest-logloss:0.595727+0.019191\n",
      "Training with params: \n",
      "{'objective': 'binary:logistic', 'eval_metric': 'logloss', 'disable_default_eval_metric': 1, 'booster': 'dart', 'reg_lambda': 1.8000000000000007, 'reg_alpha': 3, 'verbosity': 1, 'max_delta_step': 1, 'max_depth': 4, 'eta': 0.05, 'gamma': 0.7500000000000002, 'grow_policy': 'lossguide', 'min_child_weight': 5, 'subsample': 0.55, 'sampling_method': 'uniform', 'colsample_bytree': 0.6000000000000002, 'colsample_bylevel': 0.40000000000000013, 'colsample_bynode': 0.8500000000000002, 'tree_method': 'hist', 'scale_pos_weight': 1.9505494505494505, 'predictor': 'cpu_predictor', 'max_leaves': 4, 'sample_type': 'uniform', 'normalize_type': 'tree', 'rate_drop': 0.9591836734693877, 'skip_drop': 0.7142857142857142, 'max_bin': 512}\n",
      "[0]\ttrain-logloss:0.690816+0.00167166\ttest-logloss:0.69113+0.00146453\n",
      "[1]\ttrain-logloss:0.682644+0.00301285\ttest-logloss:0.689162+0.00298767\n",
      "[2]\ttrain-logloss:0.685512+0.00561566\ttest-logloss:0.682904+0.00303146\n",
      "[3]\ttrain-logloss:0.67757+0.00439629\ttest-logloss:0.681939+0.00368336\n",
      "[4]\ttrain-logloss:0.674253+0.00266962\ttest-logloss:0.685077+0.00642751\n",
      "Training with params: \n",
      "{'objective': 'binary:logistic', 'eval_metric': 'logloss', 'disable_default_eval_metric': 1, 'booster': 'gbtree', 'reg_lambda': 1.2000000000000002, 'reg_alpha': 8, 'verbosity': 1, 'max_delta_step': 2, 'max_depth': 13, 'eta': 0.05, 'gamma': 0.55, 'grow_policy': 'depthwise', 'min_child_weight': 3, 'subsample': 0.8000000000000003, 'sampling_method': 'uniform', 'colsample_bytree': 0.7000000000000002, 'colsample_bylevel': 0.7000000000000002, 'colsample_bynode': 0.8000000000000002, 'tree_method': 'approx', 'scale_pos_weight': 1.9505494505494505, 'predictor': 'cpu_predictor', 'sketch_eps': 0.8500000000000001}\n",
      "[0]\ttrain-logloss:0.693004+0.000255127\ttest-logloss:0.693067+0.000181645\n",
      "[1]\ttrain-logloss:0.692984+0.000308865\ttest-logloss:0.69306+0.000219608\n",
      "[2]\ttrain-logloss:0.693027+0.000755841\ttest-logloss:0.693218+0.000669793\n",
      "Training with params: \n",
      "{'objective': 'binary:logistic', 'eval_metric': 'logloss', 'disable_default_eval_metric': 1, 'booster': 'dart', 'reg_lambda': 1.6000000000000005, 'reg_alpha': 2, 'verbosity': 1, 'max_delta_step': 1, 'max_depth': 12, 'eta': 0.225, 'gamma': 0.9000000000000004, 'grow_policy': 'depthwise', 'min_child_weight': 9, 'subsample': 0.55, 'sampling_method': 'uniform', 'colsample_bytree': 0.9000000000000002, 'colsample_bylevel': 0.40000000000000013, 'colsample_bynode': 0.30000000000000004, 'tree_method': 'approx', 'scale_pos_weight': 1.9505494505494505, 'predictor': 'cpu_predictor', 'sample_type': 'weighted', 'normalize_type': 'forest', 'rate_drop': 0.02040816326530612, 'skip_drop': 0.14285714285714285, 'sketch_eps': 0.55}\n",
      "[0]\ttrain-logloss:0.690782+0.00270172\ttest-logloss:0.69143+0.00193941\n",
      "[1]\ttrain-logloss:0.694522+0.0062243\ttest-logloss:0.695742+0.00708472\n",
      "Training with params: \n",
      "{'objective': 'binary:logistic', 'eval_metric': 'logloss', 'disable_default_eval_metric': 1, 'booster': 'gbtree', 'reg_lambda': 1.9000000000000008, 'reg_alpha': 1, 'verbosity': 1, 'max_delta_step': 8, 'max_depth': 2, 'eta': 0.45000000000000007, 'gamma': 0.6000000000000001, 'grow_policy': 'depthwise', 'min_child_weight': 8, 'subsample': 0.9000000000000004, 'sampling_method': 'uniform', 'colsample_bytree': 0.5000000000000001, 'colsample_bylevel': 0.9000000000000002, 'colsample_bynode': 0.7500000000000002, 'tree_method': 'exact', 'scale_pos_weight': 1.9505494505494505, 'predictor': 'cpu_predictor'}\n",
      "[0]\ttrain-logloss:0.608316+0.00537255\ttest-logloss:0.635663+0.0152116\n",
      "[1]\ttrain-logloss:0.580487+0.0265094\ttest-logloss:0.62598+0.0313027\n"
     ]
    },
    {
     "name": "stdout",
     "output_type": "stream",
     "text": [
      "[2]\ttrain-logloss:0.5375+0.0207718\ttest-logloss:0.601889+0.0295498\n",
      "[3]\ttrain-logloss:0.511348+0.0204563\ttest-logloss:0.581785+0.0312216\n",
      "[4]\ttrain-logloss:0.496915+0.0187949\ttest-logloss:0.571823+0.0351437\n",
      "[5]\ttrain-logloss:0.48584+0.0166751\ttest-logloss:0.561714+0.0334719\n",
      "[6]\ttrain-logloss:0.473123+0.0129461\ttest-logloss:0.546226+0.0218059\n",
      "[7]\ttrain-logloss:0.463627+0.0129658\ttest-logloss:0.54593+0.0199406\n",
      "[8]\ttrain-logloss:0.457847+0.012793\ttest-logloss:0.544165+0.0217863\n",
      "[9]\ttrain-logloss:0.449904+0.0115187\ttest-logloss:0.538702+0.0233102\n",
      "Training with params: \n",
      "{'objective': 'binary:logistic', 'eval_metric': 'logloss', 'disable_default_eval_metric': 1, 'booster': 'dart', 'reg_lambda': 1.1, 'reg_alpha': 3, 'verbosity': 1, 'max_delta_step': 2, 'max_depth': 6, 'eta': 0.025, 'gamma': 0.9500000000000004, 'grow_policy': 'depthwise', 'min_child_weight': 4, 'subsample': 0.5, 'sampling_method': 'uniform', 'colsample_bytree': 0.15000000000000002, 'colsample_bylevel': 0.45000000000000007, 'colsample_bynode': 0.20000000000000004, 'tree_method': 'auto', 'scale_pos_weight': 1.9505494505494505, 'predictor': 'cpu_predictor', 'sample_type': 'uniform', 'normalize_type': 'forest', 'rate_drop': 0.8571428571428571, 'skip_drop': 0.6326530612244897}\n",
      "[0]\ttrain-logloss:0.692479+0.000944695\ttest-logloss:0.693147+1.11022e-16\n",
      "[1]\ttrain-logloss:0.689144+0.0011172\ttest-logloss:0.692207+0.00132936\n",
      "[2]\ttrain-logloss:0.686949+0.00118198\ttest-logloss:0.688566+0.000625878\n",
      "[3]\ttrain-logloss:0.690836+0.00326778\ttest-logloss:0.686699+0.00438159\n",
      "[4]\ttrain-logloss:0.682904+0.00733617\ttest-logloss:0.683001+0.00215926\n",
      "[5]\ttrain-logloss:0.688043+0.00615494\ttest-logloss:0.679888+0.00176631\n",
      "[6]\ttrain-logloss:0.685671+0.00880842\ttest-logloss:0.682746+0.00366162\n",
      "Training with params: \n",
      "{'objective': 'binary:logistic', 'eval_metric': 'logloss', 'disable_default_eval_metric': 1, 'booster': 'gbtree', 'reg_lambda': 1.7000000000000006, 'reg_alpha': 6, 'verbosity': 1, 'max_delta_step': 2, 'max_depth': 2, 'eta': 0.35000000000000003, 'gamma': 0.7500000000000002, 'grow_policy': 'lossguide', 'min_child_weight': 7, 'subsample': 0.8500000000000003, 'sampling_method': 'uniform', 'colsample_bytree': 0.25000000000000006, 'colsample_bylevel': 0.15000000000000002, 'colsample_bynode': 0.7000000000000002, 'tree_method': 'approx', 'scale_pos_weight': 1.9505494505494505, 'predictor': 'cpu_predictor', 'max_leaves': 3, 'sketch_eps': 0.30000000000000004}\n",
      "[0]\ttrain-logloss:0.63983+0.00365004\ttest-logloss:0.644849+0.00855104\n",
      "[1]\ttrain-logloss:0.607856+0.00304615\ttest-logloss:0.617462+0.00327911\n",
      "[2]\ttrain-logloss:0.590331+0.00296573\ttest-logloss:0.60469+0.00943752\n",
      "[3]\ttrain-logloss:0.577473+0.0050962\ttest-logloss:0.594481+0.0124544\n",
      "[4]\ttrain-logloss:0.569481+0.00760097\ttest-logloss:0.58783+0.00976775\n",
      "[5]\ttrain-logloss:0.558335+0.0136856\ttest-logloss:0.579136+0.0175979\n",
      "[6]\ttrain-logloss:0.551206+0.0102682\ttest-logloss:0.572078+0.0166595\n",
      "[7]\ttrain-logloss:0.545474+0.00772128\ttest-logloss:0.569829+0.0166868\n",
      "[8]\ttrain-logloss:0.541977+0.00797753\ttest-logloss:0.566228+0.0166486\n",
      "[9]\ttrain-logloss:0.542873+0.00964396\ttest-logloss:0.56786+0.0199936\n",
      "Training with params: \n",
      "{'objective': 'binary:logistic', 'eval_metric': 'logloss', 'disable_default_eval_metric': 1, 'booster': 'gbtree', 'reg_lambda': 1.4000000000000004, 'reg_alpha': 7, 'verbosity': 1, 'max_delta_step': 2, 'max_depth': 8, 'eta': 0.45000000000000007, 'gamma': 0.55, 'grow_policy': 'depthwise', 'min_child_weight': 9, 'subsample': 0.5, 'sampling_method': 'uniform', 'colsample_bytree': 0.45000000000000007, 'colsample_bylevel': 0.3500000000000001, 'colsample_bynode': 0.7500000000000002, 'tree_method': 'hist', 'scale_pos_weight': 1.9505494505494505, 'predictor': 'cpu_predictor', 'max_bin': 1024}\n",
      "[0]\ttrain-logloss:0.625607+0.0136639\ttest-logloss:0.639656+0.0106106\n",
      "[1]\ttrain-logloss:0.599764+0.0205176\ttest-logloss:0.622897+0.0132988\n",
      "[2]\ttrain-logloss:0.588262+0.0202463\ttest-logloss:0.614572+0.0164654\n",
      "[3]\ttrain-logloss:0.570791+0.0185034\ttest-logloss:0.604047+0.0212119\n",
      "[4]\ttrain-logloss:0.565825+0.010192\ttest-logloss:0.600945+0.0150215\n",
      "[5]\ttrain-logloss:0.560077+0.00766655\ttest-logloss:0.598984+0.0162914\n",
      "[6]\ttrain-logloss:0.559381+0.00732002\ttest-logloss:0.594896+0.00493575\n",
      "[7]\ttrain-logloss:0.554794+0.00755038\ttest-logloss:0.588962+0.00356416\n",
      "[8]\ttrain-logloss:0.553062+0.00539026\ttest-logloss:0.588031+0.00487517\n",
      "[9]\ttrain-logloss:0.549831+0.00500912\ttest-logloss:0.583903+0.00700749\n",
      "The best Random Search hyperparameters are: \n",
      "{'params': {'objective': 'binary:logistic', 'eval_metric': 'logloss', 'disable_default_eval_metric': 1, 'booster': 'gbtree', 'reg_lambda': 1.3000000000000003, 'reg_alpha': 2, 'verbosity': 1, 'max_delta_step': 9, 'max_depth': 2, 'eta': 0.47500000000000003, 'gamma': 0.8000000000000003, 'grow_policy': 'depthwise', 'min_child_weight': 1, 'subsample': 0.55, 'sampling_method': 'uniform', 'colsample_bytree': 0.45000000000000007, 'colsample_bylevel': 0.9000000000000002, 'colsample_bynode': 0.1, 'tree_method': 'exact', 'scale_pos_weight': 1.9505494505494505, 'predictor': 'cpu_predictor', 'n_estimators': 10}, 'loss': 0.5648923333333333}\n",
      "\n",
      "\n"
     ]
    }
   ],
   "source": [
    "xgb_model.train_models()"
   ]
  },
  {
   "cell_type": "code",
   "execution_count": 23,
   "metadata": {},
   "outputs": [
    {
     "name": "stdout",
     "output_type": "stream",
     "text": [
      "Testing Results: \n",
      "{'hyperopt': {'params': {'booster': 'gbtree', 'colsample_bylevel': 0.55, 'colsample_bynode': 1.0, 'colsample_bytree': 0.4, 'disable_default_eval_metric': 1, 'eta': 0.17500000000000002, 'eval_metric': 'logloss', 'gamma': 0.6000000000000001, 'grow_policy': 'depthwise', 'max_delta_step': 3.0, 'max_depth': 9, 'min_child_weight': 4.0, 'objective': 'binary:logistic', 'predictor': 'cpu_predictor', 'reg_alpha': 5.0, 'reg_lambda': 1.3, 'sampling_method': 'uniform', 'scale_pos_weight': 1.9505494505494505, 'subsample': 0.55, 'tree_method': 'approx', 'verbosity': 1, 'sketch_eps': 0.05, 'n_estimators': 10}, 'model': <xgboost.core.Booster object at 0x00000285D74DF0B8>, 'prediction': array([0.31384897, 0.55138737, 0.55773246, 0.5670948 , 0.47026375,\n",
      "       0.1961264 , 0.51157713, 0.42613482, 0.75387102, 0.63014323,\n",
      "       0.65265065, 0.36667985, 0.51980537, 0.18611202, 0.36685026,\n",
      "       0.58614177, 0.33222306, 0.53784335, 0.48890805, 0.26831254,\n",
      "       0.55411649, 0.55407977, 0.57504499, 0.60665649, 0.5417152 ,\n",
      "       0.66497505, 0.44478393, 0.33391395, 0.36962837, 0.18611202,\n",
      "       0.40985665, 0.30582625, 0.35082647, 0.46941194, 0.43903232,\n",
      "       0.46263444, 0.35816175, 0.56673259, 0.47684231, 0.29502237,\n",
      "       0.54389834, 0.40997219, 0.30662569, 0.43752879, 0.4745945 ,\n",
      "       0.35184398, 0.48307061, 0.26453868, 0.47358546, 0.58132237,\n",
      "       0.67689705, 0.33351755, 0.31044999, 0.73327696, 0.48287585,\n",
      "       0.51990104, 0.39544895, 0.3575564 , 0.25987783, 0.61480516,\n",
      "       0.39500397, 0.42793483, 0.67233723, 0.47557017, 0.26308846,\n",
      "       0.4031679 , 0.26308846, 0.50637662, 0.57531625, 0.60452491,\n",
      "       0.5379492 , 0.5663293 , 0.62106365, 0.69495231, 0.67050886,\n",
      "       0.32613781, 0.50162309, 0.26094922, 0.36674464, 0.58383387,\n",
      "       0.44653812, 0.42509952, 0.4107089 , 0.4612717 , 0.28132617,\n",
      "       0.29193461, 0.5804041 , 0.26589924, 0.55249697, 0.64043307,\n",
      "       0.61415124, 0.72673148, 0.26094922, 0.56924582, 0.26498553,\n",
      "       0.63119996, 0.30718413, 0.30438474, 0.27011827, 0.41783229,\n",
      "       0.5235334 , 0.52355766, 0.32579309, 0.55947626, 0.4745945 ,\n",
      "       0.41859022, 0.61115205, 0.65177977, 0.32018805, 0.5733515 ,\n",
      "       0.56673259, 0.48264024, 0.60398763, 0.54373008, 0.3764866 ,\n",
      "       0.60787135, 0.61004001, 0.4236342 , 0.36767858, 0.67372829,\n",
      "       0.42548487, 0.39056098, 0.60600531, 0.60159022, 0.36856055,\n",
      "       0.59915882, 0.41730049, 0.74576795, 0.62253922, 0.25056562,\n",
      "       0.29528198, 0.2066825 , 0.58203578, 0.40679929, 0.44193032,\n",
      "       0.597031  , 0.38170609, 0.2066825 , 0.53503531, 0.40325597,\n",
      "       0.54883063, 0.50213122, 0.23337235, 0.28914443, 0.59482294,\n",
      "       0.30598652, 0.49845436, 0.58283603, 0.3979955 , 0.309508  ,\n",
      "       0.50839323, 0.51990104, 0.56310272, 0.30740336, 0.68984836,\n",
      "       0.32252017, 0.25902504, 0.70330989, 0.67197353, 0.61090344,\n",
      "       0.64668316, 0.39055619, 0.59068453, 0.4735367 , 0.40458277,\n",
      "       0.48781198, 0.40947148, 0.25227958, 0.48684832, 0.61412203,\n",
      "       0.51222801, 0.47664213, 0.54359871, 0.5390076 , 0.65017891,\n",
      "       0.44476026, 0.43315464, 0.42137522, 0.26094922, 0.54540765,\n",
      "       0.63892442, 0.23026153, 0.41335282, 0.51726753, 0.49525785,\n",
      "       0.51113945, 0.50941372, 0.21116713, 0.32630926, 0.46650317,\n",
      "       0.70199752, 0.3340553 , 0.49674833, 0.37184176, 0.39415801,\n",
      "       0.51964003, 0.44155273, 0.58393985, 0.4655616 , 0.2365884 ,\n",
      "       0.26483357, 0.53767842, 0.52619535, 0.5151971 , 0.5440101 ,\n",
      "       0.62820512, 0.2310704 , 0.63671345, 0.29436415, 0.51327258,\n",
      "       0.5831033 , 0.41569537, 0.26309282, 0.51104409, 0.30414018,\n",
      "       0.57218307, 0.61832649, 0.58109701, 0.54981214, 0.57598072,\n",
      "       0.56365275, 0.65958673, 0.41073224, 0.37673122, 0.48619652,\n",
      "       0.32630926, 0.6669631 , 0.59519315, 0.25896713, 0.43953305,\n",
      "       0.47293168]), 'score': 0.5754444463316142}, 'optuna': {'params': {'objective': 'binary:logistic', 'eval_metric': 'logloss', 'verbosity': 1, 'disable_default_eval_metric': 1, 'booster': 'gbtree', 'reg_lambda': 2, 'reg_alpha': 10, 'max_delta_step': 8, 'max_depth': 13, 'eta': 0.30850382502458135, 'gamma': 0.7229163764267956, 'subsample': 0.5499874579090014, 'grow_policy': 'depthwise', 'min_child_weight': 8.795585311974417, 'colsample_bytree': 0.6410035105688879, 'colsample_bylevel': 0.737265320016441, 'colsample_bynode': 0.1185260448662222, 'tree_method': 'exact', 'scale_pos_weight': 1.9505494505494505, 'sampling_method': 'uniform', 'predictor': 'cpu_predictor', 'n_estimators': 10}, 'model': <xgboost.core.Booster object at 0x00000285F8AB3898>, 'prediction': array([0.2727769 , 0.67947459, 0.46742889, 0.43973434, 0.58705628,\n",
      "       0.20318598, 0.40719333, 0.35766244, 0.75589567, 0.73103863,\n",
      "       0.67947459, 0.51035267, 0.53466702, 0.18511865, 0.30873641,\n",
      "       0.66366249, 0.26999059, 0.56508815, 0.53466702, 0.31265399,\n",
      "       0.67565084, 0.75589567, 0.68085814, 0.67947459, 0.56938463,\n",
      "       0.67947459, 0.46669939, 0.29564926, 0.35523894, 0.19974832,\n",
      "       0.25956827, 0.32923764, 0.3469401 , 0.35035992, 0.53798509,\n",
      "       0.44885847, 0.50545585, 0.55132914, 0.32923764, 0.26678252,\n",
      "       0.4063659 , 0.41966668, 0.23798485, 0.37011001, 0.43148214,\n",
      "       0.51035267, 0.65887624, 0.18511865, 0.40790096, 0.64498955,\n",
      "       0.75589567, 0.44997701, 0.23798366, 0.73103863, 0.54732633,\n",
      "       0.62840658, 0.40790096, 0.30413064, 0.27212468, 0.58676541,\n",
      "       0.44520766, 0.41316566, 0.69504803, 0.35766244, 0.20318598,\n",
      "       0.41316566, 0.19974832, 0.43973434, 0.64498955, 0.65275043,\n",
      "       0.49998498, 0.49998498, 0.73103863, 0.75589567, 0.7085036 ,\n",
      "       0.26062056, 0.4063659 , 0.27637774, 0.2306643 , 0.68085814,\n",
      "       0.33112726, 0.30413064, 0.37579247, 0.40790096, 0.18511865,\n",
      "       0.42679465, 0.73103863, 0.24127759, 0.4063659 , 0.46742889,\n",
      "       0.67947459, 0.75589567, 0.2306435 , 0.75589567, 0.18511865,\n",
      "       0.61093342, 0.49560592, 0.25956827, 0.19974832, 0.31283331,\n",
      "       0.4204011 , 0.30413064, 0.50545585, 0.59734476, 0.4027504 ,\n",
      "       0.35766244, 0.72681648, 0.54391062, 0.30419475, 0.58896852,\n",
      "       0.55132914, 0.66366249, 0.63383055, 0.65043443, 0.46742889,\n",
      "       0.67947459, 0.4063659 , 0.51087219, 0.23798485, 0.68085814,\n",
      "       0.53466702, 0.37579247, 0.67947459, 0.69964898, 0.37579247,\n",
      "       0.68085814, 0.42894652, 0.7085036 , 0.67947459, 0.23798366,\n",
      "       0.22687358, 0.2306435 , 0.40790096, 0.32090276, 0.30413064,\n",
      "       0.57603198, 0.29625991, 0.2306435 , 0.53860492, 0.35035992,\n",
      "       0.66672677, 0.46286282, 0.25387582, 0.19974832, 0.64556038,\n",
      "       0.25956827, 0.65043443, 0.60765803, 0.41966668, 0.23798485,\n",
      "       0.40790096, 0.59222662, 0.55639338, 0.2306435 , 0.7085036 ,\n",
      "       0.19974832, 0.22687358, 0.75589567, 0.73103863, 0.67565084,\n",
      "       0.67947459, 0.23798485, 0.68085814, 0.46669939, 0.60255206,\n",
      "       0.59413141, 0.25956827, 0.24127759, 0.33241215, 0.65043443,\n",
      "       0.60765803, 0.28745767, 0.53798509, 0.43973434, 0.72632098,\n",
      "       0.37532985, 0.28610536, 0.52495497, 0.21078053, 0.60307074,\n",
      "       0.75589567, 0.20318598, 0.57461596, 0.59413141, 0.61093342,\n",
      "       0.37532985, 0.37532985, 0.2306435 , 0.22687358, 0.45049161,\n",
      "       0.73103863, 0.26262352, 0.51482868, 0.32090276, 0.30413064,\n",
      "       0.43973434, 0.57603198, 0.46742889, 0.55639338, 0.19974832,\n",
      "       0.18511865, 0.50568432, 0.41531086, 0.46742889, 0.66366249,\n",
      "       0.67947459, 0.19974832, 0.67619717, 0.37579247, 0.54391062,\n",
      "       0.72681648, 0.54391062, 0.23798485, 0.43758562, 0.28745767,\n",
      "       0.33241215, 0.60765803, 0.65043443, 0.59413141, 0.53860492,\n",
      "       0.56512916, 0.53466702, 0.27280143, 0.28463623, 0.54202694,\n",
      "       0.22687358, 0.56097877, 0.59413141, 0.18511865, 0.53798509,\n",
      "       0.4063659 ]), 'score': 0.536497558708769}, 'random_search': {'params': {'objective': 'binary:logistic', 'eval_metric': 'logloss', 'disable_default_eval_metric': 1, 'booster': 'gbtree', 'reg_lambda': 1.3000000000000003, 'reg_alpha': 2, 'verbosity': 1, 'max_delta_step': 9, 'max_depth': 2, 'eta': 0.47500000000000003, 'gamma': 0.8000000000000003, 'grow_policy': 'depthwise', 'min_child_weight': 1, 'subsample': 0.55, 'sampling_method': 'uniform', 'colsample_bytree': 0.45000000000000007, 'colsample_bylevel': 0.9000000000000002, 'colsample_bynode': 0.1, 'tree_method': 'exact', 'scale_pos_weight': 1.9505494505494505, 'predictor': 'cpu_predictor', 'n_estimators': 10}, 'model': <xgboost.core.Booster object at 0x00000285F8AB3B38>, 'prediction': array([0.18361343, 0.47805768, 0.62525266, 0.67845482, 0.56023812,\n",
      "       0.08127053, 0.44295046, 0.26722959, 0.81125009, 0.62812018,\n",
      "       0.69065034, 0.16382444, 0.33086681, 0.08127053, 0.44661486,\n",
      "       0.73511863, 0.24450344, 0.58404142, 0.52435583, 0.18530276,\n",
      "       0.55176353, 0.63814217, 0.49610642, 0.65440977, 0.41839653,\n",
      "       0.79090214, 0.46976885, 0.14345817, 0.24934109, 0.08127053,\n",
      "       0.24934109, 0.15788347, 0.14587609, 0.36287746, 0.28794304,\n",
      "       0.67702502, 0.23482966, 0.58550864, 0.29378095, 0.23426275,\n",
      "       0.61419886, 0.4072496 , 0.28306556, 0.19594423, 0.56846076,\n",
      "       0.20768894, 0.27896941, 0.10539934, 0.53960222, 0.54918146,\n",
      "       0.68129033, 0.09247038, 0.12314821, 0.83078754, 0.55042082,\n",
      "       0.55042082, 0.36674735, 0.23290452, 0.13568909, 0.74092555,\n",
      "       0.33601126, 0.32779738, 0.78002346, 0.54418981, 0.11247583,\n",
      "       0.33601126, 0.09247038, 0.71494097, 0.55080163, 0.78964627,\n",
      "       0.6566335 , 0.65515608, 0.64244169, 0.85839045, 0.75039852,\n",
      "       0.15265386, 0.55857074, 0.22510388, 0.19402456, 0.78961724,\n",
      "       0.40351093, 0.39925596, 0.54857892, 0.55857074, 0.17574823,\n",
      "       0.08127053, 0.52623856, 0.24450344, 0.51562983, 0.67270613,\n",
      "       0.68564785, 0.85660261, 0.19951837, 0.67702502, 0.09973522,\n",
      "       0.61689699, 0.17293338, 0.15788347, 0.09247038, 0.29502669,\n",
      "       0.60525495, 0.55800343, 0.31689519, 0.30472776, 0.61181402,\n",
      "       0.58924466, 0.72877866, 0.49949494, 0.27793723, 0.76827437,\n",
      "       0.62673908, 0.65017927, 0.48332444, 0.67871785, 0.47960216,\n",
      "       0.65844512, 0.51562983, 0.41029966, 0.17760034, 0.77816755,\n",
      "       0.38356802, 0.50206083, 0.64726222, 0.57010275, 0.50206083,\n",
      "       0.70435292, 0.5673787 , 0.74838054, 0.58514637, 0.10539934,\n",
      "       0.1935121 , 0.11170453, 0.57062972, 0.61446178, 0.2800895 ,\n",
      "       0.41827524, 0.32074103, 0.11170453, 0.50311071, 0.28306556,\n",
      "       0.677257  , 0.73277211, 0.15467095, 0.09247038, 0.61703986,\n",
      "       0.28306556, 0.51720655, 0.70633072, 0.59091622, 0.28306556,\n",
      "       0.71494097, 0.56023812, 0.59271365, 0.1265209 , 0.6654188 ,\n",
      "       0.11316627, 0.14345817, 0.80508679, 0.69760293, 0.65759152,\n",
      "       0.70820153, 0.29378095, 0.62885749, 0.49247175, 0.40864721,\n",
      "       0.49604166, 0.29378095, 0.14391047, 0.26646885, 0.60912848,\n",
      "       0.48386484, 0.48423749, 0.45346376, 0.52623856, 0.74509943,\n",
      "       0.67871785, 0.16277289, 0.46094584, 0.19951837, 0.67810494,\n",
      "       0.74509943, 0.11247583, 0.36733225, 0.40685096, 0.49610642,\n",
      "       0.54918146, 0.47082564, 0.11170453, 0.20002316, 0.47314194,\n",
      "       0.83605486, 0.31689519, 0.47651076, 0.37160677, 0.25984666,\n",
      "       0.57062972, 0.28249839, 0.74092555, 0.51655513, 0.08127053,\n",
      "       0.09973522, 0.63814217, 0.50613475, 0.621822  , 0.54963166,\n",
      "       0.7166521 , 0.08127053, 0.76260161, 0.41200966, 0.54603481,\n",
      "       0.83078754, 0.4906964 , 0.10539934, 0.53816813, 0.35949782,\n",
      "       0.43359566, 0.7777288 , 0.74702346, 0.68960923, 0.44350594,\n",
      "       0.52933919, 0.66198355, 0.4734064 , 0.35582033, 0.60183996,\n",
      "       0.20002316, 0.734052  , 0.72582734, 0.10539934, 0.22607552,\n"
     ]
    },
    {
     "name": "stdout",
     "output_type": "stream",
     "text": [
      "       0.38311645]), 'score': 0.5242113609509672}}\n",
      "\n",
      "\n"
     ]
    }
   ],
   "source": [
    "xgb_model.test_models()"
   ]
  },
  {
   "cell_type": "code",
   "execution_count": 25,
   "metadata": {},
   "outputs": [
    {
     "data": {
      "image/png": "[encoded data removed]",
      "text/plain": [
       "<Figure size 432x288 with 1 Axes>"
      ]
     },
     "metadata": {
      "needs_background": "light"
     },
     "output_type": "display_data"
    },
    {
     "data": {
      "image/png": "[encoded data removed]",
      "text/plain": [
       "<Figure size 432x288 with 1 Axes>"
      ]
     },
     "metadata": {
      "needs_background": "light"
     },
     "output_type": "display_data"
    },
    {
     "data": {
      "image/png": "[encoded data removed]",
      "text/plain": [
       "<Figure size 432x288 with 1 Axes>"
      ]
     },
     "metadata": {
      "needs_background": "light"
     },
     "output_type": "display_data"
    }
   ],
   "source": [
    "xgb_model.feature_importance()"
   ]
  },
  {
   "cell_type": "code",
   "execution_count": null,
   "metadata": {},
   "outputs": [],
   "source": []
  },
  {
   "cell_type": "code",
   "execution_count": null,
   "metadata": {},
   "outputs": [],
   "source": []
  }
 ],
 "metadata": {
  "kernelspec": {
   "display_name": "Python 3.7.1 64-bit ('base': conda)",
   "language": "python",
   "name": "python37164bitbasecondacf0547d2049f46e681e648dd6988e47e"
  },
  "language_info": {
   "codemirror_mode": {
    "name": "ipython",
    "version": 3
   },
   "file_extension": ".py",
   "mimetype": "text/x-python",
   "name": "python",
   "nbconvert_exporter": "python",
   "pygments_lexer": "ipython3",
   "version": "3.7.1"
  }
 },
 "nbformat": 4,
 "nbformat_minor": 2
}

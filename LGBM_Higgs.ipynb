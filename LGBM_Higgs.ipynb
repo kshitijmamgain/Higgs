{
  "nbformat": 4,
  "nbformat_minor": 0,
  "metadata": {
    "colab": {
      "name": "LGBM_Higgs.ipynb",
      "provenance": []
    },
    "kernelspec": {
      "name": "python3",
      "display_name": "Python 3"
    }
  },
  "cells": [
    {
      "cell_type": "code",
      "metadata": {
        "id": "Wr_-lW5FYhQy",
        "colab_type": "code",
        "colab": {}
      },
      "source": [
        ""
      ],
      "execution_count": 0,
      "outputs": []
    },
    {
      "cell_type": "code",
      "metadata": {
        "id": "qcPxcikTYxY-",
        "colab_type": "code",
        "outputId": "17b1ccb3-3eb9-4f2c-ad44-75df496eeacd",
        "colab": {
          "base_uri": "https://localhost:8080/",
          "height": 125
        }
      },
      "source": [
        "from google.colab import drive\n",
        "drive.mount('/content/drive')"
      ],
      "execution_count": 0,
      "outputs": [
        {
          "output_type": "stream",
          "text": [
            "Go to this URL in a browser: https://accounts.google.com/o/oauth2/auth?client_id=947318989803-6bn6qk8qdgf4n4g3pfee6491hc0brc4i.apps.googleusercontent.com&redirect_uri=urn%3aietf%3awg%3aoauth%3a2.0%3aoob&response_type=code&scope=email%20https%3a%2f%2fwww.googleapis.com%2fauth%2fdocs.test%20https%3a%2f%2fwww.googleapis.com%2fauth%2fdrive%20https%3a%2f%2fwww.googleapis.com%2fauth%2fdrive.photos.readonly%20https%3a%2f%2fwww.googleapis.com%2fauth%2fpeopleapi.readonly\n",
            "\n",
            "Enter your authorization code:\n",
            "··········\n",
            "Mounted at /content/drive\n"
          ],
          "name": "stdout"
        }
      ]
    },
    {
      "cell_type": "code",
      "metadata": {
        "id": "Ce6huAbaaNnj",
        "colab_type": "code",
        "outputId": "148f1d0d-df4e-4045-bfb0-0d17c106a2f5",
        "colab": {
          "base_uri": "https://localhost:8080/",
          "height": 443
        }
      },
      "source": [
        "!ls drive/My\\ Drive/Colab\\ Notebooks"
      ],
      "execution_count": 0,
      "outputs": [
        {
          "output_type": "stream",
          "text": [
            " bert\n",
            "'catboost (1).ipynb'\n",
            "'Catboost for Imbalanced Data .ipynb'\n",
            " catboost.ipynb\n",
            " cbmodel.p\n",
            "'Copy of Pima_Dataset 1.ipynb'\n",
            " corpus.csv\n",
            " corpus.gsheet\n",
            " creditcard.csv\n",
            " data.p\n",
            " hypteropt.ipynb\n",
            " Kshitij_Mamgain_PySpark.ipynb\n",
            "' MCT Natural Language Processing - Text Analysis.ipynb'\n",
            " pima.csv\n",
            "'Pima_Dataset 1.ipynb'\n",
            "'Pima Dataset.ipynb'\n",
            " Untitled\n",
            " Untitled0.ipynb\n",
            " Untitled1.ipynb\n",
            " Untitled2.ipynb\n",
            " Untitled3.ipynb\n",
            " Untitled4.ipynb\n",
            " Untitled5.ipynb\n",
            " Untitled6.ipynb\n"
          ],
          "name": "stdout"
        }
      ]
    },
    {
      "cell_type": "code",
      "metadata": {
        "id": "Jkq5X7z9Yydz",
        "colab_type": "code",
        "colab": {}
      },
      "source": [
        "import dask.dataframe as dd"
      ],
      "execution_count": 0,
      "outputs": []
    },
    {
      "cell_type": "code",
      "metadata": {
        "id": "C0P4j0L3ZBmN",
        "colab_type": "code",
        "colab": {}
      },
      "source": [
        "import pandas as pd\n",
        "df = pd.read_csv(\"drive/My Drive/Colab Notebooks/pima.csv\", header = None)"
      ],
      "execution_count": 0,
      "outputs": []
    },
    {
      "cell_type": "code",
      "metadata": {
        "id": "azPBNjLtafAO",
        "colab_type": "code",
        "outputId": "be5720b5-e434-451a-d6e8-808765dfd5ee",
        "colab": {
          "base_uri": "https://localhost:8080/",
          "height": 197
        }
      },
      "source": [
        "df.head()"
      ],
      "execution_count": 0,
      "outputs": [
        {
          "output_type": "execute_result",
          "data": {
            "text/html": [
              "<div>\n",
              "<style scoped>\n",
              "    .dataframe tbody tr th:only-of-type {\n",
              "        vertical-align: middle;\n",
              "    }\n",
              "\n",
              "    .dataframe tbody tr th {\n",
              "        vertical-align: top;\n",
              "    }\n",
              "\n",
              "    .dataframe thead th {\n",
              "        text-align: right;\n",
              "    }\n",
              "</style>\n",
              "<table border=\"1\" class=\"dataframe\">\n",
              "  <thead>\n",
              "    <tr style=\"text-align: right;\">\n",
              "      <th></th>\n",
              "      <th>0</th>\n",
              "      <th>1</th>\n",
              "      <th>2</th>\n",
              "      <th>3</th>\n",
              "      <th>4</th>\n",
              "      <th>5</th>\n",
              "      <th>6</th>\n",
              "      <th>7</th>\n",
              "      <th>8</th>\n",
              "    </tr>\n",
              "  </thead>\n",
              "  <tbody>\n",
              "    <tr>\n",
              "      <th>0</th>\n",
              "      <td>6</td>\n",
              "      <td>148</td>\n",
              "      <td>72</td>\n",
              "      <td>35</td>\n",
              "      <td>0</td>\n",
              "      <td>33.6</td>\n",
              "      <td>0.627</td>\n",
              "      <td>50</td>\n",
              "      <td>1</td>\n",
              "    </tr>\n",
              "    <tr>\n",
              "      <th>1</th>\n",
              "      <td>1</td>\n",
              "      <td>85</td>\n",
              "      <td>66</td>\n",
              "      <td>29</td>\n",
              "      <td>0</td>\n",
              "      <td>26.6</td>\n",
              "      <td>0.351</td>\n",
              "      <td>31</td>\n",
              "      <td>0</td>\n",
              "    </tr>\n",
              "    <tr>\n",
              "      <th>2</th>\n",
              "      <td>8</td>\n",
              "      <td>183</td>\n",
              "      <td>64</td>\n",
              "      <td>0</td>\n",
              "      <td>0</td>\n",
              "      <td>23.3</td>\n",
              "      <td>0.672</td>\n",
              "      <td>32</td>\n",
              "      <td>1</td>\n",
              "    </tr>\n",
              "    <tr>\n",
              "      <th>3</th>\n",
              "      <td>1</td>\n",
              "      <td>89</td>\n",
              "      <td>66</td>\n",
              "      <td>23</td>\n",
              "      <td>94</td>\n",
              "      <td>28.1</td>\n",
              "      <td>0.167</td>\n",
              "      <td>21</td>\n",
              "      <td>0</td>\n",
              "    </tr>\n",
              "    <tr>\n",
              "      <th>4</th>\n",
              "      <td>0</td>\n",
              "      <td>137</td>\n",
              "      <td>40</td>\n",
              "      <td>35</td>\n",
              "      <td>168</td>\n",
              "      <td>43.1</td>\n",
              "      <td>2.288</td>\n",
              "      <td>33</td>\n",
              "      <td>1</td>\n",
              "    </tr>\n",
              "  </tbody>\n",
              "</table>\n",
              "</div>"
            ],
            "text/plain": [
              "   0    1   2   3    4     5      6   7  8\n",
              "0  6  148  72  35    0  33.6  0.627  50  1\n",
              "1  1   85  66  29    0  26.6  0.351  31  0\n",
              "2  8  183  64   0    0  23.3  0.672  32  1\n",
              "3  1   89  66  23   94  28.1  0.167  21  0\n",
              "4  0  137  40  35  168  43.1  2.288  33  1"
            ]
          },
          "metadata": {
            "tags": []
          },
          "execution_count": 28
        }
      ]
    },
    {
      "cell_type": "code",
      "metadata": {
        "id": "S4DDYNPDbWbK",
        "colab_type": "code",
        "outputId": "9f41736b-35ee-4fae-9cbf-ae764b157632",
        "colab": {
          "base_uri": "https://localhost:8080/",
          "height": 197
        }
      },
      "source": [
        "# 11 million rows last 500,000 is test\n",
        "df.tail()"
      ],
      "execution_count": 0,
      "outputs": [
        {
          "output_type": "execute_result",
          "data": {
            "text/html": [
              "<div>\n",
              "<style scoped>\n",
              "    .dataframe tbody tr th:only-of-type {\n",
              "        vertical-align: middle;\n",
              "    }\n",
              "\n",
              "    .dataframe tbody tr th {\n",
              "        vertical-align: top;\n",
              "    }\n",
              "\n",
              "    .dataframe thead th {\n",
              "        text-align: right;\n",
              "    }\n",
              "</style>\n",
              "<table border=\"1\" class=\"dataframe\">\n",
              "  <thead>\n",
              "    <tr style=\"text-align: right;\">\n",
              "      <th></th>\n",
              "      <th>0</th>\n",
              "      <th>1</th>\n",
              "      <th>2</th>\n",
              "      <th>3</th>\n",
              "      <th>4</th>\n",
              "      <th>5</th>\n",
              "      <th>6</th>\n",
              "      <th>7</th>\n",
              "      <th>8</th>\n",
              "    </tr>\n",
              "  </thead>\n",
              "  <tbody>\n",
              "    <tr>\n",
              "      <th>763</th>\n",
              "      <td>10</td>\n",
              "      <td>101</td>\n",
              "      <td>76</td>\n",
              "      <td>48</td>\n",
              "      <td>180</td>\n",
              "      <td>32.9</td>\n",
              "      <td>0.171</td>\n",
              "      <td>63</td>\n",
              "      <td>0</td>\n",
              "    </tr>\n",
              "    <tr>\n",
              "      <th>764</th>\n",
              "      <td>2</td>\n",
              "      <td>122</td>\n",
              "      <td>70</td>\n",
              "      <td>27</td>\n",
              "      <td>0</td>\n",
              "      <td>36.8</td>\n",
              "      <td>0.340</td>\n",
              "      <td>27</td>\n",
              "      <td>0</td>\n",
              "    </tr>\n",
              "    <tr>\n",
              "      <th>765</th>\n",
              "      <td>5</td>\n",
              "      <td>121</td>\n",
              "      <td>72</td>\n",
              "      <td>23</td>\n",
              "      <td>112</td>\n",
              "      <td>26.2</td>\n",
              "      <td>0.245</td>\n",
              "      <td>30</td>\n",
              "      <td>0</td>\n",
              "    </tr>\n",
              "    <tr>\n",
              "      <th>766</th>\n",
              "      <td>1</td>\n",
              "      <td>126</td>\n",
              "      <td>60</td>\n",
              "      <td>0</td>\n",
              "      <td>0</td>\n",
              "      <td>30.1</td>\n",
              "      <td>0.349</td>\n",
              "      <td>47</td>\n",
              "      <td>1</td>\n",
              "    </tr>\n",
              "    <tr>\n",
              "      <th>767</th>\n",
              "      <td>1</td>\n",
              "      <td>93</td>\n",
              "      <td>70</td>\n",
              "      <td>31</td>\n",
              "      <td>0</td>\n",
              "      <td>30.4</td>\n",
              "      <td>0.315</td>\n",
              "      <td>23</td>\n",
              "      <td>0</td>\n",
              "    </tr>\n",
              "  </tbody>\n",
              "</table>\n",
              "</div>"
            ],
            "text/plain": [
              "      0    1   2   3    4     5      6   7  8\n",
              "763  10  101  76  48  180  32.9  0.171  63  0\n",
              "764   2  122  70  27    0  36.8  0.340  27  0\n",
              "765   5  121  72  23  112  26.2  0.245  30  0\n",
              "766   1  126  60   0    0  30.1  0.349  47  1\n",
              "767   1   93  70  31    0  30.4  0.315  23  0"
            ]
          },
          "metadata": {
            "tags": []
          },
          "execution_count": 17
        }
      ]
    },
    {
      "cell_type": "code",
      "metadata": {
        "id": "aQicf6sCdIFY",
        "colab_type": "code",
        "colab": {}
      },
      "source": [
        "import requests\n",
        "import io"
      ],
      "execution_count": 0,
      "outputs": []
    },
    {
      "cell_type": "code",
      "metadata": {
        "id": "Nj2mL_xPeG4-",
        "colab_type": "code",
        "colab": {}
      },
      "source": [
        "#higgs UCI dataset\n",
        "url = 'https://archive.ics.uci.edu/ml/machine-learning-databases/00280/HIGGS.csv.gz'"
      ],
      "execution_count": 0,
      "outputs": []
    },
    {
      "cell_type": "code",
      "metadata": {
        "id": "U57mYk-TeLn0",
        "colab_type": "code",
        "colab": {}
      },
      "source": [
        "higgs = requests.get(url)"
      ],
      "execution_count": 0,
      "outputs": []
    },
    {
      "cell_type": "code",
      "metadata": {
        "id": "MKavep6WeNbr",
        "colab_type": "code",
        "colab": {}
      },
      "source": [
        "filename = url.split(\"/\")[-1]\n",
        "with open(filename, \"wb\") as f:\n",
        "\n",
        "    f.write(higgs.content)"
      ],
      "execution_count": 0,
      "outputs": []
    },
    {
      "cell_type": "code",
      "metadata": {
        "id": "M6uQAXbUeX6S",
        "colab_type": "code",
        "colab": {}
      },
      "source": [
        "data = dd.read_csv(\"HIGGS.csv.gz\", header = None, compression='gzip', blocksize=None)"
      ],
      "execution_count": 0,
      "outputs": []
    },
    {
      "cell_type": "code",
      "metadata": {
        "id": "OEj_7EAVfSzw",
        "colab_type": "code",
        "colab": {}
      },
      "source": [
        "from sklearn.preprocessing import StandardScaler\n",
        "\n",
        "from sklearn.cluster import DBSCAN\n",
        "\n",
        "from sklearn.manifold import TSNE\n",
        "\n",
        "import seaborn as sns\n",
        "\n",
        "import numpy as np\n",
        "\n",
        "from matplotlib import pyplot as plt"
      ],
      "execution_count": 0,
      "outputs": []
    },
    {
      "cell_type": "code",
      "metadata": {
        "id": "GRh87K6BbA9E",
        "colab_type": "code",
        "outputId": "26454c87-10a8-4699-e2f5-6d4ff08b4b8c",
        "colab": {
          "base_uri": "https://localhost:8080/",
          "height": 496
        }
      },
      "source": [
        "standardized_data = StandardScaler().fit_transform(df.drop(columns = ['Unnamed: 0','0']))\n",
        "\n",
        "data_selected= standardized_data[0:1000,:]\n",
        "\n",
        "labels_selected = df['0'][0:1000]\n",
        "\n",
        "model = TSNE(n_components=2, random_state=0, n_iter=5000, perplexity=90)\n",
        "\n",
        "tsne_data = model.fit_transform(data_selected)\n",
        "\n",
        "tsne_data = np.vstack((tsne_data.T, labels_selected)).T\n",
        "\n",
        "tsne_df = pd.DataFrame(data=tsne_data, columns=(\"Dim_1\", \"Dim_2\", \"label\"))\n",
        "\n",
        "sns.FacetGrid(tsne_df, hue=\"label\", size=6).map(plt.scatter, 'Dim_1', 'Dim_2').add_legend()\n",
        "\n",
        "plt.show()"
      ],
      "execution_count": 0,
      "outputs": [
        {
          "output_type": "stream",
          "text": [
            "/usr/local/lib/python3.6/dist-packages/seaborn/axisgrid.py:243: UserWarning: The `size` parameter has been renamed to `height`; please update your code.\n",
            "  warnings.warn(msg, UserWarning)\n"
          ],
          "name": "stderr"
        },
        {
          "output_type": "display_data",
          "data": {
            "image/png": "[encoded data removed]",
            "text/plain": [
              "<Figure size 483.875x432 with 1 Axes>"
            ]
          },
          "metadata": {
            "tags": []
          }
        }
      ]
    },
    {
      "cell_type": "code",
      "metadata": {
        "id": "BaTmgHTQoVDk",
        "colab_type": "code",
        "outputId": "c136170c-92e8-4510-9cc8-bc77f96814e1",
        "colab": {
          "base_uri": "https://localhost:8080/",
          "height": 496
        }
      },
      "source": [
        "# Maybe there are some clusters???!?! lets do a uniform sampling from data\n",
        "\n",
        "from numpy.random import uniform\n",
        "\n",
        "indices = uniform(0,standardized_data.shape[0], 5000)\n",
        "\n",
        "indices_list = [int(x) for x in indices]\n",
        "\n",
        "sampled_data = standardized_data[indices_list,]\n",
        "\n",
        "sampled_target = df['0'][indices_list] \n",
        "\n",
        " \n",
        "\n",
        " \n",
        "\n",
        "# In[9]:\n",
        "\n",
        " \n",
        "\n",
        " \n",
        "\n",
        "model = TSNE(n_components=2, random_state=0, n_iter=5000, perplexity=90)\n",
        "\n",
        " \n",
        "\n",
        "tsne_data = model.fit_transform(sampled_data)\n",
        "\n",
        "tsne_data = np.vstack((tsne_data.T, sampled_target)).T\n",
        "\n",
        "tsne_df = pd.DataFrame(data=tsne_data, columns=(\"Dim_1\", \"Dim_2\", \"label\"))\n",
        "\n",
        " \n",
        "\n",
        "sns.FacetGrid(tsne_df, hue=\"label\", size=6)     .map(plt.scatter, 'Dim_1', 'Dim_2').add_legend()\n",
        "\n",
        "    \n",
        "\n",
        "plt.show()"
      ],
      "execution_count": 0,
      "outputs": [
        {
          "output_type": "stream",
          "text": [
            "/usr/local/lib/python3.6/dist-packages/seaborn/axisgrid.py:243: UserWarning: The `size` parameter has been renamed to `height`; please update your code.\n",
            "  warnings.warn(msg, UserWarning)\n"
          ],
          "name": "stderr"
        },
        {
          "output_type": "display_data",
          "data": {
            "image/png": "[encoded data removed]",
            "text/plain": [
              "<Figure size 483.875x432 with 1 Axes>"
            ]
          },
          "metadata": {
            "tags": []
          }
        }
      ]
    },
    {
      "cell_type": "code",
      "metadata": {
        "id": "FS9xI2eQvjJx",
        "colab_type": "code",
        "colab": {}
      },
      "source": [
        "import pandas as pd\n",
        "import lightgbm as lgb\n",
        "import numpy as np\n",
        "from sklearn.model_selection import train_test_split\n",
        "from sklearn.metrics import auc, accuracy_score, roc_auc_score, roc_curve\n",
        "from sklearn.model_selection import GridSearchCV\n",
        "\n",
        "MAX_EVALS = 500\n",
        "N_FOLDS = 10"
      ],
      "execution_count": 0,
      "outputs": []
    },
    {
      "cell_type": "code",
      "metadata": {
        "id": "RZ6h3VKituW8",
        "colab_type": "code",
        "colab": {}
      },
      "source": [
        "df = pd.read_csv(\"drive/My Drive/Colab Notebooks/train_test_files_sample.csv\")"
      ],
      "execution_count": 0,
      "outputs": []
    },
    {
      "cell_type": "code",
      "metadata": {
        "id": "R05T0i_6vrg5",
        "colab_type": "code",
        "outputId": "fc9f55e2-0ec1-488e-9b8c-c55fccef8d75",
        "colab": {
          "base_uri": "https://localhost:8080/",
          "height": 217
        }
      },
      "source": [
        "df.drop( columns='Unnamed: 0', inplace =True)\n",
        "df.head()"
      ],
      "execution_count": 0,
      "outputs": [
        {
          "output_type": "execute_result",
          "data": {
            "text/html": [
              "<div>\n",
              "<style scoped>\n",
              "    .dataframe tbody tr th:only-of-type {\n",
              "        vertical-align: middle;\n",
              "    }\n",
              "\n",
              "    .dataframe tbody tr th {\n",
              "        vertical-align: top;\n",
              "    }\n",
              "\n",
              "    .dataframe thead th {\n",
              "        text-align: right;\n",
              "    }\n",
              "</style>\n",
              "<table border=\"1\" class=\"dataframe\">\n",
              "  <thead>\n",
              "    <tr style=\"text-align: right;\">\n",
              "      <th></th>\n",
              "      <th>0</th>\n",
              "      <th>1</th>\n",
              "      <th>2</th>\n",
              "      <th>3</th>\n",
              "      <th>4</th>\n",
              "      <th>5</th>\n",
              "      <th>6</th>\n",
              "      <th>7</th>\n",
              "      <th>8</th>\n",
              "      <th>9</th>\n",
              "      <th>10</th>\n",
              "      <th>11</th>\n",
              "      <th>12</th>\n",
              "      <th>13</th>\n",
              "      <th>14</th>\n",
              "      <th>15</th>\n",
              "      <th>16</th>\n",
              "      <th>17</th>\n",
              "      <th>18</th>\n",
              "      <th>19</th>\n",
              "      <th>20</th>\n",
              "      <th>21</th>\n",
              "      <th>22</th>\n",
              "      <th>23</th>\n",
              "      <th>24</th>\n",
              "      <th>25</th>\n",
              "      <th>26</th>\n",
              "      <th>27</th>\n",
              "      <th>28</th>\n",
              "    </tr>\n",
              "  </thead>\n",
              "  <tbody>\n",
              "    <tr>\n",
              "      <th>0</th>\n",
              "      <td>1.0</td>\n",
              "      <td>0.848430</td>\n",
              "      <td>0.851195</td>\n",
              "      <td>1.723261</td>\n",
              "      <td>0.161712</td>\n",
              "      <td>-0.688872</td>\n",
              "      <td>1.038643</td>\n",
              "      <td>0.045525</td>\n",
              "      <td>0.627159</td>\n",
              "      <td>2.173076</td>\n",
              "      <td>1.407727</td>\n",
              "      <td>0.417751</td>\n",
              "      <td>-0.850205</td>\n",
              "      <td>2.214872</td>\n",
              "      <td>0.472597</td>\n",
              "      <td>-0.042609</td>\n",
              "      <td>-1.730974</td>\n",
              "      <td>0.000000</td>\n",
              "      <td>0.681297</td>\n",
              "      <td>-0.951545</td>\n",
              "      <td>1.241732</td>\n",
              "      <td>0.000000</td>\n",
              "      <td>0.455958</td>\n",
              "      <td>0.951264</td>\n",
              "      <td>0.979708</td>\n",
              "      <td>0.929979</td>\n",
              "      <td>1.762546</td>\n",
              "      <td>0.951372</td>\n",
              "      <td>0.784570</td>\n",
              "    </tr>\n",
              "    <tr>\n",
              "      <th>1</th>\n",
              "      <td>1.0</td>\n",
              "      <td>0.410672</td>\n",
              "      <td>-2.304464</td>\n",
              "      <td>-0.638889</td>\n",
              "      <td>0.527247</td>\n",
              "      <td>-1.053383</td>\n",
              "      <td>0.895186</td>\n",
              "      <td>-1.603208</td>\n",
              "      <td>0.307285</td>\n",
              "      <td>0.000000</td>\n",
              "      <td>1.151513</td>\n",
              "      <td>-1.087878</td>\n",
              "      <td>-1.507679</td>\n",
              "      <td>2.214872</td>\n",
              "      <td>1.197562</td>\n",
              "      <td>-0.862743</td>\n",
              "      <td>-0.497240</td>\n",
              "      <td>0.000000</td>\n",
              "      <td>1.798049</td>\n",
              "      <td>-1.144760</td>\n",
              "      <td>0.791698</td>\n",
              "      <td>3.101961</td>\n",
              "      <td>0.890829</td>\n",
              "      <td>0.959105</td>\n",
              "      <td>0.981807</td>\n",
              "      <td>0.861394</td>\n",
              "      <td>1.151072</td>\n",
              "      <td>0.784608</td>\n",
              "      <td>0.696082</td>\n",
              "    </tr>\n",
              "    <tr>\n",
              "      <th>2</th>\n",
              "      <td>1.0</td>\n",
              "      <td>0.709160</td>\n",
              "      <td>-0.128618</td>\n",
              "      <td>-1.454535</td>\n",
              "      <td>0.742821</td>\n",
              "      <td>-1.734547</td>\n",
              "      <td>1.343786</td>\n",
              "      <td>-0.489199</td>\n",
              "      <td>-0.091968</td>\n",
              "      <td>2.173076</td>\n",
              "      <td>0.714880</td>\n",
              "      <td>-1.224842</td>\n",
              "      <td>-1.174781</td>\n",
              "      <td>0.000000</td>\n",
              "      <td>1.407254</td>\n",
              "      <td>-1.296932</td>\n",
              "      <td>0.773761</td>\n",
              "      <td>1.274112</td>\n",
              "      <td>0.434482</td>\n",
              "      <td>0.833195</td>\n",
              "      <td>1.613523</td>\n",
              "      <td>0.000000</td>\n",
              "      <td>1.093998</td>\n",
              "      <td>1.154499</td>\n",
              "      <td>0.981247</td>\n",
              "      <td>1.533215</td>\n",
              "      <td>1.461229</td>\n",
              "      <td>1.360782</td>\n",
              "      <td>1.142573</td>\n",
              "    </tr>\n",
              "    <tr>\n",
              "      <th>3</th>\n",
              "      <td>1.0</td>\n",
              "      <td>1.263129</td>\n",
              "      <td>0.968071</td>\n",
              "      <td>1.659452</td>\n",
              "      <td>0.827597</td>\n",
              "      <td>1.260435</td>\n",
              "      <td>0.666443</td>\n",
              "      <td>-0.663480</td>\n",
              "      <td>0.199182</td>\n",
              "      <td>1.086538</td>\n",
              "      <td>0.908897</td>\n",
              "      <td>-0.709042</td>\n",
              "      <td>-0.871844</td>\n",
              "      <td>2.214872</td>\n",
              "      <td>0.541441</td>\n",
              "      <td>0.036583</td>\n",
              "      <td>1.584784</td>\n",
              "      <td>0.000000</td>\n",
              "      <td>0.946854</td>\n",
              "      <td>0.368480</td>\n",
              "      <td>0.353318</td>\n",
              "      <td>0.000000</td>\n",
              "      <td>0.725245</td>\n",
              "      <td>0.869467</td>\n",
              "      <td>0.989487</td>\n",
              "      <td>1.179879</td>\n",
              "      <td>0.942378</td>\n",
              "      <td>0.991208</td>\n",
              "      <td>0.796980</td>\n",
              "    </tr>\n",
              "    <tr>\n",
              "      <th>4</th>\n",
              "      <td>0.0</td>\n",
              "      <td>1.665200</td>\n",
              "      <td>0.462581</td>\n",
              "      <td>-0.157267</td>\n",
              "      <td>0.741436</td>\n",
              "      <td>0.905371</td>\n",
              "      <td>0.597279</td>\n",
              "      <td>0.097017</td>\n",
              "      <td>0.676499</td>\n",
              "      <td>0.000000</td>\n",
              "      <td>0.915067</td>\n",
              "      <td>0.879153</td>\n",
              "      <td>1.472418</td>\n",
              "      <td>2.214872</td>\n",
              "      <td>0.997178</td>\n",
              "      <td>0.380657</td>\n",
              "      <td>-1.340995</td>\n",
              "      <td>2.548224</td>\n",
              "      <td>1.048841</td>\n",
              "      <td>0.466753</td>\n",
              "      <td>-0.834855</td>\n",
              "      <td>0.000000</td>\n",
              "      <td>1.036636</td>\n",
              "      <td>0.859889</td>\n",
              "      <td>1.259423</td>\n",
              "      <td>1.044747</td>\n",
              "      <td>0.629774</td>\n",
              "      <td>0.796595</td>\n",
              "      <td>0.715983</td>\n",
              "    </tr>\n",
              "  </tbody>\n",
              "</table>\n",
              "</div>"
            ],
            "text/plain": [
              "     0         1         2         3  ...        25        26        27        28\n",
              "0  1.0  0.848430  0.851195  1.723261  ...  0.929979  1.762546  0.951372  0.784570\n",
              "1  1.0  0.410672 -2.304464 -0.638889  ...  0.861394  1.151072  0.784608  0.696082\n",
              "2  1.0  0.709160 -0.128618 -1.454535  ...  1.533215  1.461229  1.360782  1.142573\n",
              "3  1.0  1.263129  0.968071  1.659452  ...  1.179879  0.942378  0.991208  0.796980\n",
              "4  0.0  1.665200  0.462581 -0.157267  ...  1.044747  0.629774  0.796595  0.715983\n",
              "\n",
              "[5 rows x 29 columns]"
            ]
          },
          "metadata": {
            "tags": []
          },
          "execution_count": 95
        }
      ]
    },
    {
      "cell_type": "code",
      "metadata": {
        "id": "MkFCq0lTxMb6",
        "colab_type": "code",
        "outputId": "54fb620a-206f-4628-923e-a0537e4cde2e",
        "colab": {
          "base_uri": "https://localhost:8080/",
          "height": 34
        }
      },
      "source": [
        "df.shape"
      ],
      "execution_count": 0,
      "outputs": [
        {
          "output_type": "execute_result",
          "data": {
            "text/plain": [
              "(1050000, 29)"
            ]
          },
          "metadata": {
            "tags": []
          },
          "execution_count": 8
        }
      ]
    },
    {
      "cell_type": "code",
      "metadata": {
        "id": "wwIK0jv_vMwR",
        "colab_type": "code",
        "colab": {}
      },
      "source": [
        "\n",
        "train_X, val_X, train_y, val_y = train_test_split( df.drop(columns = '0'), df['0'], random_state = 30, train_size = 0.95)"
      ],
      "execution_count": 0,
      "outputs": []
    },
    {
      "cell_type": "code",
      "metadata": {
        "id": "D3N28yE_xf-G",
        "colab_type": "code",
        "outputId": "89dd4af9-d576-4a2b-872f-df10da8dcf26",
        "colab": {
          "base_uri": "https://localhost:8080/",
          "height": 34
        }
      },
      "source": [
        "train_X.shape, val_X.shape"
      ],
      "execution_count": 0,
      "outputs": [
        {
          "output_type": "execute_result",
          "data": {
            "text/plain": [
              "((997500, 28), (52500, 28))"
            ]
          },
          "metadata": {
            "tags": []
          },
          "execution_count": 6
        }
      ]
    },
    {
      "cell_type": "code",
      "metadata": {
        "id": "dMX6laG8xs-A",
        "colab_type": "code",
        "colab": {}
      },
      "source": [
        "# drop last columns\n",
        "\n",
        "def col_keep(df):\n",
        "  return df.drop(columns = list(map(str,range(22,29))), inplace = True) # removing 7 last columns\n"
      ],
      "execution_count": 0,
      "outputs": []
    },
    {
      "cell_type": "code",
      "metadata": {
        "id": "XQhoyeZYzkWu",
        "colab_type": "code",
        "colab": {}
      },
      "source": [
        "col_keep(train_X)\n",
        "col_keep(val_X)"
      ],
      "execution_count": 0,
      "outputs": []
    },
    {
      "cell_type": "code",
      "metadata": {
        "id": "pmgzStKsLYr0",
        "colab_type": "code",
        "colab": {}
      },
      "source": [
        "# creating lgb dataset\n",
        "\n",
        "train_set = lgb.Dataset(data=train_X, label = train_y)"
      ],
      "execution_count": 0,
      "outputs": []
    },
    {
      "cell_type": "code",
      "metadata": {
        "id": "aFf3gd7RLYeI",
        "colab_type": "code",
        "colab": {}
      },
      "source": [
        ""
      ],
      "execution_count": 0,
      "outputs": []
    },
    {
      "cell_type": "markdown",
      "metadata": {
        "id": "M8QxgfWJNan1",
        "colab_type": "text"
      },
      "source": [
        "# Hyperopt Light GBM"
      ]
    },
    {
      "cell_type": "code",
      "metadata": {
        "id": "fRk7-9T9cIqA",
        "colab_type": "code",
        "colab": {}
      },
      "source": [
        "import csv\n",
        "from hyperopt import STATUS_OK\n",
        "from timeit import default_timer as timer\n",
        "\n",
        "def objective(params, n_folds = N_FOLDS):\n",
        "    \"\"\"Objective function for Gradient Boosting Machine Hyperparameter Optimization\"\"\"\n",
        "    \n",
        "    # Keep track of evals\n",
        "    global ITERATION\n",
        "    \n",
        "    ITERATION += 1\n",
        "    \n",
        "    # Retrieve the subsample if present otherwise set to 1.0\n",
        "    subsample = params['boosting_type'].get('subsample', 1.0)\n",
        "    \n",
        "    # Extract the boosting type\n",
        "    params['boosting_type'] = params['boosting_type']['boosting_type']\n",
        "    params['subsample'] = subsample\n",
        "    \n",
        "    # Make sure parameters that need to be integers are integers\n",
        "    for parameter_name in ['num_leaves', 'subsample_for_bin', 'min_child_samples']:\n",
        "        params[parameter_name] = int(params[parameter_name])\n",
        "    \n",
        "    start = timer()\n",
        "    \n",
        "    # Perform n_folds cross validation\n",
        "    cv_results = lgb.cv(params, train_set, num_boost_round = 10000, nfold = n_folds, \n",
        "                        early_stopping_rounds = 100, metrics = 'auc', seed = 50)\n",
        "    \n",
        "    run_time = timer() - start\n",
        "    \n",
        "    # Extract the best score\n",
        "    best_score = np.max(cv_results['auc-mean'])\n",
        "    \n",
        "    # Loss must be minimized\n",
        "    loss = 1 - best_score\n",
        "    \n",
        "    # Boosting rounds that returned the highest cv score\n",
        "    n_estimators = int(np.argmax(cv_results['auc-mean']) + 1)\n",
        "\n",
        "    # Write to the csv file ('a' means append)\n",
        "    of_connection = open(out_file, 'a')\n",
        "    writer = csv.writer(of_connection)\n",
        "    writer.writerow([loss, params, ITERATION, n_estimators, run_time])\n",
        "    \n",
        "    # Dictionary with information for evaluation\n",
        "    return {'loss': loss, 'params': params, 'iteration': ITERATION,\n",
        "            'estimators': n_estimators, \n",
        "            'train_time': run_time, 'status': STATUS_OK}"
      ],
      "execution_count": 0,
      "outputs": []
    },
    {
      "cell_type": "code",
      "metadata": {
        "id": "_TZWdZs7MwTx",
        "colab_type": "code",
        "colab": {}
      },
      "source": [
        "# Domain Space\n",
        "from hyperopt import hp\n",
        "from hyperopt.pyll.stochastic import sample"
      ],
      "execution_count": 0,
      "outputs": []
    },
    {
      "cell_type": "code",
      "metadata": {
        "id": "lxKyBLiPNrdr",
        "colab_type": "code",
        "outputId": "3d12d177-3d94-4c70-fd5e-7ebce2809459",
        "colab": {
          "base_uri": "https://localhost:8080/",
          "height": 34
        }
      },
      "source": [
        "# boosting type domain \n",
        "boosting_type = {'boosting_type': hp.choice('boosting_type', \n",
        "                                            [{'boosting_type': 'gbdt', 'subsample': hp.uniform('subsample', 0.5, 1)}, \n",
        "                                             {'boosting_type': 'dart', 'subsample': hp.uniform('subsample', 0.5, 1)},\n",
        "                                             {'boosting_type': 'goss', 'subsample': 1.0}])}\n",
        "\n",
        "# Draw a sample\n",
        "params = sample(boosting_type)\n",
        "params"
      ],
      "execution_count": 0,
      "outputs": [
        {
          "output_type": "execute_result",
          "data": {
            "text/plain": [
              "{'boosting_type': {'boosting_type': 'dart', 'subsample': 0.975645914147544}}"
            ]
          },
          "metadata": {
            "tags": []
          },
          "execution_count": 69
        }
      ]
    },
    {
      "cell_type": "code",
      "metadata": {
        "id": "FOzSl6T6N5LR",
        "colab_type": "code",
        "outputId": "8c2e3678-e84a-40c4-dcb2-0cd1d7bd8a1c",
        "colab": {
          "base_uri": "https://localhost:8080/",
          "height": 34
        }
      },
      "source": [
        "# Retrieve the subsample if present otherwise set to 1.0\n",
        "subsample = params['boosting_type'].get('subsample', 1.0)\n",
        "subsample"
      ],
      "execution_count": 0,
      "outputs": [
        {
          "output_type": "execute_result",
          "data": {
            "text/plain": [
              "0.975645914147544"
            ]
          },
          "metadata": {
            "tags": []
          },
          "execution_count": 70
        }
      ]
    },
    {
      "cell_type": "code",
      "metadata": {
        "id": "pBw7xwAYN0L3",
        "colab_type": "code",
        "outputId": "97ad61f6-ca45-45fc-bdde-39f63b49d841",
        "colab": {
          "base_uri": "https://localhost:8080/",
          "height": 34
        }
      },
      "source": [
        "\n",
        "# Extract the boosting type\n",
        "params['boosting_type'] = params['boosting_type']['boosting_type']\n",
        "params['subsample'] = subsample\n",
        "\n",
        "params"
      ],
      "execution_count": 0,
      "outputs": [
        {
          "output_type": "execute_result",
          "data": {
            "text/plain": [
              "{'boosting_type': 'dart', 'subsample': 0.975645914147544}"
            ]
          },
          "metadata": {
            "tags": []
          },
          "execution_count": 71
        }
      ]
    },
    {
      "cell_type": "code",
      "metadata": {
        "id": "KiDvdt9HOsVf",
        "colab_type": "code",
        "colab": {}
      },
      "source": [
        "# Define the search space\n",
        "space = {\n",
        "    'class_weight': hp.choice('class_weight', [None, 'balanced']),\n",
        "    'boosting_type': hp.choice('boosting_type', [{'boosting_type': 'gbdt', 'subsample': hp.uniform('gdbt_subsample', 0.5, 1)}, \n",
        "                                                 {'boosting_type': 'dart', 'subsample': hp.uniform('dart_subsample', 0.5, 1)},\n",
        "                                                 {'boosting_type': 'goss', 'subsample': 1.0}]),\n",
        "    'num_leaves': hp.quniform('num_leaves', 30, 150, 1),\n",
        "    'learning_rate': hp.loguniform('learning_rate', np.log(0.01), np.log(0.2)),\n",
        "    'subsample_for_bin': hp.quniform('subsample_for_bin', 20000, 300000, 20000),\n",
        "    'min_child_samples': hp.quniform('min_child_samples', 20, 500, 5),\n",
        "    'reg_alpha': hp.uniform('reg_alpha', 0.0, 1.0),\n",
        "    'reg_lambda': hp.uniform('reg_lambda', 0.0, 1.0),\n",
        "    'colsample_bytree': hp.uniform('colsample_by_tree', 0.6, 1.0)\n",
        "}"
      ],
      "execution_count": 0,
      "outputs": []
    },
    {
      "cell_type": "code",
      "metadata": {
        "id": "-VJsQ_eTQEy4",
        "colab_type": "code",
        "outputId": "126c058b-4f19-45e0-ba53-6c9cd04ac249",
        "colab": {
          "base_uri": "https://localhost:8080/",
          "height": 194
        }
      },
      "source": [
        "# Sample from the full space\n",
        "x = sample(space)\n",
        "\n",
        "# Conditional logic to assign top-level keys\n",
        "subsample = x['boosting_type'].get('subsample', 1.0)\n",
        "x['boosting_type'] = x['boosting_type']['boosting_type']\n",
        "x['subsample'] = subsample\n",
        "\n",
        "x"
      ],
      "execution_count": 0,
      "outputs": [
        {
          "output_type": "execute_result",
          "data": {
            "text/plain": [
              "{'boosting_type': 'goss',\n",
              " 'class_weight': None,\n",
              " 'colsample_bytree': 0.6261625254078848,\n",
              " 'learning_rate': 0.01173368105126703,\n",
              " 'min_child_samples': 450.0,\n",
              " 'num_leaves': 39.0,\n",
              " 'reg_alpha': 0.0015772316716105017,\n",
              " 'reg_lambda': 0.018198287665094237,\n",
              " 'subsample': 1.0,\n",
              " 'subsample_for_bin': 180000.0}"
            ]
          },
          "metadata": {
            "tags": []
          },
          "execution_count": 73
        }
      ]
    },
    {
      "cell_type": "code",
      "metadata": {
        "id": "jSgc_4_9QH57",
        "colab_type": "code",
        "outputId": "0f7fdf04-9c9f-49e2-bee0-5352845331f1",
        "colab": {
          "base_uri": "https://localhost:8080/",
          "height": 194
        }
      },
      "source": [
        "x = sample(space)\n",
        "subsample = x['boosting_type'].get('subsample', 1.0)\n",
        "x['boosting_type'] = x['boosting_type']['boosting_type']\n",
        "x['subsample'] = subsample\n",
        "x"
      ],
      "execution_count": 0,
      "outputs": [
        {
          "output_type": "execute_result",
          "data": {
            "text/plain": [
              "{'boosting_type': 'gbdt',\n",
              " 'class_weight': None,\n",
              " 'colsample_bytree': 0.9260183421830002,\n",
              " 'learning_rate': 0.03917451392352638,\n",
              " 'min_child_samples': 320.0,\n",
              " 'num_leaves': 98.0,\n",
              " 'reg_alpha': 0.7920612615394762,\n",
              " 'reg_lambda': 0.6625693121010152,\n",
              " 'subsample': 0.5804996219483882,\n",
              " 'subsample_for_bin': 280000.0}"
            ]
          },
          "metadata": {
            "tags": []
          },
          "execution_count": 74
        }
      ]
    },
    {
      "cell_type": "code",
      "metadata": {
        "id": "OyK1CwneQLgz",
        "colab_type": "code",
        "colab": {}
      },
      "source": [
        "\n",
        "from hyperopt import tpe\n",
        "\n",
        "# optimization algorithm\n",
        "tpe_algorithm = tpe.suggest"
      ],
      "execution_count": 0,
      "outputs": []
    },
    {
      "cell_type": "code",
      "metadata": {
        "id": "VYV6lRGcQOXV",
        "colab_type": "code",
        "colab": {}
      },
      "source": [
        "from hyperopt import Trials\n",
        "\n",
        "# Keep track of results\n",
        "bayes_trials = Trials()"
      ],
      "execution_count": 0,
      "outputs": []
    },
    {
      "cell_type": "code",
      "metadata": {
        "id": "BAmyUfm6Qk2j",
        "colab_type": "code",
        "outputId": "c7e241f1-26bb-41e6-817b-11e6e07380e1",
        "colab": {
          "base_uri": "https://localhost:8080/",
          "height": 52
        }
      },
      "source": [
        "! cat> gbm_trial.csv"
      ],
      "execution_count": 0,
      "outputs": [
        {
          "output_type": "stream",
          "text": [
            "ok\n",
            "^C\n"
          ],
          "name": "stdout"
        }
      ]
    },
    {
      "cell_type": "code",
      "metadata": {
        "id": "uCxmC8IXQRMG",
        "colab_type": "code",
        "colab": {}
      },
      "source": [
        "# File to save first results\n",
        "out_file = 'gbm_trials.csv'\n",
        "of_connection = open(out_file, 'w')\n",
        "writer = csv.writer(of_connection)\n",
        "\n",
        "# Write the headers to the file\n",
        "writer.writerow(['loss', 'params', 'iteration', 'estimators', 'train_time'])\n",
        "of_connection.close()"
      ],
      "execution_count": 0,
      "outputs": []
    },
    {
      "cell_type": "code",
      "metadata": {
        "id": "q-5eu5OyQTWl",
        "colab_type": "code",
        "outputId": "643c15b9-2c1a-4b70-c19a-6a0a478f6e78",
        "colab": {
          "base_uri": "https://localhost:8080/",
          "height": 34
        }
      },
      "source": [
        "from hyperopt import fmin\n",
        "\n",
        "# Global variable\n",
        "global  ITERATION\n",
        "\n",
        "ITERATION = 0\n",
        "\n",
        "# Run optimization\n",
        "best = fmin(fn = objective, space = space, algo = tpe.suggest, \n",
        "            max_evals = MAX_EVALS, trials = bayes_trials, rstate = np.random.RandomState(50))"
      ],
      "execution_count": 0,
      "outputs": [
        {
          "output_type": "stream",
          "text": [
            "100%|██████████| 3/3 [2:02:02<00:00, 1628.07s/it, best loss: 0.23499570683561077]\n"
          ],
          "name": "stdout"
        }
      ]
    },
    {
      "cell_type": "code",
      "metadata": {
        "id": "jx_iqAoeRAr4",
        "colab_type": "code",
        "outputId": "8172d797-1cbf-4764-a736-7aaac9860837",
        "colab": {
          "base_uri": "https://localhost:8080/",
          "height": 34
        }
      },
      "source": [
        "#reference link\n",
        "https://github.com/WillKoehrsen/hyperparameter-optimization"
      ],
      "execution_count": 0,
      "outputs": [
        {
          "output_type": "execute_result",
          "data": {
            "text/plain": [
              "pandas.core.series.Series"
            ]
          },
          "metadata": {
            "tags": []
          },
          "execution_count": 92
        }
      ]
    },
    {
      "cell_type": "code",
      "metadata": {
        "id": "B9VtpHUkSTaq",
        "colab_type": "code",
        "outputId": "f2280ac3-c62a-431b-99ff-3a370131db74",
        "colab": {
          "base_uri": "https://localhost:8080/",
          "height": 194
        }
      },
      "source": [
        "best"
      ],
      "execution_count": 0,
      "outputs": [
        {
          "output_type": "execute_result",
          "data": {
            "text/plain": [
              "{'boosting_type': 0,\n",
              " 'class_weight': 1,\n",
              " 'colsample_by_tree': 0.8970523178797932,\n",
              " 'gdbt_subsample': 0.6614743075688195,\n",
              " 'learning_rate': 0.035742378218536576,\n",
              " 'min_child_samples': 45.0,\n",
              " 'num_leaves': 138.0,\n",
              " 'reg_alpha': 0.5005020213127344,\n",
              " 'reg_lambda': 0.45121616279208887,\n",
              " 'subsample_for_bin': 260000.0}"
            ]
          },
          "metadata": {
            "tags": []
          },
          "execution_count": 104
        }
      ]
    },
    {
      "cell_type": "code",
      "metadata": {
        "id": "SBgVtCchE_b4",
        "colab_type": "code",
        "outputId": "83da08bc-3b0a-4690-e285-d7a703edd3d9",
        "colab": {
          "base_uri": "https://localhost:8080/",
          "height": 34
        }
      },
      "source": [
        "ITERATION = 0\n",
        "\n",
        "# Run optimization\n",
        "best = fmin(fn = objective, space = space, algo = tpe.suggest, \n",
        "            max_evals = MAX_EVALS, trials = bayes_trials, rstate = np.random.RandomState(50))"
      ],
      "execution_count": 0,
      "outputs": [
        {
          "output_type": "stream",
          "text": [
            "  1%|          | 4/490 [2:06:02<162:30:29, 1203.76s/it, best loss: 0.23499570683561077]"
          ],
          "name": "stdout"
        }
      ]
    },
    {
      "cell_type": "code",
      "metadata": {
        "id": "I7Gpw73uMTyw",
        "colab_type": "code",
        "colab": {}
      },
      "source": [
        ""
      ],
      "execution_count": 0,
      "outputs": []
    }
  ]
}